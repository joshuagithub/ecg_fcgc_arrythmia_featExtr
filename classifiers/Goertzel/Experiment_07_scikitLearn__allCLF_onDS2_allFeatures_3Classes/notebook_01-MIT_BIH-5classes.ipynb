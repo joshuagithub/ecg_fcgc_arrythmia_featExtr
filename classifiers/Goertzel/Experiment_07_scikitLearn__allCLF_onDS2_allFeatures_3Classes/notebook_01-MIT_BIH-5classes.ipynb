{
 "cells": [
  {
   "cell_type": "code",
   "execution_count": 23,
   "metadata": {
    "collapsed": true
   },
   "outputs": [],
   "source": [
    "import pandas as pd\n",
    "import numpy as np\n",
    "import matplotlib.pyplot as plt\n",
    "from sklearn import preprocessing\n",
    "from sklearn import metrics\n",
    "import os\n",
    "\n",
    "from experiment import *"
   ]
  },
  {
   "cell_type": "markdown",
   "metadata": {},
   "source": [
    "# Load data ** Chose your path before get stated **"
   ]
  },
  {
   "cell_type": "code",
   "execution_count": 24,
   "metadata": {},
   "outputs": [],
   "source": [
    "path = os.getcwd()\n",
    "rootDir, _ = path.split('ECG-Arritmia-Paper1')\n",
    "path = 'ECG-Arritmia-Paper1/Database_extracted/Dataset_with_features'\n",
    "filename = 'MIT-BIH__DS2_3classes__Goertzel.csv'\n",
    "dataset_DS2 = pd.read_csv(os.path.join(rootDir, path, filename));\n",
    "\n",
    "filename = 'MIT-BIH__DS1_3classes__Goertzel.csv'\n",
    "dataset_DS1 = pd.read_csv(os.path.join(rootDir, path, filename));"
   ]
  },
  {
   "cell_type": "code",
   "execution_count": 25,
   "metadata": {},
   "outputs": [
    {
     "data": {
      "text/html": [
       "<div>\n",
       "<style>\n",
       "    .dataframe thead tr:only-child th {\n",
       "        text-align: right;\n",
       "    }\n",
       "\n",
       "    .dataframe thead th {\n",
       "        text-align: left;\n",
       "    }\n",
       "\n",
       "    .dataframe tbody tr th {\n",
       "        vertical-align: top;\n",
       "    }\n",
       "</style>\n",
       "<table border=\"1\" class=\"dataframe\">\n",
       "  <thead>\n",
       "    <tr style=\"text-align: right;\">\n",
       "      <th></th>\n",
       "      <th>Var1</th>\n",
       "      <th>Var2</th>\n",
       "      <th>Var3</th>\n",
       "      <th>Var4</th>\n",
       "      <th>Var5</th>\n",
       "      <th>Var6</th>\n",
       "      <th>Var7</th>\n",
       "      <th>Var8</th>\n",
       "      <th>Var9</th>\n",
       "      <th>Var10</th>\n",
       "      <th>...</th>\n",
       "      <th>Var24</th>\n",
       "      <th>Var25</th>\n",
       "      <th>Var26</th>\n",
       "      <th>Var27</th>\n",
       "      <th>Var28</th>\n",
       "      <th>Var29</th>\n",
       "      <th>Var30</th>\n",
       "      <th>Var31</th>\n",
       "      <th>Var32</th>\n",
       "      <th>Var33</th>\n",
       "    </tr>\n",
       "  </thead>\n",
       "  <tbody>\n",
       "    <tr>\n",
       "      <th>0</th>\n",
       "      <td>0.151058</td>\n",
       "      <td>0.128256</td>\n",
       "      <td>0.099898</td>\n",
       "      <td>0.083728</td>\n",
       "      <td>0.068214</td>\n",
       "      <td>0.046109</td>\n",
       "      <td>0.026629</td>\n",
       "      <td>0.017688</td>\n",
       "      <td>0.011045</td>\n",
       "      <td>0.009385</td>\n",
       "      <td>...</td>\n",
       "      <td>0.000768</td>\n",
       "      <td>0.001601</td>\n",
       "      <td>0.000325</td>\n",
       "      <td>0.001421</td>\n",
       "      <td>0.001017</td>\n",
       "      <td>0.001651</td>\n",
       "      <td>0.001060</td>\n",
       "      <td>0.000862</td>\n",
       "      <td>0.000547</td>\n",
       "      <td>0</td>\n",
       "    </tr>\n",
       "    <tr>\n",
       "      <th>1</th>\n",
       "      <td>0.147046</td>\n",
       "      <td>0.124114</td>\n",
       "      <td>0.094705</td>\n",
       "      <td>0.077863</td>\n",
       "      <td>0.059560</td>\n",
       "      <td>0.042234</td>\n",
       "      <td>0.025960</td>\n",
       "      <td>0.013447</td>\n",
       "      <td>0.011329</td>\n",
       "      <td>0.006718</td>\n",
       "      <td>...</td>\n",
       "      <td>0.000888</td>\n",
       "      <td>0.000654</td>\n",
       "      <td>0.000932</td>\n",
       "      <td>0.001443</td>\n",
       "      <td>0.000800</td>\n",
       "      <td>0.000732</td>\n",
       "      <td>0.000521</td>\n",
       "      <td>0.000157</td>\n",
       "      <td>0.000781</td>\n",
       "      <td>0</td>\n",
       "    </tr>\n",
       "    <tr>\n",
       "      <th>2</th>\n",
       "      <td>0.168356</td>\n",
       "      <td>0.139827</td>\n",
       "      <td>0.106008</td>\n",
       "      <td>0.084504</td>\n",
       "      <td>0.063497</td>\n",
       "      <td>0.040942</td>\n",
       "      <td>0.019961</td>\n",
       "      <td>0.012706</td>\n",
       "      <td>0.006084</td>\n",
       "      <td>0.010158</td>\n",
       "      <td>...</td>\n",
       "      <td>0.001229</td>\n",
       "      <td>0.001054</td>\n",
       "      <td>0.000990</td>\n",
       "      <td>0.000836</td>\n",
       "      <td>0.001372</td>\n",
       "      <td>0.000819</td>\n",
       "      <td>0.000618</td>\n",
       "      <td>0.001440</td>\n",
       "      <td>0.001406</td>\n",
       "      <td>0</td>\n",
       "    </tr>\n",
       "    <tr>\n",
       "      <th>3</th>\n",
       "      <td>0.175502</td>\n",
       "      <td>0.144138</td>\n",
       "      <td>0.109498</td>\n",
       "      <td>0.088609</td>\n",
       "      <td>0.062034</td>\n",
       "      <td>0.037186</td>\n",
       "      <td>0.022075</td>\n",
       "      <td>0.012085</td>\n",
       "      <td>0.008090</td>\n",
       "      <td>0.008089</td>\n",
       "      <td>...</td>\n",
       "      <td>0.000907</td>\n",
       "      <td>0.000763</td>\n",
       "      <td>0.001116</td>\n",
       "      <td>0.001679</td>\n",
       "      <td>0.000606</td>\n",
       "      <td>0.001112</td>\n",
       "      <td>0.000735</td>\n",
       "      <td>0.001248</td>\n",
       "      <td>0.000391</td>\n",
       "      <td>0</td>\n",
       "    </tr>\n",
       "    <tr>\n",
       "      <th>4</th>\n",
       "      <td>0.177210</td>\n",
       "      <td>0.147767</td>\n",
       "      <td>0.114982</td>\n",
       "      <td>0.092439</td>\n",
       "      <td>0.064739</td>\n",
       "      <td>0.038087</td>\n",
       "      <td>0.020698</td>\n",
       "      <td>0.013635</td>\n",
       "      <td>0.007597</td>\n",
       "      <td>0.008840</td>\n",
       "      <td>...</td>\n",
       "      <td>0.001015</td>\n",
       "      <td>0.000333</td>\n",
       "      <td>0.000903</td>\n",
       "      <td>0.001165</td>\n",
       "      <td>0.000636</td>\n",
       "      <td>0.001016</td>\n",
       "      <td>0.000668</td>\n",
       "      <td>0.001149</td>\n",
       "      <td>0.000859</td>\n",
       "      <td>0</td>\n",
       "    </tr>\n",
       "  </tbody>\n",
       "</table>\n",
       "<p>5 rows × 33 columns</p>\n",
       "</div>"
      ],
      "text/plain": [
       "       Var1      Var2      Var3      Var4      Var5      Var6      Var7  \\\n",
       "0  0.151058  0.128256  0.099898  0.083728  0.068214  0.046109  0.026629   \n",
       "1  0.147046  0.124114  0.094705  0.077863  0.059560  0.042234  0.025960   \n",
       "2  0.168356  0.139827  0.106008  0.084504  0.063497  0.040942  0.019961   \n",
       "3  0.175502  0.144138  0.109498  0.088609  0.062034  0.037186  0.022075   \n",
       "4  0.177210  0.147767  0.114982  0.092439  0.064739  0.038087  0.020698   \n",
       "\n",
       "       Var8      Var9     Var10  ...       Var24     Var25     Var26  \\\n",
       "0  0.017688  0.011045  0.009385  ...    0.000768  0.001601  0.000325   \n",
       "1  0.013447  0.011329  0.006718  ...    0.000888  0.000654  0.000932   \n",
       "2  0.012706  0.006084  0.010158  ...    0.001229  0.001054  0.000990   \n",
       "3  0.012085  0.008090  0.008089  ...    0.000907  0.000763  0.001116   \n",
       "4  0.013635  0.007597  0.008840  ...    0.001015  0.000333  0.000903   \n",
       "\n",
       "      Var27     Var28     Var29     Var30     Var31     Var32  Var33  \n",
       "0  0.001421  0.001017  0.001651  0.001060  0.000862  0.000547      0  \n",
       "1  0.001443  0.000800  0.000732  0.000521  0.000157  0.000781      0  \n",
       "2  0.000836  0.001372  0.000819  0.000618  0.001440  0.001406      0  \n",
       "3  0.001679  0.000606  0.001112  0.000735  0.001248  0.000391      0  \n",
       "4  0.001165  0.000636  0.001016  0.000668  0.001149  0.000859      0  \n",
       "\n",
       "[5 rows x 33 columns]"
      ]
     },
     "execution_count": 25,
     "metadata": {},
     "output_type": "execute_result"
    }
   ],
   "source": [
    "dataset_DS1.head()"
   ]
  },
  {
   "cell_type": "code",
   "execution_count": 26,
   "metadata": {},
   "outputs": [
    {
     "data": {
      "text/plain": [
       "(50969, 33)"
      ]
     },
     "execution_count": 26,
     "metadata": {},
     "output_type": "execute_result"
    }
   ],
   "source": [
    "dataset_DS1.shape"
   ]
  },
  {
   "cell_type": "markdown",
   "metadata": {},
   "source": [
    "# Data preprocessing"
   ]
  },
  {
   "cell_type": "code",
   "execution_count": 27,
   "metadata": {},
   "outputs": [],
   "source": [
    "from sklearn.preprocessing import StandardScaler\n",
    "\n",
    "std_scaler = StandardScaler()"
   ]
  },
  {
   "cell_type": "markdown",
   "metadata": {},
   "source": [
    "In this step we are going standardize our dataset. The pipeline.pkl will be loaded, and it contains the weights of normalization onf DS1 set."
   ]
  },
  {
   "cell_type": "code",
   "execution_count": 28,
   "metadata": {},
   "outputs": [],
   "source": [
    "data_std_DS1 = std_scaler.fit_transform(dataset_DS1.values[:,:-1])\n",
    "data_label_DS1 = dataset_DS1.values[:,-1]\n",
    "\n",
    "data_std_DS2 = std_scaler.transform(dataset_DS2.values[:,:-1])\n",
    "data_label_DS2 = dataset_DS2.values[:,-1]"
   ]
  },
  {
   "cell_type": "markdown",
   "metadata": {},
   "source": [
    "# Load classifiers"
   ]
  },
  {
   "cell_type": "code",
   "execution_count": 29,
   "metadata": {},
   "outputs": [],
   "source": [
    "random_search = joblib.load('./Models/classifiers.pkl')"
   ]
  },
  {
   "cell_type": "code",
   "execution_count": 30,
   "metadata": {},
   "outputs": [],
   "source": [
    "from sklearn.externals import joblib\n",
    "\n",
    "random_search = joblib.load('./Models/classifiers.pkl')\n",
    "mlp_clf = random_search['MLP'].best_estimator_\n",
    "svm_clf = random_search['SVM-RBF'].best_estimator_\n",
    "\n",
    "from sklearn.naive_bayes import GaussianNB\n",
    "\n",
    "bayes_clf = GaussianNB()\n",
    "\n",
    "classifiers = {'MLP-238': mlp_clf, 'SVM-RBF': svm_clf, 'Naive-Bayes': bayes_clf}"
   ]
  },
  {
   "cell_type": "markdown",
   "metadata": {},
   "source": [
    "# TRAIN on DS1 and **TEST** on DS2 set"
   ]
  },
  {
   "cell_type": "code",
   "execution_count": 31,
   "metadata": {},
   "outputs": [
    {
     "name": "stdout",
     "output_type": "stream",
     "text": [
      "MLP-238\n",
      "SVM-RBF\n",
      "Naive-Bayes\n"
     ]
    }
   ],
   "source": [
    "clf_outputs = {'true': dict((k, {}) for k in classifiers.keys()), \n",
    "               'pred': dict((k, {}) for k in classifiers.keys())}\n",
    "results = dict((k, {}) for k in classifiers.keys())\n",
    "\n",
    "for clf in classifiers.keys():\n",
    "    classifiers[clf].fit(data_std_DS1, data_label_DS1)\n",
    "        \n",
    "    clf_outputs['true'][clf][0] = data_label_DS2\n",
    "    clf_outputs['pred'][clf][0] = classifiers[clf].predict(data_std_DS2)\n",
    "    \n",
    "    print(clf) "
   ]
  },
  {
   "cell_type": "markdown",
   "metadata": {},
   "source": [
    "# Save results to CSVs and figures"
   ]
  },
  {
   "cell_type": "code",
   "execution_count": 32,
   "metadata": {},
   "outputs": [
    {
     "data": {
      "text/plain": [
       "{'true': {'MLP-238': {0: array([0., 0., 0., ..., 0., 0., 0.])},\n",
       "  'SVM-RBF': {0: array([0., 0., 0., ..., 0., 0., 0.])},\n",
       "  'Naive-Bayes': {0: array([0., 0., 0., ..., 0., 0., 0.])}},\n",
       " 'pred': {'MLP-238': {0: array([0., 0., 0., ..., 0., 0., 0.])},\n",
       "  'SVM-RBF': {0: array([0., 0., 0., ..., 0., 0., 0.])},\n",
       "  'Naive-Bayes': {0: array([1., 1., 1., ..., 0., 0., 1.])}}}"
      ]
     },
     "execution_count": 32,
     "metadata": {},
     "output_type": "execute_result"
    }
   ],
   "source": [
    "clf_outputs"
   ]
  },
  {
   "cell_type": "code",
   "execution_count": 33,
   "metadata": {},
   "outputs": [
    {
     "name": "stderr",
     "output_type": "stream",
     "text": [
      "/home/navar/anaconda3/lib/python3.6/site-packages/sklearn/metrics/classification.py:1135: UndefinedMetricWarning: Precision is ill-defined and being set to 0.0 in labels with no predicted samples.\n",
      "  'precision', 'predicted', average, warn_for)\n",
      "/home/navar/anaconda3/lib/python3.6/site-packages/sklearn/metrics/classification.py:1135: UndefinedMetricWarning: F-score is ill-defined and being set to 0.0 in labels with no predicted samples.\n",
      "  'precision', 'predicted', average, warn_for)\n",
      "/media/navar/LargeData/Navar/Dados_diversos/ECG-01-paper_01/ECG-Arritmia-Paper1/Results_Navar/Goertzel/Experiment_07_scikitLearn__allCLF_onDS2_allFeatures_3Classes/experiment.py:150: RuntimeWarning: invalid value encountered in double_scalars\n",
      "  metrics_class[i,2] = TP / (TP + FP)\n"
     ]
    }
   ],
   "source": [
    "results = results_clf(3, clf_outputs['true'], clf_outputs['pred'])"
   ]
  },
  {
   "cell_type": "code",
   "execution_count": 34,
   "metadata": {},
   "outputs": [
    {
     "name": "stdout",
     "output_type": "stream",
     "text": [
      "MLP-238\n",
      "SVM-RBF\n",
      "Naive-Bayes\n"
     ]
    },
    {
     "name": "stderr",
     "output_type": "stream",
     "text": [
      "/media/navar/LargeData/Navar/Dados_diversos/ECG-01-paper_01/ECG-Arritmia-Paper1/Results_Navar/Goertzel/Experiment_07_scikitLearn__allCLF_onDS2_allFeatures_3Classes/experiment.py:286: RuntimeWarning: invalid value encountered in true_divide\n",
      "  return np.around((confMat / np.sum(confMat,axis=1)[:,None])*100,2)\n"
     ]
    }
   ],
   "source": [
    "export_results(results, 'validation')"
   ]
  },
  {
   "cell_type": "code",
   "execution_count": 35,
   "metadata": {},
   "outputs": [],
   "source": [
    "save_models(classifiers)\n",
    "save_pipeline(std_scaler)"
   ]
  },
  {
   "cell_type": "code",
   "execution_count": null,
   "metadata": {},
   "outputs": [],
   "source": []
  }
 ],
 "metadata": {
  "kernelspec": {
   "display_name": "Python 3",
   "language": "python",
   "name": "python3"
  },
  "language_info": {
   "codemirror_mode": {
    "name": "ipython",
    "version": 3
   },
   "file_extension": ".py",
   "mimetype": "text/x-python",
   "name": "python",
   "nbconvert_exporter": "python",
   "pygments_lexer": "ipython3",
   "version": "3.6.2"
  }
 },
 "nbformat": 4,
 "nbformat_minor": 2
}
