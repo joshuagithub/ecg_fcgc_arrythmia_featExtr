{
 "cells": [
  {
   "cell_type": "code",
   "execution_count": 11,
   "metadata": {
    "collapsed": true
   },
   "outputs": [],
   "source": [
    "import pandas as pd\n",
    "import numpy as np\n",
    "import matplotlib.pyplot as plt\n",
    "from sklearn import preprocessing\n",
    "from sklearn import metrics\n",
    "import os\n",
    "\n",
    "from experiment import *"
   ]
  },
  {
   "cell_type": "markdown",
   "metadata": {},
   "source": [
    "# Load data ** Chose your path before get stated **"
   ]
  },
  {
   "cell_type": "code",
   "execution_count": 12,
   "metadata": {},
   "outputs": [],
   "source": [
    "path = os.getcwd()\n",
    "rootDir, _ = path.split('ECG-Arritmia-Paper1')\n",
    "path = 'ECG-Arritmia-Paper1/Database_extracted/Dataset_with_features'\n",
    "filename = 'MIT-BIH__DS2_5classes__Goertzel.csv'\n",
    "dataset = pd.read_csv(os.path.join(rootDir, path, filename));"
   ]
  },
  {
   "cell_type": "code",
   "execution_count": 13,
   "metadata": {},
   "outputs": [
    {
     "data": {
      "text/html": [
       "<div>\n",
       "<style>\n",
       "    .dataframe thead tr:only-child th {\n",
       "        text-align: right;\n",
       "    }\n",
       "\n",
       "    .dataframe thead th {\n",
       "        text-align: left;\n",
       "    }\n",
       "\n",
       "    .dataframe tbody tr th {\n",
       "        vertical-align: top;\n",
       "    }\n",
       "</style>\n",
       "<table border=\"1\" class=\"dataframe\">\n",
       "  <thead>\n",
       "    <tr style=\"text-align: right;\">\n",
       "      <th></th>\n",
       "      <th>Var1</th>\n",
       "      <th>Var2</th>\n",
       "      <th>Var3</th>\n",
       "      <th>Var4</th>\n",
       "      <th>Var5</th>\n",
       "      <th>Var6</th>\n",
       "      <th>Var7</th>\n",
       "      <th>Var8</th>\n",
       "      <th>Var9</th>\n",
       "      <th>Var10</th>\n",
       "      <th>...</th>\n",
       "      <th>Var24</th>\n",
       "      <th>Var25</th>\n",
       "      <th>Var26</th>\n",
       "      <th>Var27</th>\n",
       "      <th>Var28</th>\n",
       "      <th>Var29</th>\n",
       "      <th>Var30</th>\n",
       "      <th>Var31</th>\n",
       "      <th>Var32</th>\n",
       "      <th>Var33</th>\n",
       "    </tr>\n",
       "  </thead>\n",
       "  <tbody>\n",
       "    <tr>\n",
       "      <th>0</th>\n",
       "      <td>0.096944</td>\n",
       "      <td>0.108457</td>\n",
       "      <td>0.105318</td>\n",
       "      <td>0.084798</td>\n",
       "      <td>0.061510</td>\n",
       "      <td>0.038266</td>\n",
       "      <td>0.025620</td>\n",
       "      <td>0.017342</td>\n",
       "      <td>0.012191</td>\n",
       "      <td>0.007411</td>\n",
       "      <td>...</td>\n",
       "      <td>0.000859</td>\n",
       "      <td>0.000701</td>\n",
       "      <td>0.000510</td>\n",
       "      <td>0.000584</td>\n",
       "      <td>0.000748</td>\n",
       "      <td>0.000531</td>\n",
       "      <td>0.000930</td>\n",
       "      <td>0.000709</td>\n",
       "      <td>0.000391</td>\n",
       "      <td>0</td>\n",
       "    </tr>\n",
       "    <tr>\n",
       "      <th>1</th>\n",
       "      <td>0.138950</td>\n",
       "      <td>0.141066</td>\n",
       "      <td>0.127325</td>\n",
       "      <td>0.091396</td>\n",
       "      <td>0.051916</td>\n",
       "      <td>0.026497</td>\n",
       "      <td>0.012712</td>\n",
       "      <td>0.007062</td>\n",
       "      <td>0.004824</td>\n",
       "      <td>0.002380</td>\n",
       "      <td>...</td>\n",
       "      <td>0.000551</td>\n",
       "      <td>0.000582</td>\n",
       "      <td>0.000436</td>\n",
       "      <td>0.001493</td>\n",
       "      <td>0.000474</td>\n",
       "      <td>0.001178</td>\n",
       "      <td>0.000666</td>\n",
       "      <td>0.000391</td>\n",
       "      <td>0.001563</td>\n",
       "      <td>0</td>\n",
       "    </tr>\n",
       "    <tr>\n",
       "      <th>2</th>\n",
       "      <td>0.110719</td>\n",
       "      <td>0.120428</td>\n",
       "      <td>0.114312</td>\n",
       "      <td>0.099107</td>\n",
       "      <td>0.070298</td>\n",
       "      <td>0.049885</td>\n",
       "      <td>0.031301</td>\n",
       "      <td>0.024168</td>\n",
       "      <td>0.015279</td>\n",
       "      <td>0.014042</td>\n",
       "      <td>...</td>\n",
       "      <td>0.000919</td>\n",
       "      <td>0.000514</td>\n",
       "      <td>0.000456</td>\n",
       "      <td>0.000633</td>\n",
       "      <td>0.000753</td>\n",
       "      <td>0.000268</td>\n",
       "      <td>0.000705</td>\n",
       "      <td>0.000911</td>\n",
       "      <td>0.001172</td>\n",
       "      <td>0</td>\n",
       "    </tr>\n",
       "    <tr>\n",
       "      <th>3</th>\n",
       "      <td>0.106398</td>\n",
       "      <td>0.123849</td>\n",
       "      <td>0.115379</td>\n",
       "      <td>0.090015</td>\n",
       "      <td>0.063167</td>\n",
       "      <td>0.044005</td>\n",
       "      <td>0.030299</td>\n",
       "      <td>0.021928</td>\n",
       "      <td>0.018722</td>\n",
       "      <td>0.008435</td>\n",
       "      <td>...</td>\n",
       "      <td>0.000312</td>\n",
       "      <td>0.001194</td>\n",
       "      <td>0.000493</td>\n",
       "      <td>0.000117</td>\n",
       "      <td>0.000508</td>\n",
       "      <td>0.000501</td>\n",
       "      <td>0.000129</td>\n",
       "      <td>0.001024</td>\n",
       "      <td>0.000859</td>\n",
       "      <td>0</td>\n",
       "    </tr>\n",
       "    <tr>\n",
       "      <th>4</th>\n",
       "      <td>0.094950</td>\n",
       "      <td>0.104976</td>\n",
       "      <td>0.102646</td>\n",
       "      <td>0.089088</td>\n",
       "      <td>0.066788</td>\n",
       "      <td>0.045090</td>\n",
       "      <td>0.028919</td>\n",
       "      <td>0.019888</td>\n",
       "      <td>0.011982</td>\n",
       "      <td>0.009983</td>\n",
       "      <td>...</td>\n",
       "      <td>0.000881</td>\n",
       "      <td>0.000437</td>\n",
       "      <td>0.000709</td>\n",
       "      <td>0.000532</td>\n",
       "      <td>0.000773</td>\n",
       "      <td>0.000179</td>\n",
       "      <td>0.000886</td>\n",
       "      <td>0.000564</td>\n",
       "      <td>0.000312</td>\n",
       "      <td>0</td>\n",
       "    </tr>\n",
       "  </tbody>\n",
       "</table>\n",
       "<p>5 rows × 33 columns</p>\n",
       "</div>"
      ],
      "text/plain": [
       "       Var1      Var2      Var3      Var4      Var5      Var6      Var7  \\\n",
       "0  0.096944  0.108457  0.105318  0.084798  0.061510  0.038266  0.025620   \n",
       "1  0.138950  0.141066  0.127325  0.091396  0.051916  0.026497  0.012712   \n",
       "2  0.110719  0.120428  0.114312  0.099107  0.070298  0.049885  0.031301   \n",
       "3  0.106398  0.123849  0.115379  0.090015  0.063167  0.044005  0.030299   \n",
       "4  0.094950  0.104976  0.102646  0.089088  0.066788  0.045090  0.028919   \n",
       "\n",
       "       Var8      Var9     Var10  ...       Var24     Var25     Var26  \\\n",
       "0  0.017342  0.012191  0.007411  ...    0.000859  0.000701  0.000510   \n",
       "1  0.007062  0.004824  0.002380  ...    0.000551  0.000582  0.000436   \n",
       "2  0.024168  0.015279  0.014042  ...    0.000919  0.000514  0.000456   \n",
       "3  0.021928  0.018722  0.008435  ...    0.000312  0.001194  0.000493   \n",
       "4  0.019888  0.011982  0.009983  ...    0.000881  0.000437  0.000709   \n",
       "\n",
       "      Var27     Var28     Var29     Var30     Var31     Var32  Var33  \n",
       "0  0.000584  0.000748  0.000531  0.000930  0.000709  0.000391      0  \n",
       "1  0.001493  0.000474  0.001178  0.000666  0.000391  0.001563      0  \n",
       "2  0.000633  0.000753  0.000268  0.000705  0.000911  0.001172      0  \n",
       "3  0.000117  0.000508  0.000501  0.000129  0.001024  0.000859      0  \n",
       "4  0.000532  0.000773  0.000179  0.000886  0.000564  0.000312      0  \n",
       "\n",
       "[5 rows x 33 columns]"
      ]
     },
     "execution_count": 13,
     "metadata": {},
     "output_type": "execute_result"
    }
   ],
   "source": [
    "dataset.head()"
   ]
  },
  {
   "cell_type": "code",
   "execution_count": 14,
   "metadata": {},
   "outputs": [
    {
     "data": {
      "text/plain": [
       "(49668, 33)"
      ]
     },
     "execution_count": 14,
     "metadata": {},
     "output_type": "execute_result"
    }
   ],
   "source": [
    "dataset.shape"
   ]
  },
  {
   "cell_type": "markdown",
   "metadata": {},
   "source": [
    "# Data preprocessing"
   ]
  },
  {
   "cell_type": "markdown",
   "metadata": {},
   "source": [
    "In this step we are going standardize our dataset. The pipeline.pkl will be loaded, and it contains the weights of normalization onf DS1 set."
   ]
  },
  {
   "cell_type": "code",
   "execution_count": 15,
   "metadata": {
    "collapsed": true
   },
   "outputs": [],
   "source": [
    "from sklearn.externals import joblib\n",
    "\n",
    "pipeline = joblib.load('./Models/pipeline.pkl')\n",
    "pipeline_part = pipeline.steps[0][1]"
   ]
  },
  {
   "cell_type": "markdown",
   "metadata": {},
   "source": [
    "Separete features from labels."
   ]
  },
  {
   "cell_type": "code",
   "execution_count": 16,
   "metadata": {},
   "outputs": [],
   "source": [
    "data_std = pipeline_part.transform(dataset.values[:,:-1])\n",
    "data_label = dataset.values[:,-1]"
   ]
  },
  {
   "cell_type": "markdown",
   "metadata": {},
   "source": [
    "# Load classifiers"
   ]
  },
  {
   "cell_type": "code",
   "execution_count": 17,
   "metadata": {},
   "outputs": [],
   "source": [
    "from sklearn.externals import joblib\n",
    "\n",
    "random_search = joblib.load('./Models/classifiers.pkl')"
   ]
  },
  {
   "cell_type": "code",
   "execution_count": 22,
   "metadata": {},
   "outputs": [
    {
     "data": {
      "text/plain": [
       "GaussianNB(priors=None)"
      ]
     },
     "execution_count": 22,
     "metadata": {},
     "output_type": "execute_result"
    }
   ],
   "source": [
    "from sklearn.naive_bayes import GaussianNB\n",
    "\n",
    "bayes_clf = GaussianNB()\n",
    "bayes_clf.fit(data_std, data_label)"
   ]
  },
  {
   "cell_type": "code",
   "execution_count": 23,
   "metadata": {},
   "outputs": [],
   "source": [
    "svm_clf = random_search['SVM-RBF'].best_estimator_\n",
    "mlp_clf = random_search['MLP'].best_estimator_\n",
    "\n",
    "classifiers = {'MLP-238': mlp_clf, 'SVM-RBF': svm_clf, 'Naive-Bayes': bayes_clf}"
   ]
  },
  {
   "cell_type": "markdown",
   "metadata": {},
   "source": [
    "# **TEST** on DS2 set"
   ]
  },
  {
   "cell_type": "code",
   "execution_count": 24,
   "metadata": {},
   "outputs": [
    {
     "name": "stdout",
     "output_type": "stream",
     "text": [
      "MLP-238\n",
      "SVM-RBF\n",
      "Naive-Bayes\n"
     ]
    },
    {
     "name": "stderr",
     "output_type": "stream",
     "text": [
      "/home/navar/anaconda3/lib/python3.6/site-packages/sklearn/metrics/classification.py:1135: UndefinedMetricWarning: Precision is ill-defined and being set to 0.0 in labels with no predicted samples.\n",
      "  'precision', 'predicted', average, warn_for)\n",
      "/home/navar/anaconda3/lib/python3.6/site-packages/sklearn/metrics/classification.py:1135: UndefinedMetricWarning: F-score is ill-defined and being set to 0.0 in labels with no predicted samples.\n",
      "  'precision', 'predicted', average, warn_for)\n",
      "/media/navar/LargeData/Navar/Dados_diversos/ECG-01-paper_01/ECG-Arritmia-Paper1/Results_Navar/Goertzel/Experiment_06_scikitLearn__allCLF_onDS2_allFeatures/experiment.py:152: RuntimeWarning: invalid value encountered in double_scalars\n",
      "  metrics_class[i,3] = (2*metrics_class[i,2]*metrics_class[i,1])/(metrics_class[i,2] + metrics_class[i,1])\n",
      "/media/navar/LargeData/Navar/Dados_diversos/ECG-01-paper_01/ECG-Arritmia-Paper1/Results_Navar/Goertzel/Experiment_06_scikitLearn__allCLF_onDS2_allFeatures/experiment.py:150: RuntimeWarning: invalid value encountered in double_scalars\n",
      "  metrics_class[i,2] = TP / (TP + FP)\n"
     ]
    }
   ],
   "source": [
    "clf_outputs = {'true': dict((k, {}) for k in classifiers.keys()), \n",
    "               'pred': dict((k, {}) for k in classifiers.keys())}\n",
    "results = dict((k, {}) for k in classifiers.keys())\n",
    "\n",
    "for clf in classifiers.keys():\n",
    "    print(clf)\n",
    "    clf_outputs['true'][clf][0] = data_label\n",
    "    clf_outputs['pred'][clf][0] = classifiers[clf].predict(data_std)\n",
    "    \n",
    "\n",
    "results = results_clf(5, clf_outputs['true'], clf_outputs['pred'])"
   ]
  },
  {
   "cell_type": "markdown",
   "metadata": {},
   "source": [
    "# Save results to CSVs and figures"
   ]
  },
  {
   "cell_type": "code",
   "execution_count": 26,
   "metadata": {},
   "outputs": [
    {
     "name": "stdout",
     "output_type": "stream",
     "text": [
      "MLP-238\n",
      "SVM-RBF\n",
      "Naive-Bayes\n"
     ]
    },
    {
     "name": "stderr",
     "output_type": "stream",
     "text": [
      "/media/navar/LargeData/Navar/Dados_diversos/ECG-01-paper_01/ECG-Arritmia-Paper1/Results_Navar/Goertzel/Experiment_06_scikitLearn__allCLF_onDS2_allFeatures/experiment.py:286: RuntimeWarning: invalid value encountered in true_divide\n",
      "  return np.around((confMat / np.sum(confMat,axis=1)[:,None])*100,2)\n"
     ]
    }
   ],
   "source": [
    "export_results(results, 'validation')"
   ]
  },
  {
   "cell_type": "code",
   "execution_count": null,
   "metadata": {},
   "outputs": [],
   "source": []
  }
 ],
 "metadata": {
  "kernelspec": {
   "display_name": "Python 3",
   "language": "python",
   "name": "python3"
  },
  "language_info": {
   "codemirror_mode": {
    "name": "ipython",
    "version": 3
   },
   "file_extension": ".py",
   "mimetype": "text/x-python",
   "name": "python",
   "nbconvert_exporter": "python",
   "pygments_lexer": "ipython3",
   "version": "3.6.4"
  }
 },
 "nbformat": 4,
 "nbformat_minor": 2
}
