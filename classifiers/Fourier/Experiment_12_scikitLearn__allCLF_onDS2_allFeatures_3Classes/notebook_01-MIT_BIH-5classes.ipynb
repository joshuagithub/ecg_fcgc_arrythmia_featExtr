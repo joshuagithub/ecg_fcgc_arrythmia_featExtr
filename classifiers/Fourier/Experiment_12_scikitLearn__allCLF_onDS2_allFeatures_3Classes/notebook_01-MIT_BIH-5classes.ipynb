{
 "cells": [
  {
   "cell_type": "code",
   "execution_count": 1,
   "metadata": {
    "collapsed": true
   },
   "outputs": [],
   "source": [
    "import pandas as pd\n",
    "import numpy as np\n",
    "import matplotlib.pyplot as plt\n",
    "from sklearn import preprocessing\n",
    "from sklearn import metrics\n",
    "import os\n",
    "\n",
    "from experiment import *"
   ]
  },
  {
   "cell_type": "markdown",
   "metadata": {},
   "source": [
    "# Load data ** Chose your path before get stated **"
   ]
  },
  {
   "cell_type": "code",
   "execution_count": 2,
   "metadata": {},
   "outputs": [],
   "source": [
    "path = os.getcwd()\n",
    "rootDir, _ = path.split('ECG-Arritmia-Paper1')\n",
    "path = 'ECG-Arritmia-Paper1/Database_extracted/Dataset_with_features'\n",
    "filename = 'MIT-BIH__DS2_3classes__Fourier.csv'\n",
    "dataset_DS2 = pd.read_csv(os.path.join(rootDir, path, filename));\n",
    "\n",
    "filename = 'MIT-BIH__DS1_3classes__Fourier.csv'\n",
    "dataset_DS1 = pd.read_csv(os.path.join(rootDir, path, filename));"
   ]
  },
  {
   "cell_type": "code",
   "execution_count": 3,
   "metadata": {},
   "outputs": [
    {
     "data": {
      "text/html": [
       "<div>\n",
       "<style>\n",
       "    .dataframe thead tr:only-child th {\n",
       "        text-align: right;\n",
       "    }\n",
       "\n",
       "    .dataframe thead th {\n",
       "        text-align: left;\n",
       "    }\n",
       "\n",
       "    .dataframe tbody tr th {\n",
       "        vertical-align: top;\n",
       "    }\n",
       "</style>\n",
       "<table border=\"1\" class=\"dataframe\">\n",
       "  <thead>\n",
       "    <tr style=\"text-align: right;\">\n",
       "      <th></th>\n",
       "      <th>Var1</th>\n",
       "      <th>Var2</th>\n",
       "      <th>Var3</th>\n",
       "      <th>Var4</th>\n",
       "      <th>Var5</th>\n",
       "      <th>Var6</th>\n",
       "      <th>Var7</th>\n",
       "      <th>Var8</th>\n",
       "      <th>Var9</th>\n",
       "      <th>Var10</th>\n",
       "      <th>...</th>\n",
       "      <th>Var25</th>\n",
       "      <th>Var26</th>\n",
       "      <th>Var27</th>\n",
       "      <th>Var28</th>\n",
       "      <th>Var29</th>\n",
       "      <th>Var30</th>\n",
       "      <th>Var31</th>\n",
       "      <th>Var32</th>\n",
       "      <th>Var33</th>\n",
       "      <th>Var34</th>\n",
       "    </tr>\n",
       "  </thead>\n",
       "  <tbody>\n",
       "    <tr>\n",
       "      <th>0</th>\n",
       "      <td>0.140163</td>\n",
       "      <td>0.302116</td>\n",
       "      <td>0.256512</td>\n",
       "      <td>0.199795</td>\n",
       "      <td>0.167456</td>\n",
       "      <td>0.136428</td>\n",
       "      <td>0.092218</td>\n",
       "      <td>0.053257</td>\n",
       "      <td>0.035375</td>\n",
       "      <td>0.022090</td>\n",
       "      <td>...</td>\n",
       "      <td>0.001537</td>\n",
       "      <td>0.003202</td>\n",
       "      <td>0.000649</td>\n",
       "      <td>0.002842</td>\n",
       "      <td>0.002034</td>\n",
       "      <td>0.003303</td>\n",
       "      <td>0.002120</td>\n",
       "      <td>0.001724</td>\n",
       "      <td>0.001094</td>\n",
       "      <td>0</td>\n",
       "    </tr>\n",
       "    <tr>\n",
       "      <th>1</th>\n",
       "      <td>0.164694</td>\n",
       "      <td>0.294092</td>\n",
       "      <td>0.248227</td>\n",
       "      <td>0.189410</td>\n",
       "      <td>0.155726</td>\n",
       "      <td>0.119119</td>\n",
       "      <td>0.084469</td>\n",
       "      <td>0.051921</td>\n",
       "      <td>0.026894</td>\n",
       "      <td>0.022658</td>\n",
       "      <td>...</td>\n",
       "      <td>0.001776</td>\n",
       "      <td>0.001309</td>\n",
       "      <td>0.001864</td>\n",
       "      <td>0.002886</td>\n",
       "      <td>0.001600</td>\n",
       "      <td>0.001463</td>\n",
       "      <td>0.001042</td>\n",
       "      <td>0.000314</td>\n",
       "      <td>0.001563</td>\n",
       "      <td>0</td>\n",
       "    </tr>\n",
       "    <tr>\n",
       "      <th>2</th>\n",
       "      <td>0.264069</td>\n",
       "      <td>0.336712</td>\n",
       "      <td>0.279655</td>\n",
       "      <td>0.212017</td>\n",
       "      <td>0.169007</td>\n",
       "      <td>0.126995</td>\n",
       "      <td>0.081884</td>\n",
       "      <td>0.039922</td>\n",
       "      <td>0.025413</td>\n",
       "      <td>0.012168</td>\n",
       "      <td>...</td>\n",
       "      <td>0.002457</td>\n",
       "      <td>0.002108</td>\n",
       "      <td>0.001981</td>\n",
       "      <td>0.001673</td>\n",
       "      <td>0.002745</td>\n",
       "      <td>0.001638</td>\n",
       "      <td>0.001236</td>\n",
       "      <td>0.002879</td>\n",
       "      <td>0.002812</td>\n",
       "      <td>0</td>\n",
       "    </tr>\n",
       "    <tr>\n",
       "      <th>3</th>\n",
       "      <td>0.072350</td>\n",
       "      <td>0.351005</td>\n",
       "      <td>0.288275</td>\n",
       "      <td>0.218995</td>\n",
       "      <td>0.177219</td>\n",
       "      <td>0.124068</td>\n",
       "      <td>0.074372</td>\n",
       "      <td>0.044149</td>\n",
       "      <td>0.024169</td>\n",
       "      <td>0.016180</td>\n",
       "      <td>...</td>\n",
       "      <td>0.001813</td>\n",
       "      <td>0.001525</td>\n",
       "      <td>0.002232</td>\n",
       "      <td>0.003359</td>\n",
       "      <td>0.001211</td>\n",
       "      <td>0.002223</td>\n",
       "      <td>0.001470</td>\n",
       "      <td>0.002496</td>\n",
       "      <td>0.000781</td>\n",
       "      <td>0</td>\n",
       "    </tr>\n",
       "    <tr>\n",
       "      <th>4</th>\n",
       "      <td>0.029850</td>\n",
       "      <td>0.354420</td>\n",
       "      <td>0.295535</td>\n",
       "      <td>0.229964</td>\n",
       "      <td>0.184878</td>\n",
       "      <td>0.129478</td>\n",
       "      <td>0.076174</td>\n",
       "      <td>0.041396</td>\n",
       "      <td>0.027271</td>\n",
       "      <td>0.015194</td>\n",
       "      <td>...</td>\n",
       "      <td>0.002030</td>\n",
       "      <td>0.000666</td>\n",
       "      <td>0.001806</td>\n",
       "      <td>0.002329</td>\n",
       "      <td>0.001273</td>\n",
       "      <td>0.002032</td>\n",
       "      <td>0.001337</td>\n",
       "      <td>0.002298</td>\n",
       "      <td>0.001719</td>\n",
       "      <td>0</td>\n",
       "    </tr>\n",
       "  </tbody>\n",
       "</table>\n",
       "<p>5 rows × 34 columns</p>\n",
       "</div>"
      ],
      "text/plain": [
       "       Var1      Var2      Var3      Var4      Var5      Var6      Var7  \\\n",
       "0  0.140163  0.302116  0.256512  0.199795  0.167456  0.136428  0.092218   \n",
       "1  0.164694  0.294092  0.248227  0.189410  0.155726  0.119119  0.084469   \n",
       "2  0.264069  0.336712  0.279655  0.212017  0.169007  0.126995  0.081884   \n",
       "3  0.072350  0.351005  0.288275  0.218995  0.177219  0.124068  0.074372   \n",
       "4  0.029850  0.354420  0.295535  0.229964  0.184878  0.129478  0.076174   \n",
       "\n",
       "       Var8      Var9     Var10  ...       Var25     Var26     Var27  \\\n",
       "0  0.053257  0.035375  0.022090  ...    0.001537  0.003202  0.000649   \n",
       "1  0.051921  0.026894  0.022658  ...    0.001776  0.001309  0.001864   \n",
       "2  0.039922  0.025413  0.012168  ...    0.002457  0.002108  0.001981   \n",
       "3  0.044149  0.024169  0.016180  ...    0.001813  0.001525  0.002232   \n",
       "4  0.041396  0.027271  0.015194  ...    0.002030  0.000666  0.001806   \n",
       "\n",
       "      Var28     Var29     Var30     Var31     Var32     Var33  Var34  \n",
       "0  0.002842  0.002034  0.003303  0.002120  0.001724  0.001094      0  \n",
       "1  0.002886  0.001600  0.001463  0.001042  0.000314  0.001563      0  \n",
       "2  0.001673  0.002745  0.001638  0.001236  0.002879  0.002812      0  \n",
       "3  0.003359  0.001211  0.002223  0.001470  0.002496  0.000781      0  \n",
       "4  0.002329  0.001273  0.002032  0.001337  0.002298  0.001719      0  \n",
       "\n",
       "[5 rows x 34 columns]"
      ]
     },
     "execution_count": 3,
     "metadata": {},
     "output_type": "execute_result"
    }
   ],
   "source": [
    "dataset_DS1.head()"
   ]
  },
  {
   "cell_type": "code",
   "execution_count": 4,
   "metadata": {},
   "outputs": [
    {
     "data": {
      "text/plain": [
       "(50969, 34)"
      ]
     },
     "execution_count": 4,
     "metadata": {},
     "output_type": "execute_result"
    }
   ],
   "source": [
    "dataset_DS1.shape"
   ]
  },
  {
   "cell_type": "markdown",
   "metadata": {},
   "source": [
    "# Data preprocessing"
   ]
  },
  {
   "cell_type": "code",
   "execution_count": 5,
   "metadata": {},
   "outputs": [],
   "source": [
    "from sklearn.preprocessing import StandardScaler\n",
    "\n",
    "std_scaler = StandardScaler()"
   ]
  },
  {
   "cell_type": "markdown",
   "metadata": {},
   "source": [
    "In this step we are going standardize our dataset. The pipeline.pkl will be loaded, and it contains the weights of normalization onf DS1 set."
   ]
  },
  {
   "cell_type": "code",
   "execution_count": 6,
   "metadata": {},
   "outputs": [],
   "source": [
    "data_std_DS1 = std_scaler.fit_transform(dataset_DS1.values[:,:-1])\n",
    "data_label_DS1 = dataset_DS1.values[:,-1]\n",
    "\n",
    "data_std_DS2 = std_scaler.transform(dataset_DS2.values[:,:-1])\n",
    "data_label_DS2 = dataset_DS2.values[:,-1]"
   ]
  },
  {
   "cell_type": "markdown",
   "metadata": {},
   "source": [
    "# Load classifiers"
   ]
  },
  {
   "cell_type": "code",
   "execution_count": 7,
   "metadata": {},
   "outputs": [],
   "source": [
    "from sklearn.externals import joblib\n",
    "\n",
    "random_search_SVM = joblib.load('./Models/classifiers_SVM.pkl')\n",
    "random_search_MLP = joblib.load('./Models/classifiers_MLP.pkl')\n",
    "random_search_Bayes = joblib.load('./Models/classifiers_MLP_Bayes.pkl')\n",
    "\n",
    "svm_clf = random_search_SVM['SVM-RBF'].best_estimator_\n",
    "mlp_clf = random_search_MLP['MLP'].best_estimator_\n",
    "bayes_clf = random_search_Bayes['Naive-Bayes']\n",
    "\n",
    "classifiers = {'MLP-768': mlp_clf, 'SVM-RBF': svm_clf, 'Naive-Bayes': bayes_clf}"
   ]
  },
  {
   "cell_type": "markdown",
   "metadata": {},
   "source": [
    "# TRAIN on DS1 and **TEST** on DS2 set"
   ]
  },
  {
   "cell_type": "code",
   "execution_count": 8,
   "metadata": {},
   "outputs": [
    {
     "name": "stdout",
     "output_type": "stream",
     "text": [
      "MLP-768\n",
      "SVM-RBF\n",
      "Naive-Bayes\n"
     ]
    },
    {
     "ename": "IndexError",
     "evalue": "index 3 is out of bounds for axis 1 with size 3",
     "output_type": "error",
     "traceback": [
      "\u001b[0;31m---------------------------------------------------------------------------\u001b[0m",
      "\u001b[0;31mIndexError\u001b[0m                                Traceback (most recent call last)",
      "\u001b[0;32m<ipython-input-8-5e6486f08058>\u001b[0m in \u001b[0;36m<module>\u001b[0;34m()\u001b[0m\n\u001b[1;32m     11\u001b[0m     \u001b[0mprint\u001b[0m\u001b[0;34m(\u001b[0m\u001b[0mclf\u001b[0m\u001b[0;34m)\u001b[0m\u001b[0;34m\u001b[0m\u001b[0m\n\u001b[1;32m     12\u001b[0m \u001b[0;34m\u001b[0m\u001b[0m\n\u001b[0;32m---> 13\u001b[0;31m \u001b[0mresults\u001b[0m \u001b[0;34m=\u001b[0m \u001b[0mresults_clf\u001b[0m\u001b[0;34m(\u001b[0m\u001b[0;36m5\u001b[0m\u001b[0;34m,\u001b[0m \u001b[0mclf_outputs\u001b[0m\u001b[0;34m[\u001b[0m\u001b[0;34m'true'\u001b[0m\u001b[0;34m]\u001b[0m\u001b[0;34m,\u001b[0m \u001b[0mclf_outputs\u001b[0m\u001b[0;34m[\u001b[0m\u001b[0;34m'pred'\u001b[0m\u001b[0;34m]\u001b[0m\u001b[0;34m)\u001b[0m\u001b[0;34m\u001b[0m\u001b[0m\n\u001b[0m",
      "\u001b[0;32m/media/navar/LargeData/Navar/Dados_diversos/ECG-01-paper_01/ECG-Arritmia-Paper1/Results_Navar/Fourier/Experiment_12_scikitLearn__allCLF_onDS2_allFeatures_3Classes/experiment.py\u001b[0m in \u001b[0;36mresults_clf\u001b[0;34m(n_classes, y_true, y_pred)\u001b[0m\n\u001b[1;32m     97\u001b[0m                     \u001b[0mhot1_pred\u001b[0m \u001b[0;34m=\u001b[0m \u001b[0mnp\u001b[0m\u001b[0;34m.\u001b[0m\u001b[0mappend\u001b[0m\u001b[0;34m(\u001b[0m\u001b[0mhot1_pred\u001b[0m\u001b[0;34m,\u001b[0m \u001b[0mnp\u001b[0m\u001b[0;34m.\u001b[0m\u001b[0mzeros\u001b[0m\u001b[0;34m(\u001b[0m\u001b[0;34m(\u001b[0m\u001b[0mhot1_true\u001b[0m\u001b[0;34m.\u001b[0m\u001b[0mshape\u001b[0m\u001b[0;34m[\u001b[0m\u001b[0;36m0\u001b[0m\u001b[0;34m]\u001b[0m\u001b[0;34m,\u001b[0m\u001b[0mvalue_target\u001b[0m\u001b[0;34m-\u001b[0m\u001b[0mvalue_current\u001b[0m\u001b[0;34m)\u001b[0m\u001b[0;34m)\u001b[0m\u001b[0;34m,\u001b[0m \u001b[0maxis\u001b[0m\u001b[0;34m=\u001b[0m\u001b[0;36m1\u001b[0m\u001b[0;34m)\u001b[0m\u001b[0;34m\u001b[0m\u001b[0m\n\u001b[1;32m     98\u001b[0m                 \u001b[0;32mfor\u001b[0m \u001b[0mj\u001b[0m \u001b[0;32min\u001b[0m \u001b[0mrange\u001b[0m\u001b[0;34m(\u001b[0m\u001b[0mn_classes\u001b[0m\u001b[0;34m)\u001b[0m\u001b[0;34m:\u001b[0m\u001b[0;34m\u001b[0m\u001b[0m\n\u001b[0;32m---> 99\u001b[0;31m                     \u001b[0mfpr\u001b[0m\u001b[0;34m[\u001b[0m\u001b[0mj\u001b[0m\u001b[0;34m]\u001b[0m\u001b[0;34m,\u001b[0m \u001b[0mtpr\u001b[0m\u001b[0;34m[\u001b[0m\u001b[0mj\u001b[0m\u001b[0;34m]\u001b[0m\u001b[0;34m,\u001b[0m \u001b[0m_\u001b[0m \u001b[0;34m=\u001b[0m \u001b[0mmetrics\u001b[0m\u001b[0;34m.\u001b[0m\u001b[0mroc_curve\u001b[0m\u001b[0;34m(\u001b[0m\u001b[0mhot1_true\u001b[0m\u001b[0;34m[\u001b[0m\u001b[0;34m:\u001b[0m\u001b[0;34m,\u001b[0m \u001b[0mj\u001b[0m\u001b[0;34m]\u001b[0m\u001b[0;34m,\u001b[0m \u001b[0mhot1_pred\u001b[0m\u001b[0;34m[\u001b[0m\u001b[0;34m:\u001b[0m\u001b[0;34m,\u001b[0m \u001b[0mj\u001b[0m\u001b[0;34m]\u001b[0m\u001b[0;34m)\u001b[0m\u001b[0;34m\u001b[0m\u001b[0m\n\u001b[0m\u001b[1;32m    100\u001b[0m                     \u001b[0mroc_auc\u001b[0m\u001b[0;34m[\u001b[0m\u001b[0mj\u001b[0m\u001b[0;34m]\u001b[0m \u001b[0;34m=\u001b[0m \u001b[0mmetrics\u001b[0m\u001b[0;34m.\u001b[0m\u001b[0mauc\u001b[0m\u001b[0;34m(\u001b[0m\u001b[0mfpr\u001b[0m\u001b[0;34m[\u001b[0m\u001b[0mj\u001b[0m\u001b[0;34m]\u001b[0m\u001b[0;34m,\u001b[0m \u001b[0mtpr\u001b[0m\u001b[0;34m[\u001b[0m\u001b[0mj\u001b[0m\u001b[0;34m]\u001b[0m\u001b[0;34m)\u001b[0m\u001b[0;34m\u001b[0m\u001b[0m\n\u001b[1;32m    101\u001b[0m \u001b[0;34m\u001b[0m\u001b[0m\n",
      "\u001b[0;31mIndexError\u001b[0m: index 3 is out of bounds for axis 1 with size 3"
     ]
    }
   ],
   "source": [
    "clf_outputs = {'true': dict((k, {}) for k in classifiers.keys()), \n",
    "               'pred': dict((k, {}) for k in classifiers.keys())}\n",
    "results = dict((k, {}) for k in classifiers.keys())\n",
    "\n",
    "for clf in classifiers.keys():\n",
    "    classifiers[clf].fit(data_std_DS1, data_label_DS1)\n",
    "        \n",
    "    clf_outputs['true'][clf][0] = data_label_DS2\n",
    "    clf_outputs['pred'][clf][0] = classifiers[clf].predict(data_std_DS2)\n",
    "    \n",
    "    print(clf) "
   ]
  },
  {
   "cell_type": "markdown",
   "metadata": {},
   "source": [
    "# Save results to CSVs and figures"
   ]
  },
  {
   "cell_type": "code",
   "execution_count": 13,
   "metadata": {},
   "outputs": [
    {
     "data": {
      "text/plain": [
       "{'true': {'MLP-768': {0: array([0., 0., 0., ..., 0., 0., 0.])},\n",
       "  'SVM-RBF': {0: array([0., 0., 0., ..., 0., 0., 0.])},\n",
       "  'Naive-Bayes': {0: array([0., 0., 0., ..., 0., 0., 0.])}},\n",
       " 'pred': {'MLP-768': {0: array([0., 0., 0., ..., 0., 0., 0.])},\n",
       "  'SVM-RBF': {0: array([0., 0., 0., ..., 0., 0., 0.])},\n",
       "  'Naive-Bayes': {0: array([1., 1., 1., ..., 0., 0., 1.])}}}"
      ]
     },
     "execution_count": 13,
     "metadata": {},
     "output_type": "execute_result"
    }
   ],
   "source": [
    "clf_outputs"
   ]
  },
  {
   "cell_type": "code",
   "execution_count": 15,
   "metadata": {},
   "outputs": [
    {
     "name": "stderr",
     "output_type": "stream",
     "text": [
      "/home/navar/anaconda3/lib/python3.6/site-packages/sklearn/metrics/classification.py:1135: UndefinedMetricWarning: Precision is ill-defined and being set to 0.0 in labels with no predicted samples.\n",
      "  'precision', 'predicted', average, warn_for)\n",
      "/home/navar/anaconda3/lib/python3.6/site-packages/sklearn/metrics/classification.py:1135: UndefinedMetricWarning: F-score is ill-defined and being set to 0.0 in labels with no predicted samples.\n",
      "  'precision', 'predicted', average, warn_for)\n",
      "/media/navar/LargeData/Navar/Dados_diversos/ECG-01-paper_01/ECG-Arritmia-Paper1/Results_Navar/Fourier/Experiment_12_scikitLearn__allCLF_onDS2_allFeatures_3Classes/experiment.py:150: RuntimeWarning: invalid value encountered in double_scalars\n",
      "  metrics_class[i,2] = TP / (TP + FP)\n"
     ]
    }
   ],
   "source": [
    "results = results_clf(3, clf_outputs['true'], clf_outputs['pred'])"
   ]
  },
  {
   "cell_type": "code",
   "execution_count": 16,
   "metadata": {},
   "outputs": [
    {
     "name": "stdout",
     "output_type": "stream",
     "text": [
      "MLP-768\n",
      "SVM-RBF\n",
      "Naive-Bayes\n"
     ]
    },
    {
     "name": "stderr",
     "output_type": "stream",
     "text": [
      "/media/navar/LargeData/Navar/Dados_diversos/ECG-01-paper_01/ECG-Arritmia-Paper1/Results_Navar/Fourier/Experiment_12_scikitLearn__allCLF_onDS2_allFeatures_3Classes/experiment.py:286: RuntimeWarning: invalid value encountered in true_divide\n",
      "  return np.around((confMat / np.sum(confMat,axis=1)[:,None])*100,2)\n"
     ]
    }
   ],
   "source": [
    "export_results(results, 'validation')"
   ]
  },
  {
   "cell_type": "code",
   "execution_count": 18,
   "metadata": {},
   "outputs": [],
   "source": [
    "save_models(classifiers)\n",
    "save_pipeline(std_scaler)"
   ]
  },
  {
   "cell_type": "code",
   "execution_count": null,
   "metadata": {},
   "outputs": [],
   "source": []
  }
 ],
 "metadata": {
  "kernelspec": {
   "display_name": "Python 3",
   "language": "python",
   "name": "python3"
  },
  "language_info": {
   "codemirror_mode": {
    "name": "ipython",
    "version": 3
   },
   "file_extension": ".py",
   "mimetype": "text/x-python",
   "name": "python",
   "nbconvert_exporter": "python",
   "pygments_lexer": "ipython3",
   "version": "3.6.2"
  }
 },
 "nbformat": 4,
 "nbformat_minor": 2
}
