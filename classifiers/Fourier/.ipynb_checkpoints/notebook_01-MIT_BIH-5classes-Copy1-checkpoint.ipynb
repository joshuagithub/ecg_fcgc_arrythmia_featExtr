{
 "cells": [
  {
   "cell_type": "code",
   "execution_count": 1,
   "metadata": {
    "collapsed": true
   },
   "outputs": [],
   "source": [
    "import pandas as pd\n",
    "import numpy as np\n",
    "import matplotlib.pyplot as plt\n",
    "from sklearn import preprocessing\n",
    "from sklearn import metrics\n",
    "import os\n",
    "\n",
    "#%matplotlib inline"
   ]
  },
  {
   "cell_type": "code",
   "execution_count": 2,
   "metadata": {
    "collapsed": true
   },
   "outputs": [],
   "source": [
    "folderpath = '/media/navar/LargeData/Navar/Dados_diversos/ECG-01-paper_01/ECG-Arritmia-Paper1/Database_extracted/Dataset_with_features/'\n",
    "filename = 'MIT-BIH__DS1_5classes__Fourier.csv'\n",
    "dataset = pd.read_csv(os.path.join(folderpath, filename));"
   ]
  },
  {
   "cell_type": "code",
   "execution_count": 3,
   "metadata": {},
   "outputs": [
    {
     "data": {
      "text/html": [
       "<div>\n",
       "<style>\n",
       "    .dataframe thead tr:only-child th {\n",
       "        text-align: right;\n",
       "    }\n",
       "\n",
       "    .dataframe thead th {\n",
       "        text-align: left;\n",
       "    }\n",
       "\n",
       "    .dataframe tbody tr th {\n",
       "        vertical-align: top;\n",
       "    }\n",
       "</style>\n",
       "<table border=\"1\" class=\"dataframe\">\n",
       "  <thead>\n",
       "    <tr style=\"text-align: right;\">\n",
       "      <th></th>\n",
       "      <th>Var1</th>\n",
       "      <th>Var2</th>\n",
       "      <th>Var3</th>\n",
       "      <th>Var4</th>\n",
       "      <th>Var5</th>\n",
       "      <th>Var6</th>\n",
       "      <th>Var7</th>\n",
       "      <th>Var8</th>\n",
       "      <th>Var9</th>\n",
       "      <th>Var10</th>\n",
       "      <th>...</th>\n",
       "      <th>Var25</th>\n",
       "      <th>Var26</th>\n",
       "      <th>Var27</th>\n",
       "      <th>Var28</th>\n",
       "      <th>Var29</th>\n",
       "      <th>Var30</th>\n",
       "      <th>Var31</th>\n",
       "      <th>Var32</th>\n",
       "      <th>Var33</th>\n",
       "      <th>target</th>\n",
       "    </tr>\n",
       "  </thead>\n",
       "  <tbody>\n",
       "    <tr>\n",
       "      <th>0</th>\n",
       "      <td>0.140163</td>\n",
       "      <td>0.302116</td>\n",
       "      <td>0.256512</td>\n",
       "      <td>0.199795</td>\n",
       "      <td>0.167456</td>\n",
       "      <td>0.136428</td>\n",
       "      <td>0.092218</td>\n",
       "      <td>0.053257</td>\n",
       "      <td>0.035375</td>\n",
       "      <td>0.022090</td>\n",
       "      <td>...</td>\n",
       "      <td>0.001537</td>\n",
       "      <td>0.003202</td>\n",
       "      <td>0.000649</td>\n",
       "      <td>0.002842</td>\n",
       "      <td>0.002034</td>\n",
       "      <td>0.003303</td>\n",
       "      <td>0.002120</td>\n",
       "      <td>0.001724</td>\n",
       "      <td>0.001094</td>\n",
       "      <td>0</td>\n",
       "    </tr>\n",
       "    <tr>\n",
       "      <th>1</th>\n",
       "      <td>0.164694</td>\n",
       "      <td>0.294092</td>\n",
       "      <td>0.248227</td>\n",
       "      <td>0.189410</td>\n",
       "      <td>0.155726</td>\n",
       "      <td>0.119119</td>\n",
       "      <td>0.084469</td>\n",
       "      <td>0.051921</td>\n",
       "      <td>0.026894</td>\n",
       "      <td>0.022658</td>\n",
       "      <td>...</td>\n",
       "      <td>0.001776</td>\n",
       "      <td>0.001309</td>\n",
       "      <td>0.001864</td>\n",
       "      <td>0.002886</td>\n",
       "      <td>0.001600</td>\n",
       "      <td>0.001463</td>\n",
       "      <td>0.001042</td>\n",
       "      <td>0.000314</td>\n",
       "      <td>0.001563</td>\n",
       "      <td>0</td>\n",
       "    </tr>\n",
       "    <tr>\n",
       "      <th>2</th>\n",
       "      <td>0.264069</td>\n",
       "      <td>0.336712</td>\n",
       "      <td>0.279655</td>\n",
       "      <td>0.212017</td>\n",
       "      <td>0.169007</td>\n",
       "      <td>0.126995</td>\n",
       "      <td>0.081884</td>\n",
       "      <td>0.039922</td>\n",
       "      <td>0.025413</td>\n",
       "      <td>0.012168</td>\n",
       "      <td>...</td>\n",
       "      <td>0.002457</td>\n",
       "      <td>0.002108</td>\n",
       "      <td>0.001981</td>\n",
       "      <td>0.001673</td>\n",
       "      <td>0.002745</td>\n",
       "      <td>0.001638</td>\n",
       "      <td>0.001236</td>\n",
       "      <td>0.002879</td>\n",
       "      <td>0.002812</td>\n",
       "      <td>0</td>\n",
       "    </tr>\n",
       "    <tr>\n",
       "      <th>3</th>\n",
       "      <td>0.072350</td>\n",
       "      <td>0.351005</td>\n",
       "      <td>0.288275</td>\n",
       "      <td>0.218995</td>\n",
       "      <td>0.177219</td>\n",
       "      <td>0.124068</td>\n",
       "      <td>0.074372</td>\n",
       "      <td>0.044149</td>\n",
       "      <td>0.024169</td>\n",
       "      <td>0.016180</td>\n",
       "      <td>...</td>\n",
       "      <td>0.001813</td>\n",
       "      <td>0.001525</td>\n",
       "      <td>0.002232</td>\n",
       "      <td>0.003359</td>\n",
       "      <td>0.001211</td>\n",
       "      <td>0.002223</td>\n",
       "      <td>0.001470</td>\n",
       "      <td>0.002496</td>\n",
       "      <td>0.000781</td>\n",
       "      <td>0</td>\n",
       "    </tr>\n",
       "    <tr>\n",
       "      <th>4</th>\n",
       "      <td>0.029850</td>\n",
       "      <td>0.354420</td>\n",
       "      <td>0.295535</td>\n",
       "      <td>0.229964</td>\n",
       "      <td>0.184878</td>\n",
       "      <td>0.129478</td>\n",
       "      <td>0.076174</td>\n",
       "      <td>0.041396</td>\n",
       "      <td>0.027271</td>\n",
       "      <td>0.015194</td>\n",
       "      <td>...</td>\n",
       "      <td>0.002030</td>\n",
       "      <td>0.000666</td>\n",
       "      <td>0.001806</td>\n",
       "      <td>0.002329</td>\n",
       "      <td>0.001273</td>\n",
       "      <td>0.002032</td>\n",
       "      <td>0.001337</td>\n",
       "      <td>0.002298</td>\n",
       "      <td>0.001719</td>\n",
       "      <td>0</td>\n",
       "    </tr>\n",
       "  </tbody>\n",
       "</table>\n",
       "<p>5 rows × 34 columns</p>\n",
       "</div>"
      ],
      "text/plain": [
       "       Var1      Var2      Var3      Var4      Var5      Var6      Var7  \\\n",
       "0  0.140163  0.302116  0.256512  0.199795  0.167456  0.136428  0.092218   \n",
       "1  0.164694  0.294092  0.248227  0.189410  0.155726  0.119119  0.084469   \n",
       "2  0.264069  0.336712  0.279655  0.212017  0.169007  0.126995  0.081884   \n",
       "3  0.072350  0.351005  0.288275  0.218995  0.177219  0.124068  0.074372   \n",
       "4  0.029850  0.354420  0.295535  0.229964  0.184878  0.129478  0.076174   \n",
       "\n",
       "       Var8      Var9     Var10   ...       Var25     Var26     Var27  \\\n",
       "0  0.053257  0.035375  0.022090   ...    0.001537  0.003202  0.000649   \n",
       "1  0.051921  0.026894  0.022658   ...    0.001776  0.001309  0.001864   \n",
       "2  0.039922  0.025413  0.012168   ...    0.002457  0.002108  0.001981   \n",
       "3  0.044149  0.024169  0.016180   ...    0.001813  0.001525  0.002232   \n",
       "4  0.041396  0.027271  0.015194   ...    0.002030  0.000666  0.001806   \n",
       "\n",
       "      Var28     Var29     Var30     Var31     Var32     Var33  target  \n",
       "0  0.002842  0.002034  0.003303  0.002120  0.001724  0.001094       0  \n",
       "1  0.002886  0.001600  0.001463  0.001042  0.000314  0.001563       0  \n",
       "2  0.001673  0.002745  0.001638  0.001236  0.002879  0.002812       0  \n",
       "3  0.003359  0.001211  0.002223  0.001470  0.002496  0.000781       0  \n",
       "4  0.002329  0.001273  0.002032  0.001337  0.002298  0.001719       0  \n",
       "\n",
       "[5 rows x 34 columns]"
      ]
     },
     "execution_count": 3,
     "metadata": {},
     "output_type": "execute_result"
    }
   ],
   "source": [
    "dataset.head()"
   ]
  },
  {
   "cell_type": "markdown",
   "metadata": {},
   "source": [
    "# Data preprocessing"
   ]
  },
  {
   "cell_type": "markdown",
   "metadata": {},
   "source": [
    "In this step we are going standardize our dataset."
   ]
  },
  {
   "cell_type": "code",
   "execution_count": 4,
   "metadata": {
    "collapsed": true
   },
   "outputs": [],
   "source": [
    "from sklearn.preprocessing import StandardScaler\n",
    "\n",
    "std_scaler = StandardScaler()"
   ]
  },
  {
   "cell_type": "markdown",
   "metadata": {},
   "source": [
    "Separete features from labels."
   ]
  },
  {
   "cell_type": "code",
   "execution_count": 5,
   "metadata": {},
   "outputs": [],
   "source": [
    "data_std = std_scaler.fit_transform(dataset.values[:,:-1])\n",
    "data_label = dataset.values[:,-1]"
   ]
  },
  {
   "cell_type": "markdown",
   "metadata": {},
   "source": [
    "# Classifiers specifications"
   ]
  },
  {
   "cell_type": "markdown",
   "metadata": {},
   "source": [
    "Could be different classifiers, create each one using a different objects"
   ]
  },
  {
   "cell_type": "code",
   "execution_count": 6,
   "metadata": {},
   "outputs": [],
   "source": [
    "from sklearn.neural_network import MLPClassifier\n",
    "from sklearn.linear_model import SGDClassifier\n",
    "\n",
    "# MLP:\n",
    "mlp_clf = MLPClassifier(solver='adam', alpha=1e-5, learning_rate='adaptive', learning_rate_init = 0.1,\n",
    "                        max_iter=1300, momentum=0.3, activation = 'relu', power_t=0.5,\n",
    "                        hidden_layer_sizes=(100,), verbose=0)\n",
    "\n",
    "# SGD:\n",
    "\n",
    "#sgd_clf = SGDClassifier(eta0=0.001, max_iter=1000)"
   ]
  },
  {
   "cell_type": "markdown",
   "metadata": {},
   "source": [
    "# Classifiers training an testing"
   ]
  },
  {
   "cell_type": "markdown",
   "metadata": {},
   "source": [
    "Define our models to train. Import each classifiers into a python dictionary."
   ]
  },
  {
   "cell_type": "code",
   "execution_count": 7,
   "metadata": {},
   "outputs": [],
   "source": [
    "#classifiers = {'MLP-adam-100H': mlp_clf, 'SGD': sgd_clf}\n",
    "classifiers = {'MLP-adam-100H': mlp_clf}"
   ]
  },
  {
   "cell_type": "markdown",
   "metadata": {},
   "source": [
    "Using stratified cross-validation for model selection"
   ]
  },
  {
   "cell_type": "code",
   "execution_count": 8,
   "metadata": {},
   "outputs": [],
   "source": [
    "from sklearn.model_selection import StratifiedKFold\n",
    "\n",
    "def run_classifiers(X, y, classifiers, cv):\n",
    "\n",
    "    skf = StratifiedKFold(n_splits=cv)\n",
    "    \n",
    "    # define local variables:\n",
    "    y_train_pred = dict.fromkeys(classifiers, [])\n",
    "    y_test_pred = dict.fromkeys(classifiers, [])\n",
    "    y_train_true = dict.fromkeys(classifiers, [])\n",
    "    y_test_true = dict.fromkeys(classifiers, [])\n",
    "\n",
    "    output = {'train': {'true': {},\n",
    "                        'pred': {}},\n",
    "              'test': {'true': {},\n",
    "                        'pred': {}}\n",
    "             }\n",
    "    # iterate over dataset\n",
    "    i = 0\n",
    "    for train_idx, test_idx in skf.split(X, y):\n",
    "        print(i)\n",
    "        i = i +1\n",
    "        # split data into kfolds:\n",
    "        X_train, X_test = X[train_idx], X[test_idx]\n",
    "        y_train, y_test = y[train_idx], y[test_idx]\n",
    "\n",
    "        # Fit the model(s):\n",
    "        # iterate over classifiers:\n",
    "        for clf_name, clf in classifiers.items():\n",
    "            clf.fit(X_train, y_train)\n",
    "            classifiers[clf_name] = clf\n",
    "\n",
    "            # Append model(s) predictions:\n",
    "            y_train_pred[clf_name].append(clf.predict(X_train))\n",
    "            y_test_pred[clf_name].append(clf.predict(X_test))\n",
    "\n",
    "            # Append model(s) labels:\n",
    "            y_train_true[clf_name].append(y_train)\n",
    "            y_test_true[clf_name].append(y_test) \n",
    "\n",
    "    output['train']['true'] = y_train_true \n",
    "    output['train']['pred'] = y_train_pred\n",
    "    output['test']['true'] = y_test_true \n",
    "    output['test']['pred'] = y_test_pred\n",
    "    \n",
    "    return output"
   ]
  },
  {
   "cell_type": "markdown",
   "metadata": {},
   "source": [
    "Run all classifiers:"
   ]
  },
  {
   "cell_type": "code",
   "execution_count": 9,
   "metadata": {},
   "outputs": [
    {
     "name": "stdout",
     "output_type": "stream",
     "text": [
      "0\n",
      "1\n"
     ]
    }
   ],
   "source": [
    "clf_outputs = run_classifiers(data_std, data_label, classifiers, 2)"
   ]
  },
  {
   "cell_type": "markdown",
   "metadata": {},
   "source": [
    "# Performance assessment"
   ]
  },
  {
   "cell_type": "code",
   "execution_count": 10,
   "metadata": {},
   "outputs": [],
   "source": [
    "# This is a simple fuction to return a dictionary containg classification metrics from classifiers.\n",
    "\n",
    "from sklearn import metrics\n",
    "from sklearn.preprocessing import OneHotEncoder\n",
    "\n",
    "def results_clf(n_classes, y_true, y_pred):\n",
    "\n",
    "    metrics_keys = {'confMat': [], 'acc': [], 'recall': [], 'precision': [], \n",
    "                    'f1': [], 'roc': {}, 'roc_auc': {}}\n",
    "\n",
    "    results = {}\n",
    "\n",
    "    for key in y_true:\n",
    "            results[key] = metrics_keys\n",
    "            for i in range(0,len(y_true[key])):\n",
    "                results[key]['confMat'].append(metrics.confusion_matrix(y_true[key][i], y_pred[key][i]))\n",
    "                results[key]['acc'].append(metrics.accuracy_score(y_true[key][i], y_pred[key][i]))\n",
    "                results[key]['recall'].append(metrics.recall_score(y_true[key][i], y_pred[key][i], average='weighted'))\n",
    "                results[key]['precision'].append(metrics.precision_score(y_true[key][i], y_pred[key][i], average='weighted'))\n",
    "                results[key]['f1'].append(metrics.f1_score(y_true[key][i], y_pred[key][i], average='weighted'))\n",
    "\n",
    "                # ROC curves for each class:\n",
    "                fpr = dict()\n",
    "                tpr = dict()\n",
    "                roc_auc = dict()\n",
    "                hot_1 = OneHotEncoder()\n",
    "                hot_2 = OneHotEncoder()\n",
    "                hot1_true = hot_1.fit_transform(y_true[key][i].reshape(-1,1)).toarray()\n",
    "                hot1_pred = hot_2.fit_transform(y_pred[key][i].reshape(-1,1)).toarray()\n",
    "\n",
    "                # check if hot1_true and hot1_pred have the same shape:\n",
    "                if not hot1_pred.shape == hot1_true.shape:\n",
    "                    hot1_pred = np.append(hot1_pred, np.zeros((hot1_pred.shape[0],1)), axis=1)\n",
    "                for j in range(n_classes):\n",
    "                    fpr[j], tpr[j], _ = metrics.roc_curve(hot1_true[:, j], hot1_pred[:, j])\n",
    "                    roc_auc[j] = metrics.auc(fpr[j], tpr[j])\n",
    "\n",
    "                ROC = {'fpr': fpr, 'tpr': tpr}\n",
    "                results[key]['roc'][i] = ROC\n",
    "                results[key]['roc_auc'][i] = roc_auc\n",
    "    \n",
    "            results[key]['average'] = average_performance(results[key])    \n",
    "    return results\n",
    "\n",
    "def average_performance(results):\n",
    "    metrics_keys = {'confMat': [], 'acc': [], 'recall': [], 'precision': [], \n",
    "                    'f1': []}\n",
    "    results_avg = {}\n",
    "    \n",
    "    results_avg = metrics_keys \n",
    "    results_avg['confMat'] =  np.mean(results['confMat'], axis=0)\n",
    "    results_avg['confMat_std'] =  np.std(results['confMat'], axis=0)\n",
    "    results_avg['acc'] =  np.mean(results['acc'])\n",
    "    results_avg['recall'] =  np.mean(results['recall'])\n",
    "    results_avg['precision'] =  np.mean(results['precision'])\n",
    "    results_avg['f1'] =  np.mean(results['f1'])\n",
    "\n",
    "    return results_avg"
   ]
  },
  {
   "cell_type": "markdown",
   "metadata": {},
   "source": [
    "Saving variables in a dictionary:"
   ]
  },
  {
   "cell_type": "code",
   "execution_count": 11,
   "metadata": {},
   "outputs": [
    {
     "name": "stderr",
     "output_type": "stream",
     "text": [
      "/home/navar/anaconda3/lib/python3.6/site-packages/sklearn/metrics/classification.py:1135: UndefinedMetricWarning: Precision is ill-defined and being set to 0.0 in labels with no predicted samples.\n",
      "  'precision', 'predicted', average, warn_for)\n",
      "/home/navar/anaconda3/lib/python3.6/site-packages/sklearn/metrics/classification.py:1135: UndefinedMetricWarning: F-score is ill-defined and being set to 0.0 in labels with no predicted samples.\n",
      "  'precision', 'predicted', average, warn_for)\n"
     ]
    }
   ],
   "source": [
    "results = {}\n",
    "results['train'] = results_clf(5, clf_outputs['train']['true'], clf_outputs['train']['pred'])\n",
    "results['test'] = results_clf(5, clf_outputs['test']['true'], clf_outputs['test']['pred'])"
   ]
  },
  {
   "cell_type": "code",
   "execution_count": 12,
   "metadata": {},
   "outputs": [
    {
     "data": {
      "text/plain": [
       "{'train': {'MLP-adam-100H': {'confMat': [array([[22829,    11,    36,    35,     2],\n",
       "           [  440,    30,     0,     0,     0],\n",
       "           [  622,     0,  1259,    12,     0],\n",
       "           [   69,     0,     5,   133,     0],\n",
       "           [    2,     0,     1,     1,     0]]),\n",
       "    array([[22467,    12,   428,     6,     0],\n",
       "           [  324,   121,    26,     0,     0],\n",
       "           [  313,    12,  1565,     4,     0],\n",
       "           [   85,     0,    93,    30,     0],\n",
       "           [    3,     0,     1,     0,     0]])],\n",
       "   'acc': [0.9515046886648095, 0.9487249901922322],\n",
       "   'recall': [0.9515046886648095, 0.9487249901922322],\n",
       "   'precision': [0.9478359961466768, 0.9473738763414683],\n",
       "   'f1': [0.941953475724335, 0.9433451285532857],\n",
       "   'roc': {0: {'fpr': {0: array([0.        , 0.44017094, 1.        ]),\n",
       "      1: array([0.00000000e+00, 4.39701003e-04, 1.00000000e+00]),\n",
       "      2: array([0.        , 0.00178011, 1.        ]),\n",
       "      3: array([0.        , 0.00189873, 1.        ]),\n",
       "      4: array([0.0000000e+00, 7.8483695e-05, 1.0000000e+00])},\n",
       "     'tpr': {0: array([0.        , 0.99633396, 1.        ]),\n",
       "      1: array([0.        , 0.06382979, 1.        ]),\n",
       "      2: array([0.        , 0.66508188, 1.        ]),\n",
       "      3: array([0.        , 0.64251208, 1.        ]),\n",
       "      4: array([0., 0., 1.])}},\n",
       "    1: {'fpr': {0: array([0.        , 0.28133489, 1.        ]),\n",
       "      1: array([0.00000000e+00, 9.59270954e-04, 1.00000000e+00]),\n",
       "      2: array([0.        , 0.02322428, 1.        ]),\n",
       "      3: array([0.00000000e+00, 3.95538328e-04, 1.00000000e+00]),\n",
       "      4: array([0., 1.])},\n",
       "     'tpr': {0: array([0.        , 0.98053507, 1.        ]),\n",
       "      1: array([0.        , 0.25690021, 1.        ]),\n",
       "      2: array([0.        , 0.82629356, 1.        ]),\n",
       "      3: array([0.        , 0.14423077, 1.        ]),\n",
       "      4: array([0., 1.])}}},\n",
       "   'roc_auc': {0: {0: 0.7780815093585137,\n",
       "     1: 0.5316950431153624,\n",
       "     2: 0.8316508835122918,\n",
       "     3: 0.8203066715587354,\n",
       "     4: 0.4999607581524938},\n",
       "    1: {0: 0.8496000909515826,\n",
       "     1: 0.627970470680075,\n",
       "     2: 0.9015346416526131,\n",
       "     3: 0.5719176154515526,\n",
       "     4: 0.5}},\n",
       "   'average': {'confMat': array([[2.2648e+04, 1.1500e+01, 2.3200e+02, 2.0500e+01, 1.0000e+00],\n",
       "           [3.8200e+02, 7.5500e+01, 1.3000e+01, 0.0000e+00, 0.0000e+00],\n",
       "           [4.6750e+02, 6.0000e+00, 1.4120e+03, 8.0000e+00, 0.0000e+00],\n",
       "           [7.7000e+01, 0.0000e+00, 4.9000e+01, 8.1500e+01, 0.0000e+00],\n",
       "           [2.5000e+00, 0.0000e+00, 1.0000e+00, 5.0000e-01, 0.0000e+00]]),\n",
       "    'acc': 0.9501148394285208,\n",
       "    'recall': 0.9501148394285208,\n",
       "    'precision': 0.9476049362440726,\n",
       "    'f1': 0.9426493021388103,\n",
       "    'confMat_std': array([[181. ,   0.5, 196. ,  14.5,   1. ],\n",
       "           [ 58. ,  45.5,  13. ,   0. ,   0. ],\n",
       "           [154.5,   6. , 153. ,   4. ,   0. ],\n",
       "           [  8. ,   0. ,  44. ,  51.5,   0. ],\n",
       "           [  0.5,   0. ,   0. ,   0.5,   0. ]])}}},\n",
       " 'test': {'MLP-adam-100H': {'confMat': [array([[20557,  1400,   248,   707,     1],\n",
       "           [  339,    72,    56,     4,     0],\n",
       "           [ 1202,     1,   425,   266,     0],\n",
       "           [  118,     0,    11,    79,     0],\n",
       "           [    3,     0,     1,     0,     0]]),\n",
       "    array([[19404,   895,  2409,   184,    21],\n",
       "           [  450,    17,     3,     0,     0],\n",
       "           [  469,   164,  1257,     3,     0],\n",
       "           [   80,     0,   116,    11,     0],\n",
       "           [    2,     1,     1,     0,     0]])],\n",
       "   'acc': [0.8290702236171047, 0.8117471652214855],\n",
       "   'recall': [0.8290702236171047, 0.8117471652214855],\n",
       "   'precision': [0.875793390204282, 0.8803070111640838],\n",
       "   'f1': [0.8452320127402805, 0.8391342824010765],\n",
       "   'roc': {0: {'fpr': {0: array([0.        , 0.64493597, 1.        ]),\n",
       "      1: array([0.        , 0.05599744, 1.        ]),\n",
       "      2: array([0.       , 0.0133921, 1.       ]),\n",
       "      3: array([0.        , 0.03864409, 1.        ]),\n",
       "      4: array([0.00000000e+00, 3.92372283e-05, 1.00000000e+00])},\n",
       "     'tpr': {0: array([0.        , 0.89717628, 1.        ]),\n",
       "      1: array([0.        , 0.15286624, 1.        ]),\n",
       "      2: array([0.        , 0.22439282, 1.        ]),\n",
       "      3: array([0.        , 0.37980769, 1.        ]),\n",
       "      4: array([0., 0., 1.])}},\n",
       "    1: {'fpr': {0: array([0.        , 0.38888889, 1.        ]),\n",
       "      1: array([0.        , 0.04237119, 1.        ]),\n",
       "      2: array([0.        , 0.10718827, 1.        ]),\n",
       "      3: array([0.        , 0.00739715, 1.        ]),\n",
       "      4: array([0.00000000e+00, 8.24078798e-04, 1.00000000e+00])},\n",
       "     'tpr': {0: array([0.       , 0.8468555, 1.       ]),\n",
       "      1: array([0.        , 0.03617021, 1.        ]),\n",
       "      2: array([0.        , 0.66402536, 1.        ]),\n",
       "      3: array([0.       , 0.0531401, 1.       ]),\n",
       "      4: array([0., 0., 1.])}}},\n",
       "   'roc_auc': {0: {0: 0.6261201517081341,\n",
       "     1: 0.548434400047047,\n",
       "     2: 0.6055003595368927,\n",
       "     3: 0.6705817988474622,\n",
       "     4: 0.49998038138585893},\n",
       "    1: {0: 0.728983303995306,\n",
       "     1: 0.4968995125867602,\n",
       "     2: 0.7784185441865408,\n",
       "     3: 0.5228714723598117,\n",
       "     4: 0.4995879606011851}},\n",
       "   'average': {'confMat': array([[1.99805e+04, 1.14750e+03, 1.32850e+03, 4.45500e+02, 1.10000e+01],\n",
       "           [3.94500e+02, 4.45000e+01, 2.95000e+01, 2.00000e+00, 0.00000e+00],\n",
       "           [8.35500e+02, 8.25000e+01, 8.41000e+02, 1.34500e+02, 0.00000e+00],\n",
       "           [9.90000e+01, 0.00000e+00, 6.35000e+01, 4.50000e+01, 0.00000e+00],\n",
       "           [2.50000e+00, 5.00000e-01, 1.00000e+00, 0.00000e+00, 0.00000e+00]]),\n",
       "    'acc': 0.8204086944192951,\n",
       "    'recall': 0.8204086944192951,\n",
       "    'precision': 0.8780502006841829,\n",
       "    'f1': 0.8421831475706785,\n",
       "    'confMat_std': array([[5.7650e+02, 2.5250e+02, 1.0805e+03, 2.6150e+02, 1.0000e+01],\n",
       "           [5.5500e+01, 2.7500e+01, 2.6500e+01, 2.0000e+00, 0.0000e+00],\n",
       "           [3.6650e+02, 8.1500e+01, 4.1600e+02, 1.3150e+02, 0.0000e+00],\n",
       "           [1.9000e+01, 0.0000e+00, 5.2500e+01, 3.4000e+01, 0.0000e+00],\n",
       "           [5.0000e-01, 5.0000e-01, 0.0000e+00, 0.0000e+00, 0.0000e+00]])}}}}"
      ]
     },
     "execution_count": 12,
     "metadata": {},
     "output_type": "execute_result"
    }
   ],
   "source": [
    "results"
   ]
  },
  {
   "cell_type": "markdown",
   "metadata": {},
   "source": [
    "# Savel resuls and models to a .pkl file"
   ]
  },
  {
   "cell_type": "code",
   "execution_count": 13,
   "metadata": {},
   "outputs": [],
   "source": [
    "from sklearn.externals import joblib\n",
    "import os\n",
    "\n",
    "def save_models(classifiers):\n",
    "    foldertree = 'Results'\n",
    "    foldername = 'models'\n",
    "    \n",
    "    check_folder(foldername)\n",
    "        \n",
    "    joblib.dump(classifiers, os.path.join(foldertree, foldername, 'classifiers.pkl')) \n",
    "    \n",
    "def check_folder(foldername):\n",
    "    foldertree = 'Results'\n",
    "    if os.path.isdir(os.path.join(foldertree, foldername)):\n",
    "        return True\n",
    "    else:\n",
    "        if os.path.isdir(foldertree):\n",
    "            os.mkdir(os.path.join(foldertree, foldername))\n",
    "        else:\n",
    "            os.mkdir(foldertree)\n",
    "            os.mkdir(os.path.join(foldertree, foldername))\n",
    "        return False"
   ]
  },
  {
   "cell_type": "code",
   "execution_count": 14,
   "metadata": {},
   "outputs": [],
   "source": [
    "save_models(classifiers)"
   ]
  },
  {
   "cell_type": "markdown",
   "metadata": {},
   "source": [
    "# Save results to CSV and export variables and models"
   ]
  },
  {
   "cell_type": "code",
   "execution_count": 15,
   "metadata": {},
   "outputs": [
    {
     "data": {
      "image/png": "[encoded data removed]",
      "text/plain": [
       "<Figure size 432x288 with 1 Axes>"
      ]
     },
     "metadata": {},
     "output_type": "display_data"
    }
   ],
   "source": [
    "from itertools import cycle\n",
    "\n",
    "fpr = results['train']['MLP-adam-100H']['roc'][0]['fpr']\n",
    "tpr = results['train']['MLP-adam-100H']['roc'][0]['tpr']\n",
    "roc_auc = results['train']['MLP-adam-100H']['roc_auc'][0]\n",
    "\n",
    "colors = cycle(['aqua', 'darkorange', 'cornflowerblue', 'deeppink', 'navy'])\n",
    "lw = 2\n",
    "for i, color in zip(range(len(fpr)), colors):\n",
    "    plt.plot(fpr[i], tpr[i], color=color, lw=lw,\n",
    "             label='ROC curve of class {0} (area = {1:0.2f})'\n",
    "             ''.format(i, roc_auc[i]))\n",
    "    \n",
    "plt.plot([0, 1], [0, 1], 'k--', lw=lw)\n",
    "plt.xlim([0.0, 1.0])\n",
    "plt.ylim([0.0, 1.05])\n",
    "plt.xlabel('False Positive Rate')\n",
    "plt.ylabel('True Positive Rate')\n",
    "plt.title('Some extension of Receiver operating characteristic to multi-class')\n",
    "plt.legend(loc=\"lower right\")\n",
    "plt.show()"
   ]
  },
  {
   "cell_type": "code",
   "execution_count": 31,
   "metadata": {},
   "outputs": [],
   "source": [
    "import os\n",
    "from sklearn.externals import joblib\n",
    "from itertools import cycle\n",
    "\n",
    "def export_results(results, foldername):\n",
    "    results_to_csv(results, foldername)  \n",
    "    ROC_curves(results, foldername)\n",
    "    return None\n",
    "    \n",
    "def ROC_curves(results, foldername):\n",
    "    foldertree = 'Results'\n",
    "    # local defs:\n",
    "    plt.style.use('/media/navar/LargeData/Navar/Dados_diversos/ECG-01-paper_01/ECG-Arritmia-Paper1/utils/seaborn-poster__navar.mplstyle')\n",
    "    #colors = cycle(['aqua', 'darkorange', 'cornflowerblue', 'deeppink', 'navy'])\n",
    "    lw = 5\n",
    "    \n",
    "    # iterate over classifiers:\n",
    "    for clf in results: \n",
    "        # iterate over each fold:\n",
    "        for folds in range(len(results[clf]['roc'])):\n",
    "            fpr = results[clf]['roc'][folds]['fpr']\n",
    "            tpr = results[clf]['roc'][folds]['tpr']\n",
    "            roc_auc = results[clf]['roc_auc'][folds]\n",
    "            # iterate over each class:\n",
    "            plt.figure()\n",
    "            for i in range(len(fpr)):\n",
    "                plt.plot(fpr[i], tpr[i], lw=lw,\n",
    "                         label='ROC curve of class {0} (area = {1:0.2f})'\n",
    "                         ''.format(i, roc_auc[i]))\n",
    "            \n",
    "            plt.plot([0, 1], [0, 1], 'k--', lw=lw)\n",
    "            plt.xlim([0.0, 1.0])\n",
    "            plt.ylim([0.0, 1.05])\n",
    "            plt.xlabel('False Positive Rate')\n",
    "            plt.ylabel('True Positive Rate')\n",
    "            #plt.title('Some extension of Receiver operating characteristic to multi-class')\n",
    "            plt.legend(loc=\"lower right\")\n",
    "            \n",
    "            full_path = os.path.join(foldertree, foldername, 'ROC')\n",
    "            check_folder(os.path.join(foldertree, foldername),'ROC')\n",
    "            figName = os.path.join(full_path, 'ROC__' + clf + 'Fold_' + str(folds) + '.pdf')\n",
    "            plt.savefig(figName, dpi=600, format='pdf')\n",
    "            plt.close()\n",
    "            #plt.show\n",
    "    return None\n",
    "\n",
    "def results_to_csv(results, foldername):\n",
    "    \n",
    "    # create a results folder:\n",
    "    \n",
    "    foldertree = 'Results'\n",
    "    \n",
    "    check_folder(foldertree, foldername)\n",
    "\n",
    "    # Save results variable\n",
    "    joblib.dump(results, os.path.join(foldertree, 'results.pkl'))        \n",
    "    \n",
    "    # for each classifier:\n",
    "    others = {}\n",
    "    for clf in results:\n",
    "        for metric in results[clf]['average']:\n",
    "            if 'confMat' in results[clf]['average']:\n",
    "                # AVG confusion matrix\n",
    "                pd.DataFrame(results[clf]['average']['confMat']).to_csv(os.path.join(foldertree, \n",
    "                                                                                     foldername,\n",
    "                                                                                    'Result_' + clf + '_' + 'AVG_' + 'confMat' + '.csv'))\n",
    "                confMat_buffer = percentage_confMat(results[clf]['average']['confMat'])\n",
    "                pd.DataFrame(confMat_buffer).to_csv(os.path.join(foldertree, \n",
    "                                                                foldername,\n",
    "                                                                'Result_' + clf + '_' + 'AVG_%%_' + 'confMat' + '.csv'))\n",
    "                # STD confusion matrix\n",
    "                pd.DataFrame(results[clf]['average']['confMat_std']).to_csv(os.path.join(foldertree, \n",
    "                                                                                     foldername,\n",
    "                                                                                     'Result_' + clf + '_' + 'STD_' + 'confMat' + '.csv'))\n",
    "                confMat_buffer = percentage_confMat(results[clf]['average']['confMat_std'])\n",
    "                pd.DataFrame(confMat_buffer).to_csv(os.path.join(foldertree, \n",
    "                                                                foldername,\n",
    "                                                                'Result_' + clf + '_' + 'STD_%%_' + 'confMat' + '.csv'))\n",
    "                \n",
    "            if not (metric == 'confMat' or metric == 'confMat_std'):\n",
    "                others[metric] = results[clf][metric]\n",
    "\n",
    "        output = pd.DataFrame(others)\n",
    "        output.loc['average'] = output.mean()\n",
    "        output.loc['std'] = output.std()\n",
    "        output.to_csv(os.path.join(foldertree, foldername, 'Result_' + clf + '_' + 'metrics.csv'))\n",
    "        \n",
    "def percentage_confMat(confMat):\n",
    "    return np.around((confMat / np.sum(confMat,axis=1)[:,None])*100,2)\n",
    "\n",
    "def check_folder(foldertree, foldername):\n",
    "    #foldertree = 'Results'\n",
    "    if os.path.isdir(os.path.join(foldertree, foldername)):\n",
    "        return True\n",
    "    else:\n",
    "        if os.path.isdir(foldertree):\n",
    "            os.mkdir(os.path.join(foldertree, foldername))\n",
    "        else:\n",
    "            os.mkdir(foldertree)\n",
    "            os.mkdir(os.path.join(foldertree, foldername))\n",
    "        return False"
   ]
  },
  {
   "cell_type": "code",
   "execution_count": 33,
   "metadata": {},
   "outputs": [
    {
     "name": "stderr",
     "output_type": "stream",
     "text": [
      "/home/navar/anaconda3/lib/python3.6/site-packages/matplotlib/pyplot.py:537: RuntimeWarning: More than 20 figures have been opened. Figures created through the pyplot interface (`matplotlib.pyplot.figure`) are retained until explicitly closed and may consume too much memory. (To control this warning, see the rcParam `figure.max_open_warning`).\n",
      "  max_open_warning, RuntimeWarning)\n"
     ]
    }
   ],
   "source": [
    "export_results(results['test'], 'test')\n",
    "export_results(results['train'], 'train')"
   ]
  },
  {
   "cell_type": "code",
   "execution_count": null,
   "metadata": {},
   "outputs": [],
   "source": []
  },
  {
   "cell_type": "code",
   "execution_count": null,
   "metadata": {},
   "outputs": [],
   "source": []
  }
 ],
 "metadata": {
  "kernelspec": {
   "display_name": "Python 3",
   "language": "python",
   "name": "python3"
  },
  "language_info": {
   "codemirror_mode": {
    "name": "ipython",
    "version": 3
   },
   "file_extension": ".py",
   "mimetype": "text/x-python",
   "name": "python",
   "nbconvert_exporter": "python",
   "pygments_lexer": "ipython3",
   "version": "3.6.2"
  }
 },
 "nbformat": 4,
 "nbformat_minor": 2
}
