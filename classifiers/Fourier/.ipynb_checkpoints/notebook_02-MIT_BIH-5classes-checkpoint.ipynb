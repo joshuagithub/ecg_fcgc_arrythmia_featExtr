{
 "cells": [
  {
   "cell_type": "code",
   "execution_count": 1,
   "metadata": {
    "collapsed": true
   },
   "outputs": [],
   "source": [
    "import pandas as pd\n",
    "import numpy as np\n",
    "import matplotlib.pyplot as plt\n",
    "from sklearn import preprocessing\n",
    "from sklearn import metrics\n",
    "import os\n",
    "\n",
    "from experiment import *\n",
    "\n",
    "%matplotlib inline"
   ]
  },
  {
   "cell_type": "code",
   "execution_count": 2,
   "metadata": {
    "collapsed": true
   },
   "outputs": [],
   "source": [
    "folderpath = '/media/navar/LargeData/Navar/Dados_diversos/ECG-01-paper_01/ECG-Arritmia-Paper1/Database_extracted/Dataset_with_features/'\n",
    "filename = 'MIT-BIH__DS1_5classes__Fourier.csv'\n",
    "dataset = pd.read_csv(os.path.join(folderpath, filename));"
   ]
  },
  {
   "cell_type": "code",
   "execution_count": 3,
   "metadata": {},
   "outputs": [
    {
     "data": {
      "text/html": [
       "<div>\n",
       "<style>\n",
       "    .dataframe thead tr:only-child th {\n",
       "        text-align: right;\n",
       "    }\n",
       "\n",
       "    .dataframe thead th {\n",
       "        text-align: left;\n",
       "    }\n",
       "\n",
       "    .dataframe tbody tr th {\n",
       "        vertical-align: top;\n",
       "    }\n",
       "</style>\n",
       "<table border=\"1\" class=\"dataframe\">\n",
       "  <thead>\n",
       "    <tr style=\"text-align: right;\">\n",
       "      <th></th>\n",
       "      <th>Var1</th>\n",
       "      <th>Var2</th>\n",
       "      <th>Var3</th>\n",
       "      <th>Var4</th>\n",
       "      <th>Var5</th>\n",
       "      <th>Var6</th>\n",
       "      <th>Var7</th>\n",
       "      <th>Var8</th>\n",
       "      <th>Var9</th>\n",
       "      <th>Var10</th>\n",
       "      <th>...</th>\n",
       "      <th>Var25</th>\n",
       "      <th>Var26</th>\n",
       "      <th>Var27</th>\n",
       "      <th>Var28</th>\n",
       "      <th>Var29</th>\n",
       "      <th>Var30</th>\n",
       "      <th>Var31</th>\n",
       "      <th>Var32</th>\n",
       "      <th>Var33</th>\n",
       "      <th>target</th>\n",
       "    </tr>\n",
       "  </thead>\n",
       "  <tbody>\n",
       "    <tr>\n",
       "      <th>0</th>\n",
       "      <td>0.140163</td>\n",
       "      <td>0.302116</td>\n",
       "      <td>0.256512</td>\n",
       "      <td>0.199795</td>\n",
       "      <td>0.167456</td>\n",
       "      <td>0.136428</td>\n",
       "      <td>0.092218</td>\n",
       "      <td>0.053257</td>\n",
       "      <td>0.035375</td>\n",
       "      <td>0.022090</td>\n",
       "      <td>...</td>\n",
       "      <td>0.001537</td>\n",
       "      <td>0.003202</td>\n",
       "      <td>0.000649</td>\n",
       "      <td>0.002842</td>\n",
       "      <td>0.002034</td>\n",
       "      <td>0.003303</td>\n",
       "      <td>0.002120</td>\n",
       "      <td>0.001724</td>\n",
       "      <td>0.001094</td>\n",
       "      <td>0</td>\n",
       "    </tr>\n",
       "    <tr>\n",
       "      <th>1</th>\n",
       "      <td>0.164694</td>\n",
       "      <td>0.294092</td>\n",
       "      <td>0.248227</td>\n",
       "      <td>0.189410</td>\n",
       "      <td>0.155726</td>\n",
       "      <td>0.119119</td>\n",
       "      <td>0.084469</td>\n",
       "      <td>0.051921</td>\n",
       "      <td>0.026894</td>\n",
       "      <td>0.022658</td>\n",
       "      <td>...</td>\n",
       "      <td>0.001776</td>\n",
       "      <td>0.001309</td>\n",
       "      <td>0.001864</td>\n",
       "      <td>0.002886</td>\n",
       "      <td>0.001600</td>\n",
       "      <td>0.001463</td>\n",
       "      <td>0.001042</td>\n",
       "      <td>0.000314</td>\n",
       "      <td>0.001563</td>\n",
       "      <td>0</td>\n",
       "    </tr>\n",
       "    <tr>\n",
       "      <th>2</th>\n",
       "      <td>0.264069</td>\n",
       "      <td>0.336712</td>\n",
       "      <td>0.279655</td>\n",
       "      <td>0.212017</td>\n",
       "      <td>0.169007</td>\n",
       "      <td>0.126995</td>\n",
       "      <td>0.081884</td>\n",
       "      <td>0.039922</td>\n",
       "      <td>0.025413</td>\n",
       "      <td>0.012168</td>\n",
       "      <td>...</td>\n",
       "      <td>0.002457</td>\n",
       "      <td>0.002108</td>\n",
       "      <td>0.001981</td>\n",
       "      <td>0.001673</td>\n",
       "      <td>0.002745</td>\n",
       "      <td>0.001638</td>\n",
       "      <td>0.001236</td>\n",
       "      <td>0.002879</td>\n",
       "      <td>0.002812</td>\n",
       "      <td>0</td>\n",
       "    </tr>\n",
       "    <tr>\n",
       "      <th>3</th>\n",
       "      <td>0.072350</td>\n",
       "      <td>0.351005</td>\n",
       "      <td>0.288275</td>\n",
       "      <td>0.218995</td>\n",
       "      <td>0.177219</td>\n",
       "      <td>0.124068</td>\n",
       "      <td>0.074372</td>\n",
       "      <td>0.044149</td>\n",
       "      <td>0.024169</td>\n",
       "      <td>0.016180</td>\n",
       "      <td>...</td>\n",
       "      <td>0.001813</td>\n",
       "      <td>0.001525</td>\n",
       "      <td>0.002232</td>\n",
       "      <td>0.003359</td>\n",
       "      <td>0.001211</td>\n",
       "      <td>0.002223</td>\n",
       "      <td>0.001470</td>\n",
       "      <td>0.002496</td>\n",
       "      <td>0.000781</td>\n",
       "      <td>0</td>\n",
       "    </tr>\n",
       "    <tr>\n",
       "      <th>4</th>\n",
       "      <td>0.029850</td>\n",
       "      <td>0.354420</td>\n",
       "      <td>0.295535</td>\n",
       "      <td>0.229964</td>\n",
       "      <td>0.184878</td>\n",
       "      <td>0.129478</td>\n",
       "      <td>0.076174</td>\n",
       "      <td>0.041396</td>\n",
       "      <td>0.027271</td>\n",
       "      <td>0.015194</td>\n",
       "      <td>...</td>\n",
       "      <td>0.002030</td>\n",
       "      <td>0.000666</td>\n",
       "      <td>0.001806</td>\n",
       "      <td>0.002329</td>\n",
       "      <td>0.001273</td>\n",
       "      <td>0.002032</td>\n",
       "      <td>0.001337</td>\n",
       "      <td>0.002298</td>\n",
       "      <td>0.001719</td>\n",
       "      <td>0</td>\n",
       "    </tr>\n",
       "  </tbody>\n",
       "</table>\n",
       "<p>5 rows × 34 columns</p>\n",
       "</div>"
      ],
      "text/plain": [
       "       Var1      Var2      Var3      Var4      Var5      Var6      Var7  \\\n",
       "0  0.140163  0.302116  0.256512  0.199795  0.167456  0.136428  0.092218   \n",
       "1  0.164694  0.294092  0.248227  0.189410  0.155726  0.119119  0.084469   \n",
       "2  0.264069  0.336712  0.279655  0.212017  0.169007  0.126995  0.081884   \n",
       "3  0.072350  0.351005  0.288275  0.218995  0.177219  0.124068  0.074372   \n",
       "4  0.029850  0.354420  0.295535  0.229964  0.184878  0.129478  0.076174   \n",
       "\n",
       "       Var8      Var9     Var10   ...       Var25     Var26     Var27  \\\n",
       "0  0.053257  0.035375  0.022090   ...    0.001537  0.003202  0.000649   \n",
       "1  0.051921  0.026894  0.022658   ...    0.001776  0.001309  0.001864   \n",
       "2  0.039922  0.025413  0.012168   ...    0.002457  0.002108  0.001981   \n",
       "3  0.044149  0.024169  0.016180   ...    0.001813  0.001525  0.002232   \n",
       "4  0.041396  0.027271  0.015194   ...    0.002030  0.000666  0.001806   \n",
       "\n",
       "      Var28     Var29     Var30     Var31     Var32     Var33  target  \n",
       "0  0.002842  0.002034  0.003303  0.002120  0.001724  0.001094       0  \n",
       "1  0.002886  0.001600  0.001463  0.001042  0.000314  0.001563       0  \n",
       "2  0.001673  0.002745  0.001638  0.001236  0.002879  0.002812       0  \n",
       "3  0.003359  0.001211  0.002223  0.001470  0.002496  0.000781       0  \n",
       "4  0.002329  0.001273  0.002032  0.001337  0.002298  0.001719       0  \n",
       "\n",
       "[5 rows x 34 columns]"
      ]
     },
     "execution_count": 3,
     "metadata": {},
     "output_type": "execute_result"
    }
   ],
   "source": [
    "dataset.head()"
   ]
  },
  {
   "cell_type": "markdown",
   "metadata": {},
   "source": [
    "# Data preprocessing"
   ]
  },
  {
   "cell_type": "markdown",
   "metadata": {},
   "source": [
    "In this step we are going standardize our dataset."
   ]
  },
  {
   "cell_type": "code",
   "execution_count": 4,
   "metadata": {
    "collapsed": true
   },
   "outputs": [],
   "source": [
    "from sklearn.preprocessing import StandardScaler\n",
    "\n",
    "std_scaler = StandardScaler()"
   ]
  },
  {
   "cell_type": "markdown",
   "metadata": {},
   "source": [
    "Separete features from labels."
   ]
  },
  {
   "cell_type": "code",
   "execution_count": 5,
   "metadata": {},
   "outputs": [],
   "source": [
    "data_std = std_scaler.fit_transform(dataset.values[:,:-1])\n",
    "data_label = dataset.values[:,-1]"
   ]
  },
  {
   "cell_type": "markdown",
   "metadata": {},
   "source": [
    "# Classifiers specifications"
   ]
  },
  {
   "cell_type": "markdown",
   "metadata": {},
   "source": [
    "Could be different classifiers, create each one using a different objects"
   ]
  },
  {
   "cell_type": "code",
   "execution_count": 6,
   "metadata": {},
   "outputs": [],
   "source": [
    "from sklearn.neural_network import MLPClassifier\n",
    "from sklearn.linear_model import SGDClassifier\n",
    "\n",
    "# MLP:\n",
    "mlp_clf = MLPClassifier(solver='adam', alpha=1e-5, learning_rate='adaptive', learning_rate_init = 0.1,\n",
    "                        max_iter=1300, momentum=0.3, activation = 'relu', power_t=0.5,\n",
    "                        hidden_layer_sizes=(100,), verbose=0)\n",
    "\n",
    "# SGD:\n",
    "\n",
    "#sgd_clf = SGDClassifier(eta0=0.001, max_iter=1000)"
   ]
  },
  {
   "cell_type": "markdown",
   "metadata": {},
   "source": [
    "# Classifiers training an testing"
   ]
  },
  {
   "cell_type": "markdown",
   "metadata": {},
   "source": [
    "Define our models to train. Import each classifiers into a python dictionary."
   ]
  },
  {
   "cell_type": "code",
   "execution_count": 7,
   "metadata": {},
   "outputs": [],
   "source": [
    "#classifiers = {'MLP-adam-100H': mlp_clf, 'SGD': sgd_clf}\n",
    "classifiers = {'MLP-adam-100H': mlp_clf}"
   ]
  },
  {
   "cell_type": "markdown",
   "metadata": {},
   "source": [
    "Using stratified cross-validation for model selection"
   ]
  },
  {
   "cell_type": "markdown",
   "metadata": {},
   "source": [
    "Run all classifiers:"
   ]
  },
  {
   "cell_type": "code",
   "execution_count": 8,
   "metadata": {},
   "outputs": [],
   "source": [
    "clf_outputs = run_classifiers(data_std, data_label, classifiers, 2)"
   ]
  },
  {
   "cell_type": "markdown",
   "metadata": {},
   "source": [
    "# Performance assessment"
   ]
  },
  {
   "cell_type": "markdown",
   "metadata": {},
   "source": [
    "Saving variables in a dictionary:"
   ]
  },
  {
   "cell_type": "code",
   "execution_count": 9,
   "metadata": {},
   "outputs": [
    {
     "name": "stderr",
     "output_type": "stream",
     "text": [
      "/home/navar/anaconda3/lib/python3.6/site-packages/sklearn/metrics/classification.py:1135: UndefinedMetricWarning: Precision is ill-defined and being set to 0.0 in labels with no predicted samples.\n",
      "  'precision', 'predicted', average, warn_for)\n",
      "/home/navar/anaconda3/lib/python3.6/site-packages/sklearn/metrics/classification.py:1135: UndefinedMetricWarning: F-score is ill-defined and being set to 0.0 in labels with no predicted samples.\n",
      "  'precision', 'predicted', average, warn_for)\n"
     ]
    }
   ],
   "source": [
    "results = {}\n",
    "results['train'] = results_clf(5, clf_outputs['train']['true'], clf_outputs['train']['pred'])\n",
    "results['test'] = results_clf(5, clf_outputs['test']['true'], clf_outputs['test']['pred'])"
   ]
  },
  {
   "cell_type": "markdown",
   "metadata": {},
   "source": [
    "# Savel results, models and pipeline to a .pkl file"
   ]
  },
  {
   "cell_type": "code",
   "execution_count": 10,
   "metadata": {},
   "outputs": [],
   "source": [
    "save_models(classifiers)\n",
    "save_pipeline(std_scaler)"
   ]
  },
  {
   "cell_type": "markdown",
   "metadata": {},
   "source": [
    "# Save results to CSVs and figure"
   ]
  },
  {
   "cell_type": "code",
   "execution_count": 11,
   "metadata": {},
   "outputs": [],
   "source": [
    "export_results(results['test'], 'test')\n",
    "export_results(results['train'], 'train')"
   ]
  }
 ],
 "metadata": {
  "kernelspec": {
   "display_name": "Python 3",
   "language": "python",
   "name": "python3"
  },
  "language_info": {
   "codemirror_mode": {
    "name": "ipython",
    "version": 3
   },
   "file_extension": ".py",
   "mimetype": "text/x-python",
   "name": "python",
   "nbconvert_exporter": "python",
   "pygments_lexer": "ipython3",
   "version": "3.6.2"
  }
 },
 "nbformat": 4,
 "nbformat_minor": 2
}
