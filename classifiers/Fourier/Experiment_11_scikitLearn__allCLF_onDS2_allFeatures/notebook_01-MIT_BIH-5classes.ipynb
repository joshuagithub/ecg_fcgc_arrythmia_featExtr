{
 "cells": [
  {
   "cell_type": "code",
   "execution_count": 1,
   "metadata": {
    "collapsed": true
   },
   "outputs": [],
   "source": [
    "import pandas as pd\n",
    "import numpy as np\n",
    "import matplotlib.pyplot as plt\n",
    "from sklearn import preprocessing\n",
    "from sklearn import metrics\n",
    "import os\n",
    "\n",
    "from experiment import *"
   ]
  },
  {
   "cell_type": "markdown",
   "metadata": {},
   "source": [
    "# Load data ** Chose your path before get stated **"
   ]
  },
  {
   "cell_type": "code",
   "execution_count": 2,
   "metadata": {},
   "outputs": [],
   "source": [
    "path = os.getcwd()\n",
    "rootDir, _ = path.split('ECG-Arritmia-Paper1')\n",
    "path = 'ECG-Arritmia-Paper1/Database_extracted/Dataset_with_features'\n",
    "filename = 'MIT-BIH__DS2_5classes__Fourier.csv'\n",
    "dataset = pd.read_csv(os.path.join(rootDir, path, filename));"
   ]
  },
  {
   "cell_type": "code",
   "execution_count": 3,
   "metadata": {},
   "outputs": [
    {
     "data": {
      "text/html": [
       "<div>\n",
       "<style>\n",
       "    .dataframe thead tr:only-child th {\n",
       "        text-align: right;\n",
       "    }\n",
       "\n",
       "    .dataframe thead th {\n",
       "        text-align: left;\n",
       "    }\n",
       "\n",
       "    .dataframe tbody tr th {\n",
       "        vertical-align: top;\n",
       "    }\n",
       "</style>\n",
       "<table border=\"1\" class=\"dataframe\">\n",
       "  <thead>\n",
       "    <tr style=\"text-align: right;\">\n",
       "      <th></th>\n",
       "      <th>Var1</th>\n",
       "      <th>Var2</th>\n",
       "      <th>Var3</th>\n",
       "      <th>Var4</th>\n",
       "      <th>Var5</th>\n",
       "      <th>Var6</th>\n",
       "      <th>Var7</th>\n",
       "      <th>Var8</th>\n",
       "      <th>Var9</th>\n",
       "      <th>Var10</th>\n",
       "      <th>...</th>\n",
       "      <th>Var25</th>\n",
       "      <th>Var26</th>\n",
       "      <th>Var27</th>\n",
       "      <th>Var28</th>\n",
       "      <th>Var29</th>\n",
       "      <th>Var30</th>\n",
       "      <th>Var31</th>\n",
       "      <th>Var32</th>\n",
       "      <th>Var33</th>\n",
       "      <th>target</th>\n",
       "    </tr>\n",
       "  </thead>\n",
       "  <tbody>\n",
       "    <tr>\n",
       "      <th>0</th>\n",
       "      <td>0.168067</td>\n",
       "      <td>0.193887</td>\n",
       "      <td>0.216915</td>\n",
       "      <td>0.210637</td>\n",
       "      <td>0.169596</td>\n",
       "      <td>0.123020</td>\n",
       "      <td>0.076533</td>\n",
       "      <td>0.051240</td>\n",
       "      <td>0.034684</td>\n",
       "      <td>0.024381</td>\n",
       "      <td>...</td>\n",
       "      <td>0.001717</td>\n",
       "      <td>0.001402</td>\n",
       "      <td>0.001021</td>\n",
       "      <td>0.001168</td>\n",
       "      <td>0.001496</td>\n",
       "      <td>0.001062</td>\n",
       "      <td>0.001859</td>\n",
       "      <td>0.001419</td>\n",
       "      <td>0.000781</td>\n",
       "      <td>0</td>\n",
       "    </tr>\n",
       "    <tr>\n",
       "      <th>1</th>\n",
       "      <td>0.150410</td>\n",
       "      <td>0.277900</td>\n",
       "      <td>0.282133</td>\n",
       "      <td>0.254650</td>\n",
       "      <td>0.182793</td>\n",
       "      <td>0.103832</td>\n",
       "      <td>0.052994</td>\n",
       "      <td>0.025424</td>\n",
       "      <td>0.014123</td>\n",
       "      <td>0.009648</td>\n",
       "      <td>...</td>\n",
       "      <td>0.001103</td>\n",
       "      <td>0.001164</td>\n",
       "      <td>0.000873</td>\n",
       "      <td>0.002985</td>\n",
       "      <td>0.000949</td>\n",
       "      <td>0.002357</td>\n",
       "      <td>0.001331</td>\n",
       "      <td>0.000781</td>\n",
       "      <td>0.003125</td>\n",
       "      <td>0</td>\n",
       "    </tr>\n",
       "    <tr>\n",
       "      <th>2</th>\n",
       "      <td>0.052129</td>\n",
       "      <td>0.221438</td>\n",
       "      <td>0.240856</td>\n",
       "      <td>0.228624</td>\n",
       "      <td>0.198214</td>\n",
       "      <td>0.140595</td>\n",
       "      <td>0.099769</td>\n",
       "      <td>0.062602</td>\n",
       "      <td>0.048336</td>\n",
       "      <td>0.030559</td>\n",
       "      <td>...</td>\n",
       "      <td>0.001838</td>\n",
       "      <td>0.001028</td>\n",
       "      <td>0.000912</td>\n",
       "      <td>0.001266</td>\n",
       "      <td>0.001506</td>\n",
       "      <td>0.000536</td>\n",
       "      <td>0.001411</td>\n",
       "      <td>0.001822</td>\n",
       "      <td>0.002344</td>\n",
       "      <td>0</td>\n",
       "    </tr>\n",
       "    <tr>\n",
       "      <th>3</th>\n",
       "      <td>0.000996</td>\n",
       "      <td>0.212796</td>\n",
       "      <td>0.247697</td>\n",
       "      <td>0.230758</td>\n",
       "      <td>0.180031</td>\n",
       "      <td>0.126334</td>\n",
       "      <td>0.088010</td>\n",
       "      <td>0.060599</td>\n",
       "      <td>0.043856</td>\n",
       "      <td>0.037445</td>\n",
       "      <td>...</td>\n",
       "      <td>0.000625</td>\n",
       "      <td>0.002388</td>\n",
       "      <td>0.000985</td>\n",
       "      <td>0.000235</td>\n",
       "      <td>0.001016</td>\n",
       "      <td>0.001002</td>\n",
       "      <td>0.000258</td>\n",
       "      <td>0.002047</td>\n",
       "      <td>0.001719</td>\n",
       "      <td>0</td>\n",
       "    </tr>\n",
       "    <tr>\n",
       "      <th>4</th>\n",
       "      <td>0.027285</td>\n",
       "      <td>0.189900</td>\n",
       "      <td>0.209953</td>\n",
       "      <td>0.205292</td>\n",
       "      <td>0.178175</td>\n",
       "      <td>0.133576</td>\n",
       "      <td>0.090180</td>\n",
       "      <td>0.057837</td>\n",
       "      <td>0.039776</td>\n",
       "      <td>0.023964</td>\n",
       "      <td>...</td>\n",
       "      <td>0.001762</td>\n",
       "      <td>0.000873</td>\n",
       "      <td>0.001418</td>\n",
       "      <td>0.001064</td>\n",
       "      <td>0.001545</td>\n",
       "      <td>0.000357</td>\n",
       "      <td>0.001771</td>\n",
       "      <td>0.001129</td>\n",
       "      <td>0.000625</td>\n",
       "      <td>0</td>\n",
       "    </tr>\n",
       "  </tbody>\n",
       "</table>\n",
       "<p>5 rows × 34 columns</p>\n",
       "</div>"
      ],
      "text/plain": [
       "       Var1      Var2      Var3      Var4      Var5      Var6      Var7  \\\n",
       "0  0.168067  0.193887  0.216915  0.210637  0.169596  0.123020  0.076533   \n",
       "1  0.150410  0.277900  0.282133  0.254650  0.182793  0.103832  0.052994   \n",
       "2  0.052129  0.221438  0.240856  0.228624  0.198214  0.140595  0.099769   \n",
       "3  0.000996  0.212796  0.247697  0.230758  0.180031  0.126334  0.088010   \n",
       "4  0.027285  0.189900  0.209953  0.205292  0.178175  0.133576  0.090180   \n",
       "\n",
       "       Var8      Var9     Var10   ...       Var25     Var26     Var27  \\\n",
       "0  0.051240  0.034684  0.024381   ...    0.001717  0.001402  0.001021   \n",
       "1  0.025424  0.014123  0.009648   ...    0.001103  0.001164  0.000873   \n",
       "2  0.062602  0.048336  0.030559   ...    0.001838  0.001028  0.000912   \n",
       "3  0.060599  0.043856  0.037445   ...    0.000625  0.002388  0.000985   \n",
       "4  0.057837  0.039776  0.023964   ...    0.001762  0.000873  0.001418   \n",
       "\n",
       "      Var28     Var29     Var30     Var31     Var32     Var33  target  \n",
       "0  0.001168  0.001496  0.001062  0.001859  0.001419  0.000781       0  \n",
       "1  0.002985  0.000949  0.002357  0.001331  0.000781  0.003125       0  \n",
       "2  0.001266  0.001506  0.000536  0.001411  0.001822  0.002344       0  \n",
       "3  0.000235  0.001016  0.001002  0.000258  0.002047  0.001719       0  \n",
       "4  0.001064  0.001545  0.000357  0.001771  0.001129  0.000625       0  \n",
       "\n",
       "[5 rows x 34 columns]"
      ]
     },
     "execution_count": 3,
     "metadata": {},
     "output_type": "execute_result"
    }
   ],
   "source": [
    "dataset.head()"
   ]
  },
  {
   "cell_type": "code",
   "execution_count": 4,
   "metadata": {},
   "outputs": [
    {
     "data": {
      "text/plain": [
       "(49668, 34)"
      ]
     },
     "execution_count": 4,
     "metadata": {},
     "output_type": "execute_result"
    }
   ],
   "source": [
    "dataset.shape"
   ]
  },
  {
   "cell_type": "markdown",
   "metadata": {},
   "source": [
    "# Data preprocessing"
   ]
  },
  {
   "cell_type": "markdown",
   "metadata": {},
   "source": [
    "In this step we are going standardize our dataset. The pipeline.pkl will be loaded, and it contains the weights of normalization onf DS1 set."
   ]
  },
  {
   "cell_type": "code",
   "execution_count": 5,
   "metadata": {
    "collapsed": true
   },
   "outputs": [],
   "source": [
    "from sklearn.externals import joblib\n",
    "\n",
    "pipeline = joblib.load('./Models/pipeline.pkl')"
   ]
  },
  {
   "cell_type": "markdown",
   "metadata": {},
   "source": [
    "Separete features from labels."
   ]
  },
  {
   "cell_type": "code",
   "execution_count": 8,
   "metadata": {},
   "outputs": [],
   "source": [
    "data_std = pipeline.transform(dataset.values[:,:-1])\n",
    "data_label = dataset.values[:,-1]"
   ]
  },
  {
   "cell_type": "markdown",
   "metadata": {},
   "source": [
    "# Load classifiers"
   ]
  },
  {
   "cell_type": "code",
   "execution_count": 9,
   "metadata": {},
   "outputs": [],
   "source": [
    "from sklearn.externals import joblib\n",
    "\n",
    "random_search_SVM = joblib.load('./Models/classifiers_SVM.pkl')\n",
    "random_search_MLP = joblib.load('./Models/classifiers_MLP.pkl')\n",
    "random_search_Bayes = joblib.load('./Models/classifiers_MLP_Bayes.pkl')"
   ]
  },
  {
   "cell_type": "code",
   "execution_count": 10,
   "metadata": {},
   "outputs": [],
   "source": [
    "svm_clf = random_search_SVM['SVM-RBF'].best_estimator_\n",
    "mlp_clf = random_search_MLP['MLP'].best_estimator_\n",
    "bayes_clf = random_search_Bayes['Naive-Bayes']"
   ]
  },
  {
   "cell_type": "code",
   "execution_count": 11,
   "metadata": {},
   "outputs": [],
   "source": [
    "classifiers = {'MLP-768': mlp_clf, 'SVM-RBF': svm_clf, 'Naive-Bayes': bayes_clf}"
   ]
  },
  {
   "cell_type": "markdown",
   "metadata": {},
   "source": [
    "# **TEST** on DS2 set"
   ]
  },
  {
   "cell_type": "code",
   "execution_count": 65,
   "metadata": {},
   "outputs": [
    {
     "name": "stdout",
     "output_type": "stream",
     "text": [
      "MLP-768\n",
      "SVM-RBF\n",
      "Naive-Bayes\n"
     ]
    },
    {
     "name": "stderr",
     "output_type": "stream",
     "text": [
      "/home/navar/anaconda3/lib/python3.6/site-packages/sklearn/metrics/classification.py:1135: UndefinedMetricWarning: Precision is ill-defined and being set to 0.0 in labels with no predicted samples.\n",
      "  'precision', 'predicted', average, warn_for)\n",
      "/home/navar/anaconda3/lib/python3.6/site-packages/sklearn/metrics/classification.py:1135: UndefinedMetricWarning: F-score is ill-defined and being set to 0.0 in labels with no predicted samples.\n",
      "  'precision', 'predicted', average, warn_for)\n",
      "/media/navar/LargeData/Navar/Dados_diversos/ECG-01-paper_01/ECG-Arritmia-Paper1/Results_Navar/Fourier/Experiment_11_scikitLearn__allCLF_onDS2_allFeatures/experiment.py:150: RuntimeWarning: invalid value encountered in double_scalars\n",
      "  metrics_class[i,2] = TP / (TP + FP)\n",
      "/media/navar/LargeData/Navar/Dados_diversos/ECG-01-paper_01/ECG-Arritmia-Paper1/Results_Navar/Fourier/Experiment_11_scikitLearn__allCLF_onDS2_allFeatures/experiment.py:152: RuntimeWarning: invalid value encountered in double_scalars\n",
      "  metrics_class[i,3] = (2*metrics_class[i,2]*metrics_class[i,1])/(metrics_class[i,2] + metrics_class[i,1])\n"
     ]
    }
   ],
   "source": [
    "clf_outputs = {'true': dict((k, {}) for k in classifiers.keys()), \n",
    "               'pred': dict((k, {}) for k in classifiers.keys())}\n",
    "results = dict((k, {}) for k in classifiers.keys())\n",
    "\n",
    "for clf in classifiers.keys():\n",
    "    print(clf)\n",
    "    clf_outputs['true'][clf][0] = data_label\n",
    "    clf_outputs['pred'][clf][0] = classifiers[clf].predict(data_std)\n",
    "    \n",
    "\n",
    "results = results_clf(5, clf_outputs['true'], clf_outputs['pred'])"
   ]
  },
  {
   "cell_type": "markdown",
   "metadata": {},
   "source": [
    "# Save results to CSVs and figures"
   ]
  },
  {
   "cell_type": "code",
   "execution_count": 70,
   "metadata": {},
   "outputs": [
    {
     "name": "stdout",
     "output_type": "stream",
     "text": [
      "MLP-768\n",
      "SVM-RBF\n",
      "Naive-Bayes\n"
     ]
    },
    {
     "name": "stderr",
     "output_type": "stream",
     "text": [
      "/media/navar/LargeData/Navar/Dados_diversos/ECG-01-paper_01/ECG-Arritmia-Paper1/Results_Navar/Fourier/Experiment_11_scikitLearn__allCLF_onDS2_allFeatures/experiment.py:286: RuntimeWarning: invalid value encountered in true_divide\n",
      "  return np.around((confMat / np.sum(confMat,axis=1)[:,None])*100,2)\n"
     ]
    }
   ],
   "source": [
    "export_results(results, 'validation')"
   ]
  },
  {
   "cell_type": "code",
   "execution_count": null,
   "metadata": {},
   "outputs": [],
   "source": []
  }
 ],
 "metadata": {
  "kernelspec": {
   "display_name": "Python 3",
   "language": "python",
   "name": "python3"
  },
  "language_info": {
   "codemirror_mode": {
    "name": "ipython",
    "version": 3
   },
   "file_extension": ".py",
   "mimetype": "text/x-python",
   "name": "python",
   "nbconvert_exporter": "python",
   "pygments_lexer": "ipython3",
   "version": "3.6.4"
  }
 },
 "nbformat": 4,
 "nbformat_minor": 2
}
