{
 "cells": [
  {
   "cell_type": "code",
   "execution_count": 1,
   "metadata": {
    "collapsed": true
   },
   "outputs": [],
   "source": [
    "import pandas as pd\n",
    "import numpy as np\n",
    "import matplotlib.pyplot as plt\n",
    "from sklearn import preprocessing\n",
    "from sklearn import metrics\n",
    "import os\n",
    "\n",
    "from experiment import *"
   ]
  },
  {
   "cell_type": "markdown",
   "metadata": {},
   "source": [
    "# Load data ** Chose your path before get stated **"
   ]
  },
  {
   "cell_type": "code",
   "execution_count": 2,
   "metadata": {},
   "outputs": [],
   "source": [
    "path = os.getcwd()\n",
    "rootDir, _ = path.split('ECG-Arritmia-Paper1')\n",
    "path = 'ECG-Arritmia-Paper1/Database_extracted/Dataset_with_features'\n",
    "filename = 'MIT-BIH__DS1_5classes__Fourier.csv'\n",
    "dataset = pd.read_csv(os.path.join(rootDir, path, filename));"
   ]
  },
  {
   "cell_type": "code",
   "execution_count": 3,
   "metadata": {},
   "outputs": [
    {
     "data": {
      "text/html": [
       "<div>\n",
       "<style>\n",
       "    .dataframe thead tr:only-child th {\n",
       "        text-align: right;\n",
       "    }\n",
       "\n",
       "    .dataframe thead th {\n",
       "        text-align: left;\n",
       "    }\n",
       "\n",
       "    .dataframe tbody tr th {\n",
       "        vertical-align: top;\n",
       "    }\n",
       "</style>\n",
       "<table border=\"1\" class=\"dataframe\">\n",
       "  <thead>\n",
       "    <tr style=\"text-align: right;\">\n",
       "      <th></th>\n",
       "      <th>Var1</th>\n",
       "      <th>Var2</th>\n",
       "      <th>Var3</th>\n",
       "      <th>Var4</th>\n",
       "      <th>Var5</th>\n",
       "      <th>Var6</th>\n",
       "      <th>Var7</th>\n",
       "      <th>Var8</th>\n",
       "      <th>Var9</th>\n",
       "      <th>Var10</th>\n",
       "      <th>...</th>\n",
       "      <th>Var25</th>\n",
       "      <th>Var26</th>\n",
       "      <th>Var27</th>\n",
       "      <th>Var28</th>\n",
       "      <th>Var29</th>\n",
       "      <th>Var30</th>\n",
       "      <th>Var31</th>\n",
       "      <th>Var32</th>\n",
       "      <th>Var33</th>\n",
       "      <th>target</th>\n",
       "    </tr>\n",
       "  </thead>\n",
       "  <tbody>\n",
       "    <tr>\n",
       "      <th>0</th>\n",
       "      <td>0.140163</td>\n",
       "      <td>0.302116</td>\n",
       "      <td>0.256512</td>\n",
       "      <td>0.199795</td>\n",
       "      <td>0.167456</td>\n",
       "      <td>0.136428</td>\n",
       "      <td>0.092218</td>\n",
       "      <td>0.053257</td>\n",
       "      <td>0.035375</td>\n",
       "      <td>0.022090</td>\n",
       "      <td>...</td>\n",
       "      <td>0.001537</td>\n",
       "      <td>0.003202</td>\n",
       "      <td>0.000649</td>\n",
       "      <td>0.002842</td>\n",
       "      <td>0.002034</td>\n",
       "      <td>0.003303</td>\n",
       "      <td>0.002120</td>\n",
       "      <td>0.001724</td>\n",
       "      <td>0.001094</td>\n",
       "      <td>0</td>\n",
       "    </tr>\n",
       "    <tr>\n",
       "      <th>1</th>\n",
       "      <td>0.164694</td>\n",
       "      <td>0.294092</td>\n",
       "      <td>0.248227</td>\n",
       "      <td>0.189410</td>\n",
       "      <td>0.155726</td>\n",
       "      <td>0.119119</td>\n",
       "      <td>0.084469</td>\n",
       "      <td>0.051921</td>\n",
       "      <td>0.026894</td>\n",
       "      <td>0.022658</td>\n",
       "      <td>...</td>\n",
       "      <td>0.001776</td>\n",
       "      <td>0.001309</td>\n",
       "      <td>0.001864</td>\n",
       "      <td>0.002886</td>\n",
       "      <td>0.001600</td>\n",
       "      <td>0.001463</td>\n",
       "      <td>0.001042</td>\n",
       "      <td>0.000314</td>\n",
       "      <td>0.001563</td>\n",
       "      <td>0</td>\n",
       "    </tr>\n",
       "    <tr>\n",
       "      <th>2</th>\n",
       "      <td>0.264069</td>\n",
       "      <td>0.336712</td>\n",
       "      <td>0.279655</td>\n",
       "      <td>0.212017</td>\n",
       "      <td>0.169007</td>\n",
       "      <td>0.126995</td>\n",
       "      <td>0.081884</td>\n",
       "      <td>0.039922</td>\n",
       "      <td>0.025413</td>\n",
       "      <td>0.012168</td>\n",
       "      <td>...</td>\n",
       "      <td>0.002457</td>\n",
       "      <td>0.002108</td>\n",
       "      <td>0.001981</td>\n",
       "      <td>0.001673</td>\n",
       "      <td>0.002745</td>\n",
       "      <td>0.001638</td>\n",
       "      <td>0.001236</td>\n",
       "      <td>0.002879</td>\n",
       "      <td>0.002812</td>\n",
       "      <td>0</td>\n",
       "    </tr>\n",
       "    <tr>\n",
       "      <th>3</th>\n",
       "      <td>0.072350</td>\n",
       "      <td>0.351005</td>\n",
       "      <td>0.288275</td>\n",
       "      <td>0.218995</td>\n",
       "      <td>0.177219</td>\n",
       "      <td>0.124068</td>\n",
       "      <td>0.074372</td>\n",
       "      <td>0.044149</td>\n",
       "      <td>0.024169</td>\n",
       "      <td>0.016180</td>\n",
       "      <td>...</td>\n",
       "      <td>0.001813</td>\n",
       "      <td>0.001525</td>\n",
       "      <td>0.002232</td>\n",
       "      <td>0.003359</td>\n",
       "      <td>0.001211</td>\n",
       "      <td>0.002223</td>\n",
       "      <td>0.001470</td>\n",
       "      <td>0.002496</td>\n",
       "      <td>0.000781</td>\n",
       "      <td>0</td>\n",
       "    </tr>\n",
       "    <tr>\n",
       "      <th>4</th>\n",
       "      <td>0.029850</td>\n",
       "      <td>0.354420</td>\n",
       "      <td>0.295535</td>\n",
       "      <td>0.229964</td>\n",
       "      <td>0.184878</td>\n",
       "      <td>0.129478</td>\n",
       "      <td>0.076174</td>\n",
       "      <td>0.041396</td>\n",
       "      <td>0.027271</td>\n",
       "      <td>0.015194</td>\n",
       "      <td>...</td>\n",
       "      <td>0.002030</td>\n",
       "      <td>0.000666</td>\n",
       "      <td>0.001806</td>\n",
       "      <td>0.002329</td>\n",
       "      <td>0.001273</td>\n",
       "      <td>0.002032</td>\n",
       "      <td>0.001337</td>\n",
       "      <td>0.002298</td>\n",
       "      <td>0.001719</td>\n",
       "      <td>0</td>\n",
       "    </tr>\n",
       "  </tbody>\n",
       "</table>\n",
       "<p>5 rows × 34 columns</p>\n",
       "</div>"
      ],
      "text/plain": [
       "       Var1      Var2      Var3      Var4      Var5      Var6      Var7  \\\n",
       "0  0.140163  0.302116  0.256512  0.199795  0.167456  0.136428  0.092218   \n",
       "1  0.164694  0.294092  0.248227  0.189410  0.155726  0.119119  0.084469   \n",
       "2  0.264069  0.336712  0.279655  0.212017  0.169007  0.126995  0.081884   \n",
       "3  0.072350  0.351005  0.288275  0.218995  0.177219  0.124068  0.074372   \n",
       "4  0.029850  0.354420  0.295535  0.229964  0.184878  0.129478  0.076174   \n",
       "\n",
       "       Var8      Var9     Var10   ...       Var25     Var26     Var27  \\\n",
       "0  0.053257  0.035375  0.022090   ...    0.001537  0.003202  0.000649   \n",
       "1  0.051921  0.026894  0.022658   ...    0.001776  0.001309  0.001864   \n",
       "2  0.039922  0.025413  0.012168   ...    0.002457  0.002108  0.001981   \n",
       "3  0.044149  0.024169  0.016180   ...    0.001813  0.001525  0.002232   \n",
       "4  0.041396  0.027271  0.015194   ...    0.002030  0.000666  0.001806   \n",
       "\n",
       "      Var28     Var29     Var30     Var31     Var32     Var33  target  \n",
       "0  0.002842  0.002034  0.003303  0.002120  0.001724  0.001094       0  \n",
       "1  0.002886  0.001600  0.001463  0.001042  0.000314  0.001563       0  \n",
       "2  0.001673  0.002745  0.001638  0.001236  0.002879  0.002812       0  \n",
       "3  0.003359  0.001211  0.002223  0.001470  0.002496  0.000781       0  \n",
       "4  0.002329  0.001273  0.002032  0.001337  0.002298  0.001719       0  \n",
       "\n",
       "[5 rows x 34 columns]"
      ]
     },
     "execution_count": 3,
     "metadata": {},
     "output_type": "execute_result"
    }
   ],
   "source": [
    "dataset.head()"
   ]
  },
  {
   "cell_type": "markdown",
   "metadata": {},
   "source": [
    "# Data preprocessing"
   ]
  },
  {
   "cell_type": "markdown",
   "metadata": {},
   "source": [
    "In this step we are going standardize our dataset."
   ]
  },
  {
   "cell_type": "code",
   "execution_count": 4,
   "metadata": {
    "collapsed": true
   },
   "outputs": [],
   "source": [
    "from sklearn.preprocessing import StandardScaler\n",
    "\n",
    "std_scaler = StandardScaler()"
   ]
  },
  {
   "cell_type": "markdown",
   "metadata": {},
   "source": [
    "Separete features from labels."
   ]
  },
  {
   "cell_type": "code",
   "execution_count": 5,
   "metadata": {},
   "outputs": [],
   "source": [
    "data_std = std_scaler.fit_transform(dataset.values[:,:-1])\n",
    "data_label = dataset.values[:,-1]"
   ]
  },
  {
   "cell_type": "markdown",
   "metadata": {},
   "source": [
    "# Load classifiers"
   ]
  },
  {
   "cell_type": "code",
   "execution_count": 6,
   "metadata": {},
   "outputs": [],
   "source": [
    "# linear models:\n",
    "from sklearn.externals import joblib\n",
    "\n",
    "random_search = joblib.load('./Models/classifiers_MLP.pkl')"
   ]
  },
  {
   "cell_type": "code",
   "execution_count": 7,
   "metadata": {},
   "outputs": [
    {
     "data": {
      "text/plain": [
       "{'MLP': RandomizedSearchCV(cv=8, error_score='raise',\n",
       "           estimator=MLPClassifier(activation='relu', alpha=0.0001, batch_size='auto', beta_1=0.9,\n",
       "        beta_2=0.999, early_stopping=False, epsilon=1e-08,\n",
       "        hidden_layer_sizes=(100,), learning_rate='adaptive',\n",
       "        learning_rate_init=0.0005, max_iter=1300, momentum=0.9,\n",
       "        nesterovs_momentum=True, power_t=0.5, random_state=None,\n",
       "        shuffle=True, solver='adam', tol=0.0001, validation_fraction=0.1,\n",
       "        verbose=False, warm_start=False),\n",
       "           fit_params=None, iid=True, n_iter=20, n_jobs=100,\n",
       "           param_distributions={'hidden_layer_sizes': [2, 3, 4, 5, 6, 7, 8, 9, 10, 11, 12, 13, 14, 15, 16, 17, 18, 19, 20, 21, 22, 23, 24, 25, 26, 27, 28, 29, 30, 31, 32, 33, 34, 35, 36, 37, 38, 39, 40, 41, 42, 43, 44, 45, 46, 47, 48, 49, 50, 51, 52, 53, 54, 55, 56, 57, 58, 59, 60, 61, 62, 63, 64, 65, 66, 67, ...81, 982, 983, 984, 985, 986, 987, 988, 989, 990, 991, 992, 993, 994, 995, 996, 997, 998, 999, 1000]},\n",
       "           pre_dispatch='2*n_jobs', random_state=None, refit=True,\n",
       "           return_train_score=True, scoring=None, verbose=5),\n",
       " 'SVM-RBF': RandomizedSearchCV(cv=8, error_score='raise',\n",
       "           estimator=SVC(C=1.0, cache_size=200, class_weight=None, coef0=0.0,\n",
       "   decision_function_shape='ovr', degree=3, gamma='auto', kernel='rbf',\n",
       "   max_iter=-1, probability=False, random_state=None, shrinking=True,\n",
       "   tol=0.001, verbose=False),\n",
       "           fit_params=None, iid=True, n_iter=20, n_jobs=100,\n",
       "           param_distributions={'gamma': [-30, -28, -26, -24, -22, -20, -18, -16, -14, -12, -10, -8, -6, -4, -2, 0, 2, 4], 'C': [-10, -8, -6, -4, -2, 0, 2, 4, 6, 8, 10, 12, 14, 16, 18, 20, 22, 24, 26, 28]},\n",
       "           pre_dispatch='2*n_jobs', random_state=None, refit=True,\n",
       "           return_train_score=True, scoring=None, verbose=5)}"
      ]
     },
     "execution_count": 7,
     "metadata": {},
     "output_type": "execute_result"
    }
   ],
   "source": [
    "random_search"
   ]
  },
  {
   "cell_type": "markdown",
   "metadata": {},
   "source": [
    "Load the best estimation of hyperameters after randomly searching it."
   ]
  },
  {
   "cell_type": "code",
   "execution_count": 8,
   "metadata": {},
   "outputs": [],
   "source": [
    "mlp_clf = random_search['MLP'].best_estimator_"
   ]
  },
  {
   "cell_type": "markdown",
   "metadata": {},
   "source": [
    "## Hyperameter tunning by randomized search:"
   ]
  },
  {
   "cell_type": "markdown",
   "metadata": {},
   "source": [
    "Classifiers definitions:"
   ]
  },
  {
   "cell_type": "code",
   "execution_count": 9,
   "metadata": {},
   "outputs": [],
   "source": [
    "from sklearn.naive_bayes import GaussianNB\n",
    "\n",
    "naiveBayes_clf = GaussianNB()"
   ]
  },
  {
   "cell_type": "markdown",
   "metadata": {},
   "source": [
    "Define our models to train. Import each classifiers into a python dictionary."
   ]
  },
  {
   "cell_type": "code",
   "execution_count": 10,
   "metadata": {},
   "outputs": [],
   "source": [
    "classifiers = {'MLP': mlp_clf, 'Naive-Bayes': naiveBayes_clf}"
   ]
  },
  {
   "cell_type": "markdown",
   "metadata": {},
   "source": [
    "# Classifiers for training an testing"
   ]
  },
  {
   "cell_type": "markdown",
   "metadata": {},
   "source": [
    "Stratified cross-validation for model selection are going to be used."
   ]
  },
  {
   "cell_type": "code",
   "execution_count": 11,
   "metadata": {},
   "outputs": [],
   "source": [
    "kfolds = 8\n",
    "clf_outputs = run_classifiers(data_std, data_label, classifiers, kfolds)"
   ]
  },
  {
   "cell_type": "markdown",
   "metadata": {},
   "source": [
    "# Performance assessment"
   ]
  },
  {
   "cell_type": "markdown",
   "metadata": {},
   "source": [
    "Saving variables in a dictionary:"
   ]
  },
  {
   "cell_type": "code",
   "execution_count": 12,
   "metadata": {},
   "outputs": [
    {
     "name": "stderr",
     "output_type": "stream",
     "text": [
      "/home/navar/anaconda3/lib/python3.6/site-packages/sklearn/metrics/classification.py:1135: UndefinedMetricWarning: Precision is ill-defined and being set to 0.0 in labels with no predicted samples.\n",
      "  'precision', 'predicted', average, warn_for)\n",
      "/home/navar/anaconda3/lib/python3.6/site-packages/sklearn/metrics/classification.py:1135: UndefinedMetricWarning: F-score is ill-defined and being set to 0.0 in labels with no predicted samples.\n",
      "  'precision', 'predicted', average, warn_for)\n",
      "/media/navar/LargeData/Navar/Dados_diversos/ECG-01-paper_01/ECG-Arritmia-Paper1/Results_Navar/Fourier/Experiment_03_scikitLearn__allCLF/experiment.py:152: RuntimeWarning: invalid value encountered in double_scalars\n",
      "  metrics_class[i,3] = (2*metrics_class[i,2]*metrics_class[i,1])/(metrics_class[i,2] + metrics_class[i,1])\n"
     ]
    }
   ],
   "source": [
    "results = {}\n",
    "results['train'] = results_clf(5, clf_outputs['train']['true'], clf_outputs['train']['pred'])\n",
    "results['test'] = results_clf(5, clf_outputs['test']['true'], clf_outputs['test']['pred'])"
   ]
  },
  {
   "cell_type": "markdown",
   "metadata": {},
   "source": [
    "# Savel results, models and pipeline to a .pkl file"
   ]
  },
  {
   "cell_type": "code",
   "execution_count": 13,
   "metadata": {},
   "outputs": [],
   "source": [
    "save_models(classifiers)\n",
    "save_pipeline(std_scaler)"
   ]
  },
  {
   "cell_type": "markdown",
   "metadata": {},
   "source": [
    "# Save results to CSVs and figures"
   ]
  },
  {
   "cell_type": "code",
   "execution_count": 14,
   "metadata": {},
   "outputs": [
    {
     "name": "stdout",
     "output_type": "stream",
     "text": [
      "MLP\n",
      "Naive-Bayes\n",
      "MLP\n",
      "Naive-Bayes\n"
     ]
    }
   ],
   "source": [
    "export_results(results['test'], 'test')\n",
    "export_results(results['train'], 'train')"
   ]
  },
  {
   "cell_type": "code",
   "execution_count": 15,
   "metadata": {},
   "outputs": [
    {
     "data": {
      "text/plain": [
       "{'confMat': [array([[11740, 23894,  3104,   997,   362],\n",
       "         [  143,   655,     8,    12,     5],\n",
       "         [  840,   575,  1460,   174,   264],\n",
       "         [   79,    68,    47,   166,     3],\n",
       "         [    2,     1,     1,     0,     3]]),\n",
       "  array([[12355, 23408,  2245,  1293,   796],\n",
       "         [  164,   639,     6,     8,     6],\n",
       "         [  977,   281,  1614,   242,   199],\n",
       "         [   72,    82,    56,   149,     4],\n",
       "         [    3,     0,     1,     0,     3]]),\n",
       "  array([[ 7778, 26404,  3648,  1224,  1044],\n",
       "         [   95,   676,     5,    17,    30],\n",
       "         [ 1108,   293,  1582,   300,    30],\n",
       "         [   59,   105,    49,   147,     3],\n",
       "         [    1,     2,     1,     0,     3]]),\n",
       "  array([[ 6646, 27898,  3990,   920,   644],\n",
       "         [  121,   670,    10,    18,     4],\n",
       "         [  441,   694,  1811,   147,   221],\n",
       "         [   34,   121,    67,   137,     4],\n",
       "         [    2,     1,     0,     0,     4]]),\n",
       "  array([[ 8241, 27634,  2583,  1026,   614],\n",
       "         [  148,   643,    11,    17,     4],\n",
       "         [  533,   685,  1615,   254,   227],\n",
       "         [   59,   114,    62,   125,     3],\n",
       "         [    1,     1,     1,     0,     4]]),\n",
       "  array([[ 7866, 26858,  3421,  1412,   541],\n",
       "         [  140,   657,     7,    16,     4],\n",
       "         [  513,   718,  1474,   368,   241],\n",
       "         [   54,   104,    53,   149,     3],\n",
       "         [    1,     1,     1,     0,     4]]),\n",
       "  array([[ 7417, 27111,  3600,  1361,   609],\n",
       "         [  102,   694,     9,    18,     1],\n",
       "         [  543,   846,  1403,   275,   247],\n",
       "         [   19,   130,    52,   161,     1],\n",
       "         [    0,     2,     1,     0,     4]]),\n",
       "  array([[ 6790, 27845,  3615,  1248,   600],\n",
       "         [  110,   687,     7,    16,     4],\n",
       "         [  641,   616,  1581,   224,   252],\n",
       "         [   28,   127,    54,   150,     5],\n",
       "         [    2,     1,     1,     0,     3]])],\n",
       " 'acc': [0.3144183126695514,\n",
       "  0.3309194448803892,\n",
       "  0.22836516904313514,\n",
       "  0.20777939692859546,\n",
       "  0.23826925232597243,\n",
       "  0.22754786351611891,\n",
       "  0.21698874590862216,\n",
       "  0.20649225457887777],\n",
       " 'recall': [0.3144183126695514,\n",
       "  0.3309194448803892,\n",
       "  0.22836516904313514,\n",
       "  0.20777939692859546,\n",
       "  0.23826925232597243,\n",
       "  0.22754786351611891,\n",
       "  0.21698874590862216,\n",
       "  0.20649225457887777],\n",
       " 'precision': [0.8492263417763658,\n",
       "  0.8501918761639035,\n",
       "  0.7967898542616219,\n",
       "  0.8489720357065685,\n",
       "  0.8540064661327623,\n",
       "  0.8478564960846021,\n",
       "  0.8468210698263621,\n",
       "  0.8297079432280459],\n",
       " 'f1': [0.4288574763947957,\n",
       "  0.44916489448582614,\n",
       "  0.3139723595915226,\n",
       "  0.2838987070075296,\n",
       "  0.33545623118983103,\n",
       "  0.318927417876311,\n",
       "  0.303727794601144,\n",
       "  0.2855566466898411],\n",
       " 'roc': {'fpr': [{0: array([0.       , 0.2361296, 1.       ]),\n",
       "    1: array([0.        , 0.56048424, 1.        ]),\n",
       "    2: array([0.        , 0.07653185, 1.        ]),\n",
       "    3: array([0.        , 0.02674051, 1.        ]),\n",
       "    4: array([0.        , 0.01421652, 1.        ])},\n",
       "   {0: array([0.        , 0.26986241, 1.        ]),\n",
       "    1: array([0.        , 0.54296482, 1.        ]),\n",
       "    2: array([0.        , 0.05589731, 1.        ]),\n",
       "    3: array([0.        , 0.03487794, 1.        ]),\n",
       "    4: array([0.        , 0.02253565, 1.        ])},\n",
       "   {0: array([0.        , 0.28029294, 1.        ]),\n",
       "    1: array([0.        , 0.61222905, 1.        ]),\n",
       "    2: array([0.        , 0.08968056, 1.        ]),\n",
       "    3: array([0.        , 0.03483194, 1.        ]),\n",
       "    4: array([0.       , 0.0248223, 1.       ])},\n",
       "   {0: array([0.        , 0.13268249, 1.        ]),\n",
       "    1: array([0.       , 0.6558403, 1.       ]),\n",
       "    2: array([0.        , 0.09849604, 1.        ]),\n",
       "    3: array([0.        , 0.02452421, 1.        ]),\n",
       "    4: array([0.        , 0.01957487, 1.        ])},\n",
       "   {0: array([0.        , 0.16441092, 1.        ]),\n",
       "    1: array([0.        , 0.64944498, 1.        ]),\n",
       "    2: array([0.        , 0.06434816, 1.        ]),\n",
       "    3: array([0.        , 0.02931603, 1.        ]),\n",
       "    4: array([0.        , 0.01901431, 1.        ])},\n",
       "   {0: array([0.        , 0.15705413, 1.        ]),\n",
       "    1: array([0.        , 0.63224613, 1.        ]),\n",
       "    2: array([0.        , 0.08432626, 1.        ]),\n",
       "    3: array([0.        , 0.04059399, 1.        ]),\n",
       "    4: array([0.        , 0.01769098, 1.        ])},\n",
       "   {0: array([0.       , 0.1472937, 1.       ]),\n",
       "    1: array([0.        , 0.64156503, 1.        ]),\n",
       "    2: array([0.        , 0.08868546, 1.        ]),\n",
       "    3: array([0.        , 0.03738444, 1.        ]),\n",
       "    4: array([0.       , 0.0192381, 1.       ])},\n",
       "   {0: array([0.        , 0.17320914, 1.        ]),\n",
       "    1: array([0.        , 0.65297033, 1.        ]),\n",
       "    2: array([0.        , 0.08904657, 1.        ]),\n",
       "    3: array([0.        , 0.03363244, 1.        ]),\n",
       "    4: array([0.        , 0.01930493, 1.        ])}],\n",
       "  'tpr': [{0: array([0.        , 0.29278998, 1.        ]),\n",
       "    1: array([0.        , 0.79586877, 1.        ]),\n",
       "    2: array([0.       , 0.4406882, 1.       ]),\n",
       "    3: array([0.        , 0.45730028, 1.        ]),\n",
       "    4: array([0.        , 0.42857143, 1.        ])},\n",
       "   {0: array([0.        , 0.30812779, 1.        ]),\n",
       "    1: array([0.       , 0.7764277, 1.       ]),\n",
       "    2: array([0.        , 0.48717175, 1.        ]),\n",
       "    3: array([0.        , 0.41046832, 1.        ]),\n",
       "    4: array([0.        , 0.42857143, 1.        ])},\n",
       "   {0: array([0.        , 0.19397476, 1.        ]),\n",
       "    1: array([0.        , 0.82138518, 1.        ]),\n",
       "    2: array([0.        , 0.47751283, 1.        ]),\n",
       "    3: array([0.        , 0.40495868, 1.        ]),\n",
       "    4: array([0.        , 0.42857143, 1.        ])},\n",
       "   {0: array([0.        , 0.16574393, 1.        ]),\n",
       "    1: array([0.        , 0.81409478, 1.        ]),\n",
       "    2: array([0.        , 0.54646952, 1.        ]),\n",
       "    3: array([0.        , 0.37741047, 1.        ]),\n",
       "    4: array([0.        , 0.57142857, 1.        ])},\n",
       "   {0: array([0.        , 0.20552147, 1.        ]),\n",
       "    1: array([0.        , 0.78128797, 1.        ]),\n",
       "    2: array([0.        , 0.48732649, 1.        ]),\n",
       "    3: array([0.        , 0.34435262, 1.        ]),\n",
       "    4: array([0.        , 0.57142857, 1.        ])},\n",
       "   {0: array([0.        , 0.19616939, 1.        ]),\n",
       "    1: array([0.       , 0.7973301, 1.       ]),\n",
       "    2: array([0.        , 0.44477972, 1.        ]),\n",
       "    3: array([0.        , 0.41046832, 1.        ]),\n",
       "    4: array([0.        , 0.57142857, 1.        ])},\n",
       "   {0: array([0.        , 0.18497182, 1.        ]),\n",
       "    1: array([0.        , 0.84223301, 1.        ]),\n",
       "    2: array([0.        , 0.42335546, 1.        ]),\n",
       "    3: array([0.        , 0.44352617, 1.        ]),\n",
       "    4: array([0.        , 0.57142857, 1.        ])},\n",
       "   {0: array([0.        , 0.16933513, 1.        ]),\n",
       "    1: array([0.        , 0.83373786, 1.        ]),\n",
       "    2: array([0.        , 0.47706699, 1.        ]),\n",
       "    3: array([0.        , 0.41208791, 1.        ]),\n",
       "    4: array([0.        , 0.42857143, 1.        ])}]},\n",
       " 'roc_auc': [{0: 0.5283301896584759,\n",
       "   1: 0.6176922667018956,\n",
       "   2: 0.682078175051393,\n",
       "   3: 0.7152798845764898,\n",
       "   4: 0.7071774534551465},\n",
       "  {0: 0.519132692213836,\n",
       "   1: 0.6167314397015454,\n",
       "   2: 0.7156372179814915,\n",
       "   3: 0.6877951905210248,\n",
       "   4: 0.7030178875747986},\n",
       "  {0: 0.4568409095452493,\n",
       "   1: 0.6045780635268944,\n",
       "   2: 0.6939161341620128,\n",
       "   3: 0.6850633672329303,\n",
       "   4: 0.7018745655537368},\n",
       "  {0: 0.516530716739772,\n",
       "   1: 0.5791272377730536,\n",
       "   2: 0.7239867414677114,\n",
       "   3: 0.6764431302765916,\n",
       "   4: 0.7759268513001865},\n",
       "  {0: 0.5205552780201486,\n",
       "   1: 0.5659214967252142,\n",
       "   2: 0.7114891653126484,\n",
       "   3: 0.6575182912712861,\n",
       "   4: 0.7762071329271653},\n",
       "  {0: 0.519557629504254,\n",
       "   1: 0.5825419842707005,\n",
       "   2: 0.6802267303221222,\n",
       "   3: 0.6849371636446325,\n",
       "   4: 0.7768687959050972},\n",
       "  {0: 0.5188390594773064,\n",
       "   1: 0.6003339914927135,\n",
       "   2: 0.6673350010122646,\n",
       "   3: 0.7030708629009746,\n",
       "   4: 0.7760952359598069},\n",
       "  {0: 0.4980629958265589,\n",
       "   1: 0.5903837665636505,\n",
       "   2: 0.694010209448497,\n",
       "   3: 0.6892277365290045,\n",
       "   4: 0.7046332479180013}],\n",
       " 'class': {'spe': array([0.73054236, 0.27601477, 0.73828883, 0.88213694, 0.92646516]),\n",
       "  'sen': array([0.21457875, 0.80780325, 0.47304689, 0.40757315, 0.5       ]),\n",
       "  'ppv': array([0.90727316, 0.02397484, 0.31944161, 0.09271005, 0.00399829]),\n",
       "  'fsc': array([0.34707173, 0.0465676 , 0.38135787, 0.15105894, 0.00793314]),\n",
       "  'hm': array([0.33172228, 0.41144477, 0.57662831, 0.55754442, 0.6494832 ]),\n",
       "  'acc': array([0.21457875, 0.80780325, 0.47304689, 0.40757315, 0.5       ])},\n",
       " 'average': {'confMat': array([[8.604125e+03, 2.638150e+04, 3.275750e+03, 1.185125e+03,\n",
       "          6.512500e+02],\n",
       "         [1.278750e+02, 6.651250e+02, 7.875000e+00, 1.525000e+01,\n",
       "          7.250000e+00],\n",
       "         [6.995000e+02, 5.885000e+02, 1.567500e+03, 2.480000e+02,\n",
       "          2.101250e+02],\n",
       "         [5.050000e+01, 1.063750e+02, 5.500000e+01, 1.480000e+02,\n",
       "          3.250000e+00],\n",
       "         [1.500000e+00, 1.125000e+00, 8.750000e-01, 0.000000e+00,\n",
       "          3.500000e+00]]),\n",
       "  'acc': 0.24634755498140778,\n",
       "  'recall': 0.24634755498140778,\n",
       "  'precision': 0.840446510397529,\n",
       "  'f1': 0.33994519097960013,\n",
       "  'confMat_std': array([[2.05537451e+03, 1.65073650e+03, 5.54740424e+02, 1.69745720e+02,\n",
       "          1.86036791e+02],\n",
       "         [2.29207193e+01, 1.86911577e+01, 1.89983552e+00, 3.26917421e+00,\n",
       "          8.69985632e+00],\n",
       "         [2.29363249e+02, 1.89187077e+02, 1.18037070e+02, 6.53433241e+01,\n",
       "          7.06583992e+01],\n",
       "         [2.00062490e+01, 2.04018228e+01, 6.20483682e+00, 1.19895788e+01,\n",
       "          1.08972474e+00],\n",
       "         [8.66025404e-01, 5.99478940e-01, 3.30718914e-01, 0.00000000e+00,\n",
       "          5.00000000e-01]])}}"
      ]
     },
     "execution_count": 15,
     "metadata": {},
     "output_type": "execute_result"
    }
   ],
   "source": [
    "results['train']['Naive-Bayes']"
   ]
  },
  {
   "cell_type": "code",
   "execution_count": null,
   "metadata": {},
   "outputs": [],
   "source": []
  },
  {
   "cell_type": "code",
   "execution_count": 6,
   "metadata": {},
   "outputs": [
    {
     "name": "stdout",
     "output_type": "stream",
     "text": [
      "StandardScaler(copy=True, with_mean=True, with_std=True)\n"
     ]
    }
   ],
   "source": []
  },
  {
   "cell_type": "code",
   "execution_count": 7,
   "metadata": {},
   "outputs": [
    {
     "data": {
      "text/html": [
       "<div>\n",
       "<style scoped>\n",
       "    .dataframe tbody tr th:only-of-type {\n",
       "        vertical-align: middle;\n",
       "    }\n",
       "\n",
       "    .dataframe tbody tr th {\n",
       "        vertical-align: top;\n",
       "    }\n",
       "\n",
       "    .dataframe thead th {\n",
       "        text-align: right;\n",
       "    }\n",
       "</style>\n",
       "<table border=\"1\" class=\"dataframe\">\n",
       "  <thead>\n",
       "    <tr style=\"text-align: right;\">\n",
       "      <th></th>\n",
       "      <th>Var1</th>\n",
       "      <th>Var2</th>\n",
       "      <th>Var3</th>\n",
       "      <th>Var4</th>\n",
       "      <th>Var5</th>\n",
       "      <th>Var9</th>\n",
       "    </tr>\n",
       "  </thead>\n",
       "  <tbody>\n",
       "    <tr>\n",
       "      <th>0</th>\n",
       "      <td>0.834552</td>\n",
       "      <td>0.666667</td>\n",
       "      <td>2.576261</td>\n",
       "      <td>0.417694</td>\n",
       "      <td>0.923901</td>\n",
       "      <td>0</td>\n",
       "    </tr>\n",
       "    <tr>\n",
       "      <th>1</th>\n",
       "      <td>0.852697</td>\n",
       "      <td>0.673684</td>\n",
       "      <td>2.490621</td>\n",
       "      <td>0.421475</td>\n",
       "      <td>0.651352</td>\n",
       "      <td>0</td>\n",
       "    </tr>\n",
       "    <tr>\n",
       "      <th>2</th>\n",
       "      <td>0.848921</td>\n",
       "      <td>0.666667</td>\n",
       "      <td>2.537718</td>\n",
       "      <td>0.429076</td>\n",
       "      <td>0.708984</td>\n",
       "      <td>0</td>\n",
       "    </tr>\n",
       "    <tr>\n",
       "      <th>3</th>\n",
       "      <td>0.854177</td>\n",
       "      <td>0.688172</td>\n",
       "      <td>2.570455</td>\n",
       "      <td>0.390772</td>\n",
       "      <td>0.580959</td>\n",
       "      <td>0</td>\n",
       "    </tr>\n",
       "    <tr>\n",
       "      <th>4</th>\n",
       "      <td>0.858868</td>\n",
       "      <td>0.673684</td>\n",
       "      <td>2.497976</td>\n",
       "      <td>0.438510</td>\n",
       "      <td>0.630987</td>\n",
       "      <td>0</td>\n",
       "    </tr>\n",
       "  </tbody>\n",
       "</table>\n",
       "</div>"
      ],
      "text/plain": [
       "       Var1      Var2      Var3      Var4      Var5  Var9\n",
       "0  0.834552  0.666667  2.576261  0.417694  0.923901     0\n",
       "1  0.852697  0.673684  2.490621  0.421475  0.651352     0\n",
       "2  0.848921  0.666667  2.537718  0.429076  0.708984     0\n",
       "3  0.854177  0.688172  2.570455  0.390772  0.580959     0\n",
       "4  0.858868  0.673684  2.497976  0.438510  0.630987     0"
      ]
     },
     "execution_count": 7,
     "metadata": {},
     "output_type": "execute_result"
    }
   ],
   "source": [
    "dataset.head()"
   ]
  },
  {
   "cell_type": "code",
   "execution_count": null,
   "metadata": {},
   "outputs": [],
   "source": []
  }
 ],
 "metadata": {
  "kernelspec": {
   "display_name": "Python 3",
   "language": "python",
   "name": "python3"
  },
  "language_info": {
   "codemirror_mode": {
    "name": "ipython",
    "version": 3
   },
   "file_extension": ".py",
   "mimetype": "text/x-python",
   "name": "python",
   "nbconvert_exporter": "python",
   "pygments_lexer": "ipython3",
   "version": "3.6.4"
  }
 },
 "nbformat": 4,
 "nbformat_minor": 2
}
