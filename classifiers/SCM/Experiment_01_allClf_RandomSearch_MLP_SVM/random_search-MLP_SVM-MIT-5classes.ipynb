{
 "cells": [
  {
   "cell_type": "code",
   "execution_count": 3,
   "metadata": {},
   "outputs": [],
   "source": [
    "import pandas as pd\n",
    "import numpy as np\n",
    "import matplotlib.pyplot as plt\n",
    "from sklearn import preprocessing\n",
    "from sklearn import metrics\n",
    "from time import time\n",
    "\n",
    "import os, sys\n",
    "\n",
    "parentPath = os.path.abspath(\"..\")\n",
    "if parentPath not in sys.path:\n",
    "    sys.path.insert(0, parentPath)\n",
    "\n",
    "from utils.experiment import *"
   ]
  },
  {
   "cell_type": "markdown",
   "metadata": {},
   "source": [
    "# Load data ** Chose your path before get stated **"
   ]
  },
  {
   "cell_type": "code",
   "execution_count": 4,
   "metadata": {},
   "outputs": [],
   "source": [
    "path = os.getcwd()\n",
    "rootDir, _ = path.split('ECG-Arritmia-Paper1')\n",
    "path = 'ECG-Arritmia-Paper1/Database_extracted/Dataset_with_features'\n",
    "filename = 'MIT-BIH__DS1_5classes__SCM.csv'\n",
    "dataset = pd.read_csv(os.path.join(rootDir, path, filename));"
   ]
  },
  {
   "cell_type": "code",
   "execution_count": 5,
   "metadata": {},
   "outputs": [],
   "source": [
    "dataset = dataset.iloc[:,[0, 1, 2, 3, 4, 8]]"
   ]
  },
  {
   "cell_type": "code",
   "execution_count": 6,
   "metadata": {},
   "outputs": [
    {
     "data": {
      "text/html": [
       "<div>\n",
       "<style scoped>\n",
       "    .dataframe tbody tr th:only-of-type {\n",
       "        vertical-align: middle;\n",
       "    }\n",
       "\n",
       "    .dataframe tbody tr th {\n",
       "        vertical-align: top;\n",
       "    }\n",
       "\n",
       "    .dataframe thead th {\n",
       "        text-align: right;\n",
       "    }\n",
       "</style>\n",
       "<table border=\"1\" class=\"dataframe\">\n",
       "  <thead>\n",
       "    <tr style=\"text-align: right;\">\n",
       "      <th></th>\n",
       "      <th>Var1</th>\n",
       "      <th>Var2</th>\n",
       "      <th>Var3</th>\n",
       "      <th>Var4</th>\n",
       "      <th>Var5</th>\n",
       "      <th>Var9</th>\n",
       "    </tr>\n",
       "  </thead>\n",
       "  <tbody>\n",
       "    <tr>\n",
       "      <th>0</th>\n",
       "      <td>0.834552</td>\n",
       "      <td>0.666667</td>\n",
       "      <td>2.576261</td>\n",
       "      <td>0.417694</td>\n",
       "      <td>0.923901</td>\n",
       "      <td>0</td>\n",
       "    </tr>\n",
       "    <tr>\n",
       "      <th>1</th>\n",
       "      <td>0.852697</td>\n",
       "      <td>0.673684</td>\n",
       "      <td>2.490621</td>\n",
       "      <td>0.421475</td>\n",
       "      <td>0.651352</td>\n",
       "      <td>0</td>\n",
       "    </tr>\n",
       "    <tr>\n",
       "      <th>2</th>\n",
       "      <td>0.848921</td>\n",
       "      <td>0.666667</td>\n",
       "      <td>2.537718</td>\n",
       "      <td>0.429076</td>\n",
       "      <td>0.708984</td>\n",
       "      <td>0</td>\n",
       "    </tr>\n",
       "    <tr>\n",
       "      <th>3</th>\n",
       "      <td>0.854177</td>\n",
       "      <td>0.688172</td>\n",
       "      <td>2.570455</td>\n",
       "      <td>0.390772</td>\n",
       "      <td>0.580959</td>\n",
       "      <td>0</td>\n",
       "    </tr>\n",
       "    <tr>\n",
       "      <th>4</th>\n",
       "      <td>0.858868</td>\n",
       "      <td>0.673684</td>\n",
       "      <td>2.497976</td>\n",
       "      <td>0.438510</td>\n",
       "      <td>0.630987</td>\n",
       "      <td>0</td>\n",
       "    </tr>\n",
       "  </tbody>\n",
       "</table>\n",
       "</div>"
      ],
      "text/plain": [
       "       Var1      Var2      Var3      Var4      Var5  Var9\n",
       "0  0.834552  0.666667  2.576261  0.417694  0.923901     0\n",
       "1  0.852697  0.673684  2.490621  0.421475  0.651352     0\n",
       "2  0.848921  0.666667  2.537718  0.429076  0.708984     0\n",
       "3  0.854177  0.688172  2.570455  0.390772  0.580959     0\n",
       "4  0.858868  0.673684  2.497976  0.438510  0.630987     0"
      ]
     },
     "execution_count": 6,
     "metadata": {},
     "output_type": "execute_result"
    }
   ],
   "source": [
    "dataset.head()"
   ]
  },
  {
   "cell_type": "markdown",
   "metadata": {},
   "source": [
    "# Data preprocessing"
   ]
  },
  {
   "cell_type": "markdown",
   "metadata": {},
   "source": [
    "In this step we are going standardize our dataset."
   ]
  },
  {
   "cell_type": "code",
   "execution_count": 7,
   "metadata": {},
   "outputs": [],
   "source": [
    "from sklearn.preprocessing import StandardScaler\n",
    "\n",
    "std_scaler = StandardScaler()"
   ]
  },
  {
   "cell_type": "markdown",
   "metadata": {},
   "source": [
    "Separete features from labels."
   ]
  },
  {
   "cell_type": "code",
   "execution_count": 6,
   "metadata": {},
   "outputs": [],
   "source": [
    "data_std = std_scaler.fit_transform(dataset.values[:,:-1])\n",
    "data_label = dataset.values[:,-1]"
   ]
  },
  {
   "cell_type": "markdown",
   "metadata": {},
   "source": [
    "# Classifiers specifications"
   ]
  },
  {
   "cell_type": "code",
   "execution_count": null,
   "metadata": {},
   "outputs": [],
   "source": []
  },
  {
   "cell_type": "code",
   "execution_count": 7,
   "metadata": {},
   "outputs": [],
   "source": [
    "# Non-linear models:\n",
    "from sklearn.neural_network import MLPClassifier\n",
    "\n",
    "# Kernel-based models\n",
    "from sklearn.svm import SVC\n",
    "\n",
    "##### Model pre-loadings:\n",
    "\n",
    "# MLP:\n",
    "mlp_clf = MLPClassifier(solver='adam', learning_rate='adaptive', \n",
    "                        max_iter=1300, learning_rate_init=5e-04, tol=1e-4)\n",
    "\n",
    "# SVM\n",
    "svm_rbf_clf = SVC(kernel='rbf')"
   ]
  },
  {
   "cell_type": "markdown",
   "metadata": {},
   "source": [
    "## Hyperameter tunning by randomized search:"
   ]
  },
  {
   "cell_type": "markdown",
   "metadata": {},
   "source": [
    "Classifiers definitions:"
   ]
  },
  {
   "cell_type": "code",
   "execution_count": 8,
   "metadata": {},
   "outputs": [],
   "source": [
    "classifiers = {'MLP': mlp_clf, 'SVM-RBF': svm_rbf_clf\n",
    "              }"
   ]
  },
  {
   "cell_type": "markdown",
   "metadata": {},
   "source": [
    "Define param range for searching:"
   ]
  },
  {
   "cell_type": "code",
   "execution_count": 9,
   "metadata": {},
   "outputs": [],
   "source": [
    "param_dist_dict = {'MLP': {\"hidden_layer_sizes\": list(np.arange(2,500))}, \n",
    "                   'SVM-RBF': {'gamma': [2**i for i in range(-15,3)], 'C': [2**i for i in range(-5,15)]}}"
   ]
  },
  {
   "cell_type": "code",
   "execution_count": 10,
   "metadata": {},
   "outputs": [
    {
     "name": "stdout",
     "output_type": "stream",
     "text": [
      "Fitting 5 folds for each of 10 candidates, totalling 50 fits\n",
      "[CV] hidden_layer_sizes=283 ..........................................\n",
      "[CV] hidden_layer_sizes=283 ..........................................\n",
      "[CV] hidden_layer_sizes=283 ..........................................\n",
      "[CV] hidden_layer_sizes=283 ..........................................\n",
      "[CV] hidden_layer_sizes=283 ..........................................\n",
      "[CV] hidden_layer_sizes=179 ..........................................\n",
      "[CV] hidden_layer_sizes=179 ..........................................\n",
      "[CV] hidden_layer_sizes=179 ..........................................\n",
      "[CV] hidden_layer_sizes=179 ..........................................\n",
      "[CV] hidden_layer_sizes=179 ..........................................\n",
      "[CV] hidden_layer_sizes=112 ..........................................\n",
      "[CV] hidden_layer_sizes=112 ..........................................\n",
      "[CV] hidden_layer_sizes=112 ..........................................\n",
      "[CV] hidden_layer_sizes=112 ..........................................\n",
      "[CV] hidden_layer_sizes=112 ..........................................\n",
      "[CV] hidden_layer_sizes=129 ..........................................\n",
      "[CV] hidden_layer_sizes=129 ..........................................\n",
      "[CV] hidden_layer_sizes=129 ..........................................\n",
      "[CV] hidden_layer_sizes=129 ..........................................\n",
      "[CV] hidden_layer_sizes=129 ..........................................\n",
      "[CV] hidden_layer_sizes=99 ...........................................\n",
      "[CV] hidden_layer_sizes=99 ...........................................\n",
      "[CV] hidden_layer_sizes=99 ...........................................\n",
      "[CV] hidden_layer_sizes=99 ...........................................\n",
      "[CV] hidden_layer_sizes=99 ...........................................\n",
      "[CV] hidden_layer_sizes=257 ..........................................\n",
      "[CV] hidden_layer_sizes=257 ..........................................\n",
      "[CV] hidden_layer_sizes=257 ..........................................\n",
      "[CV] hidden_layer_sizes=257 ..........................................\n",
      "[CV] hidden_layer_sizes=257 ..........................................\n",
      "[CV] hidden_layer_sizes=26 ...........................................\n",
      "[CV] hidden_layer_sizes=26 ...........................................\n",
      "[CV] hidden_layer_sizes=26 ...........................................\n",
      "[CV] hidden_layer_sizes=26 ...........................................\n",
      "[CV] hidden_layer_sizes=26 ...........................................\n",
      "[CV] hidden_layer_sizes=266 ..........................................\n",
      "[CV] hidden_layer_sizes=266 ..........................................\n",
      "[CV] hidden_layer_sizes=266 ..........................................\n",
      "[CV] hidden_layer_sizes=266 ..........................................\n",
      "[CV] hidden_layer_sizes=266 ..........................................\n",
      "[CV] hidden_layer_sizes=96 ...........................................\n",
      "[CV] hidden_layer_sizes=96 ...........................................\n",
      "[CV] hidden_layer_sizes=96 ...........................................\n",
      "[CV] hidden_layer_sizes=96 ...........................................\n",
      "[CV] hidden_layer_sizes=96 ...........................................\n",
      "[CV] hidden_layer_sizes=44 ...........................................\n",
      "[CV] hidden_layer_sizes=44 ...........................................\n",
      "[CV] hidden_layer_sizes=44 ...........................................\n",
      "[CV] hidden_layer_sizes=44 ...........................................\n",
      "[CV] hidden_layer_sizes=44 ...........................................\n",
      "[CV] .. hidden_layer_sizes=26, score=0.8821971554683669, total= 1.8min\n",
      "[CV] .. hidden_layer_sizes=26, score=0.9364456649666536, total= 2.0min\n",
      "[CV] ... hidden_layer_sizes=26, score=0.903080243280361, total= 2.1min\n",
      "[CV] .. hidden_layer_sizes=26, score=0.8176914778856527, total= 2.2min\n",
      "[CV] .. hidden_layer_sizes=26, score=0.8533451049637042, total= 2.3min\n"
     ]
    },
    {
     "name": "stderr",
     "output_type": "stream",
     "text": [
      "[Parallel(n_jobs=100)]: Done   5 out of  50 | elapsed:  2.4min remaining: 21.2min\n"
     ]
    },
    {
     "name": "stdout",
     "output_type": "stream",
     "text": [
      "[CV] .. hidden_layer_sizes=44, score=0.9324244801883091, total= 8.3min\n",
      "[CV] .. hidden_layer_sizes=44, score=0.8723759073965077, total= 8.8min\n",
      "[CV] . hidden_layer_sizes=179, score=0.9041687101520353, total= 9.5min\n",
      "[CV] .. hidden_layer_sizes=96, score=0.8603099862664312, total= 9.5min\n",
      "[CV] . hidden_layer_sizes=129, score=0.9408591604550804, total= 9.9min\n",
      "[CV] ... hidden_layer_sizes=99, score=0.939486072969792, total=10.1min\n",
      "[CV] .. hidden_layer_sizes=96, score=0.9287956061200471, total=10.2min\n",
      "[CV] .. hidden_layer_sizes=96, score=0.9049534085335948, total=10.3min\n",
      "[CV] .. hidden_layer_sizes=179, score=0.853737492642731, total=10.6min\n",
      "[CV] . hidden_layer_sizes=266, score=0.9387995292271479, total=10.9min\n",
      "[CV] ... hidden_layer_sizes=99, score=0.853050814204434, total=11.0min\n"
     ]
    },
    {
     "name": "stderr",
     "output_type": "stream",
     "text": [
      "[Parallel(n_jobs=100)]: Done  16 out of  50 | elapsed: 11.0min remaining: 23.5min\n"
     ]
    },
    {
     "name": "stdout",
     "output_type": "stream",
     "text": [
      "[CV] . hidden_layer_sizes=266, score=0.9035707278791446, total=11.2min\n",
      "[CV] .. hidden_layer_sizes=99, score=0.9055419323197645, total=11.3min\n",
      "[CV] . hidden_layer_sizes=257, score=0.8548165587600549, total=11.4min\n",
      "[CV] . hidden_layer_sizes=112, score=0.9331110239309534, total=11.7min\n",
      "[CV] . hidden_layer_sizes=257, score=0.9406630051000392, total=11.7min\n",
      "[CV] . hidden_layer_sizes=112, score=0.8467726113400039, total=11.8min\n",
      "[CV] . hidden_layer_sizes=179, score=0.9413495488426834, total=12.0min\n",
      "[CV] .. hidden_layer_sizes=112, score=0.813474551338629, total=12.2min\n",
      "[CV] . hidden_layer_sizes=112, score=0.9027859525210908, total=12.2min\n",
      "[CV] .. hidden_layer_sizes=99, score=0.9021973710025505, total=12.3min\n",
      "[CV] .. hidden_layer_sizes=44, score=0.9054438450220696, total=12.4min\n"
     ]
    },
    {
     "name": "stderr",
     "output_type": "stream",
     "text": [
      "[Parallel(n_jobs=100)]: Done  27 out of  50 | elapsed: 12.5min remaining: 10.6min\n"
     ]
    },
    {
     "name": "stdout",
     "output_type": "stream",
     "text": [
      "[CV] .. hidden_layer_sizes=44, score=0.9042574063174417, total=12.7min\n",
      "[CV] . hidden_layer_sizes=257, score=0.8285770324605276, total=12.9min\n",
      "[CV] ... hidden_layer_sizes=96, score=0.902393564842064, total=13.0min\n",
      "[CV] . hidden_layer_sizes=283, score=0.9402706943899568, total=13.0min\n",
      "[CV] . hidden_layer_sizes=129, score=0.9063266307013241, total=13.3min\n",
      "[CV] .. hidden_layer_sizes=129, score=0.807100127488477, total=13.3min\n",
      "[CV] . hidden_layer_sizes=179, score=0.8069039913700108, total=13.3min\n",
      "[CV] . hidden_layer_sizes=283, score=0.8242620378542709, total=13.4min\n",
      "[CV] . hidden_layer_sizes=112, score=0.9101520353114272, total=13.5min\n",
      "[CV] . hidden_layer_sizes=266, score=0.8451049637041397, total=13.5min\n",
      "[CV] . hidden_layer_sizes=129, score=0.8454973513831666, total=13.5min\n"
     ]
    },
    {
     "name": "stderr",
     "output_type": "stream",
     "text": [
      "[Parallel(n_jobs=100)]: Done  38 out of  50 | elapsed: 13.5min remaining:  4.3min\n"
     ]
    },
    {
     "name": "stdout",
     "output_type": "stream",
     "text": [
      "[CV] .. hidden_layer_sizes=44, score=0.8151417083455919, total=13.6min\n",
      "[CV] .. hidden_layer_sizes=283, score=0.853737492642731, total=13.6min\n",
      "[CV] . hidden_layer_sizes=283, score=0.8998528690534576, total=13.7min\n",
      "[CV] .... hidden_layer_sizes=96, score=0.84348337746396, total=13.7min\n",
      "[CV] . hidden_layer_sizes=266, score=0.8278905560458959, total=13.7min\n",
      "[CV] .. hidden_layer_sizes=257, score=0.903080243280361, total=13.8min\n",
      "[CV] .. hidden_layer_sizes=266, score=0.904561059342815, total=13.8min\n",
      "[CV] . hidden_layer_sizes=257, score=0.9057381069151544, total=13.9min\n",
      "[CV] .. hidden_layer_sizes=99, score=0.8199470432480142, total=14.0min\n",
      "[CV] . hidden_layer_sizes=179, score=0.9031783402001177, total=14.0min\n",
      "[CV] . hidden_layer_sizes=129, score=0.9020992740827938, total=14.0min\n",
      "[CV] . hidden_layer_sizes=283, score=0.9028840494408475, total=14.2min\n"
     ]
    },
    {
     "name": "stderr",
     "output_type": "stream",
     "text": [
      "[Parallel(n_jobs=100)]: Done  50 out of  50 | elapsed: 14.2min finished\n"
     ]
    },
    {
     "name": "stdout",
     "output_type": "stream",
     "text": [
      "Elapsed time: 868.5715322494507\n",
      "Fitting 5 folds for each of 10 candidates, totalling 50 fits\n",
      "[CV] gamma=0.000244140625, C=4 .......................................\n",
      "[CV] gamma=0.000244140625, C=4 .......................................\n",
      "[CV] gamma=0.000244140625, C=4 .......................................\n",
      "[CV] gamma=0.000244140625, C=4 .......................................\n",
      "[CV] gamma=0.000244140625, C=4 .......................................\n",
      "[CV] gamma=0.0001220703125, C=0.25 ...................................\n",
      "[CV] gamma=0.0001220703125, C=0.25 ...................................\n",
      "[CV] gamma=0.0001220703125, C=0.25 ...................................\n",
      "[CV] gamma=0.0001220703125, C=0.25 ...................................\n",
      "[CV] gamma=0.0001220703125, C=0.25 ...................................\n",
      "[CV] gamma=0.0625, C=0.03125 .........................................\n",
      "[CV] gamma=0.0625, C=0.03125 .........................................\n",
      "[CV] gamma=0.0625, C=0.03125 .........................................\n",
      "[CV] gamma=0.0625, C=0.03125 .........................................\n",
      "[CV] gamma=0.0625, C=0.03125 .........................................\n",
      "[CV] gamma=4, C=0.5 ..................................................\n",
      "[CV] gamma=4, C=0.5 ..................................................\n",
      "[CV] gamma=4, C=0.5 ..................................................\n",
      "[CV] gamma=4, C=0.5 ..................................................\n",
      "[CV] gamma=4, C=0.5 ..................................................\n",
      "[CV] gamma=0.5, C=4 ..................................................\n",
      "[CV] gamma=0.5, C=4 ..................................................\n",
      "[CV] gamma=0.5, C=4 ..................................................\n",
      "[CV] gamma=0.5, C=4 ..................................................\n",
      "[CV] gamma=0.5, C=4 ..................................................\n",
      "[CV] gamma=0.001953125, C=16384 ......................................\n",
      "[CV] gamma=0.001953125, C=16384 ......................................\n",
      "[CV] gamma=0.001953125, C=16384 ......................................\n",
      "[CV] gamma=0.001953125, C=16384 ......................................\n",
      "[CV] gamma=0.001953125, C=16384 ......................................\n",
      "[CV] gamma=0.125, C=0.0625 ...........................................\n",
      "[CV] gamma=0.125, C=0.0625 ...........................................\n",
      "[CV] gamma=0.125, C=0.0625 ...........................................\n",
      "[CV] gamma=0.125, C=0.0625 ...........................................\n",
      "[CV] gamma=0.125, C=0.0625 ...........................................\n",
      "[CV] gamma=0.125, C=32 ...............................................\n",
      "[CV] gamma=0.125, C=32 ...............................................\n",
      "[CV] gamma=0.125, C=32 ...............................................\n",
      "[CV] gamma=0.125, C=32 ...............................................\n",
      "[CV] gamma=0.125, C=32 ...............................................\n",
      "[CV] gamma=4, C=0.125 ................................................\n",
      "[CV] gamma=4, C=0.125 ................................................\n",
      "[CV] gamma=4, C=0.125 ................................................\n",
      "[CV] gamma=4, C=0.125 ................................................\n",
      "[CV] gamma=4, C=0.125 ................................................\n",
      "[CV] gamma=4, C=0.25 .................................................\n",
      "[CV] gamma=4, C=0.25 .................................................\n",
      "[CV] gamma=4, C=0.25 .................................................\n",
      "[CV] gamma=4, C=0.25 .................................................\n",
      "[CV] gamma=4, C=0.25 .................................................\n",
      "[CV]  gamma=0.0001220703125, C=0.25, score=0.898970083374203, total= 4.7min\n",
      "[CV]  gamma=0.0001220703125, C=0.25, score=0.8990582695703355, total= 4.7min\n",
      "[CV]  gamma=0.0001220703125, C=0.25, score=0.8988819144762652, total= 4.7min\n",
      "[CV]  gamma=0.0001220703125, C=0.25, score=0.8990582695703355, total= 4.7min\n",
      "[CV]  gamma=0.0001220703125, C=0.25, score=0.8987937628714328, total= 4.8min\n"
     ]
    },
    {
     "name": "stderr",
     "output_type": "stream",
     "text": [
      "[Parallel(n_jobs=100)]: Done   5 out of  50 | elapsed:  7.7min remaining: 69.4min\n"
     ]
    },
    {
     "name": "stdout",
     "output_type": "stream",
     "text": [
      "[CV] . gamma=0.0625, C=0.03125, score=0.898970083374203, total= 5.4min\n",
      "[CV]  gamma=0.0625, C=0.03125, score=0.8923212709620476, total= 5.5min\n",
      "[CV]  gamma=0.000244140625, C=4, score=0.898970083374203, total= 5.3min\n",
      "[CV]  gamma=0.000244140625, C=4, score=0.8988819144762652, total= 5.3min\n",
      "[CV] .. gamma=0.125, C=0.0625, score=0.8514268902618417, total= 5.5min\n",
      "[CV]  gamma=0.0625, C=0.03125, score=0.8990582695703355, total= 5.6min\n",
      "[CV]  gamma=0.000244140625, C=4, score=0.8990582695703355, total= 5.5min\n",
      "[CV]  gamma=0.0625, C=0.03125, score=0.8990582695703355, total= 5.8min\n",
      "[CV] .. gamma=0.125, C=0.0625, score=0.9016184404119667, total= 5.8min\n",
      "[CV]  gamma=0.0625, C=0.03125, score=0.8988819144762652, total= 5.8min\n",
      "[CV]  gamma=0.000244140625, C=4, score=0.8990582695703355, total= 5.7min\n"
     ]
    },
    {
     "name": "stderr",
     "output_type": "stream",
     "text": [
      "[Parallel(n_jobs=100)]: Done  16 out of  50 | elapsed:  8.8min remaining: 18.7min\n"
     ]
    },
    {
     "name": "stdout",
     "output_type": "stream",
     "text": [
      "[CV] .. gamma=0.125, C=0.0625, score=0.8997449480086326, total= 6.0min\n",
      "[CV]  gamma=0.000244140625, C=4, score=0.8987937628714328, total= 6.1min\n",
      "[CV] .. gamma=0.125, C=0.0625, score=0.8988819144762652, total= 6.1min\n",
      "[CV] .. gamma=0.125, C=0.0625, score=0.9078869923484403, total= 6.3min\n",
      "[CV] ......... gamma=0.5, C=4, score=0.8564842063959192, total=10.0min\n",
      "[CV] ......... gamma=0.5, C=4, score=0.8456408747670884, total=10.9min\n",
      "[CV] .......... gamma=0.5, C=4, score=0.936837975676736, total=11.5min\n",
      "[CV] ....... gamma=0.125, C=32, score=0.866686286050618, total=12.8min\n",
      "[CV] ......... gamma=0.5, C=4, score=0.9025897586815774, total=12.6min\n",
      "[CV] ......... gamma=0.5, C=4, score=0.9168219715546837, total=12.8min\n",
      "[CV] ....... gamma=4, C=0.125, score=0.9139774399215301, total=13.8min\n"
     ]
    },
    {
     "name": "stderr",
     "output_type": "stream",
     "text": [
      "[Parallel(n_jobs=100)]: Done  27 out of  50 | elapsed: 15.9min remaining: 13.6min\n"
     ]
    },
    {
     "name": "stdout",
     "output_type": "stream",
     "text": [
      "[CV] ....... gamma=4, C=0.125, score=0.8935648420639591, total=14.4min\n",
      "[CV] ........ gamma=4, C=0.25, score=0.8530940472688046, total=14.5min\n",
      "[CV] ....... gamma=4, C=0.125, score=0.8588800627635579, total=14.6min\n",
      "[CV] ........ gamma=4, C=0.25, score=0.9143697891123099, total=14.8min\n",
      "[CV] ........ gamma=4, C=0.25, score=0.9028840494408475, total=15.0min\n",
      "[CV] ........ gamma=4, C=0.25, score=0.8733568765940749, total=15.1min\n",
      "[CV] ....... gamma=4, C=0.125, score=0.9021973710025505, total=15.3min\n",
      "[CV] ......... gamma=4, C=0.5, score=0.8603099862664312, total=15.7min\n",
      "[CV] ....... gamma=4, C=0.125, score=0.9335033346410357, total=15.6min\n",
      "[CV] .......... gamma=4, C=0.5, score=0.848092576247916, total=16.0min\n",
      "[CV] ......... gamma=4, C=0.5, score=0.9159391858754291, total=15.9min\n"
     ]
    },
    {
     "name": "stderr",
     "output_type": "stream",
     "text": [
      "[Parallel(n_jobs=100)]: Done  38 out of  50 | elapsed: 17.6min remaining:  5.5min\n"
     ]
    },
    {
     "name": "stdout",
     "output_type": "stream",
     "text": [
      "[CV] ......... gamma=4, C=0.5, score=0.9027859525210908, total=16.6min\n",
      "[CV] ......... gamma=4, C=0.25, score=0.937328364064339, total=16.6min\n",
      "[CV] ......... gamma=4, C=0.5, score=0.9390937622597096, total=16.9min\n",
      "[CV] ...... gamma=0.125, C=32, score=0.8449543983524566, total=18.6min\n",
      "[CV] ...... gamma=0.125, C=32, score=0.9320321694782268, total=18.9min\n",
      "[CV] ....... gamma=0.125, C=32, score=0.901706886403767, total=19.6min\n",
      "[CV] ...... gamma=0.125, C=32, score=0.9178028445316332, total=20.2min\n",
      "[CV]  gamma=0.001953125, C=16384, score=0.8491713248994802, total=24.9min\n",
      "[CV]  gamma=0.001953125, C=16384, score=0.9029821463606043, total=25.2min\n",
      "[CV]  gamma=0.001953125, C=16384, score=0.9006278202864431, total=25.7min\n",
      "[CV]  gamma=0.001953125, C=16384, score=0.9120156939676312, total=25.8min\n",
      "[CV]  gamma=0.001953125, C=16384, score=0.9031973322871715, total=26.1min\n"
     ]
    },
    {
     "name": "stderr",
     "output_type": "stream",
     "text": [
      "[Parallel(n_jobs=100)]: Done  50 out of  50 | elapsed: 26.2min finished\n"
     ]
    },
    {
     "name": "stdout",
     "output_type": "stream",
     "text": [
      "Elapsed time: 1651.0508208274841\n"
     ]
    }
   ],
   "source": [
    "from sklearn.model_selection import RandomizedSearchCV\n",
    "\n",
    "random_search = dict((k,[]) for k in classifiers.keys())\n",
    "\n",
    "for clf in param_dist_dict.keys():\n",
    "#     start = time()\n",
    "    random_search[clf] = RandomizedSearchCV(classifiers[clf], param_dist_dict[clf], cv=5, n_iter=10, verbose=5, n_jobs=100, scoring='accuracy')    \n",
    "#     random_search[clf] = RandomizedSearchCV(classifiers[clf], param_dist_dict[clf], cv=8, n_iter=20, verbose=5, n_jobs=100, scoring='accuracy')\n",
    "    start_time = time()\n",
    "    random_search[clf].fit(data_std, data_label)\n",
    "    end_time = time() - start_time\n",
    "    print('Elapsed time: {}'.format(end_time))\n",
    "    f = open('Results/train_time-{}.txt'.format(clf), 'w')\n",
    "    f.write('{}'.format(end_time))\n",
    "    f.close()"
   ]
  },
  {
   "cell_type": "markdown",
   "metadata": {},
   "source": [
    "# Save all models"
   ]
  },
  {
   "cell_type": "code",
   "execution_count": 11,
   "metadata": {},
   "outputs": [
    {
     "name": "stdout",
     "output_type": "stream",
     "text": [
      "SVM-RBF\n"
     ]
    }
   ],
   "source": [
    "print(clf)"
   ]
  },
  {
   "cell_type": "code",
   "execution_count": 12,
   "metadata": {},
   "outputs": [],
   "source": [
    "save_models(random_search)"
   ]
  },
  {
   "cell_type": "code",
   "execution_count": 10,
   "metadata": {},
   "outputs": [
    {
     "data": {
      "text/plain": [
       "{'MLP': RandomizedSearchCV(cv=8, error_score='raise',\n",
       "           estimator=MLPClassifier(activation='relu', alpha=0.0001, batch_size='auto', beta_1=0.9,\n",
       "        beta_2=0.999, early_stopping=False, epsilon=1e-08,\n",
       "        hidden_layer_sizes=(100,), learning_rate='adaptive',\n",
       "        learning_rate_init=0.0005, max_iter=1300, momentum=0.9,\n",
       "        nesterovs_momentum=True, power_t=0.5, random_state=None,\n",
       "        shuffle=True, solver='adam', tol=0.0001, validation_fraction=0.1,\n",
       "        verbose=False, warm_start=False),\n",
       "           fit_params=None, iid=True, n_iter=20, n_jobs=100,\n",
       "           param_distributions={'hidden_layer_sizes': [2, 3, 4, 5, 6, 7, 8, 9, 10, 11, 12, 13, 14, 15, 16, 17, 18, 19, 20, 21, 22, 23, 24, 25, 26, 27, 28, 29, 30, 31, 32, 33, 34, 35, 36, 37, 38, 39, 40, 41, 42, 43, 44, 45, 46, 47, 48, 49, 50, 51, 52, 53, 54, 55, 56, 57, 58, 59, 60, 61, 62, 63, 64, 65, 66, 67, ...81, 982, 983, 984, 985, 986, 987, 988, 989, 990, 991, 992, 993, 994, 995, 996, 997, 998, 999, 1000]},\n",
       "           pre_dispatch='2*n_jobs', random_state=None, refit=True,\n",
       "           return_train_score=True, scoring=None, verbose=5),\n",
       " 'SVM-RBF': RandomizedSearchCV(cv=8, error_score='raise',\n",
       "           estimator=SVC(C=1.0, cache_size=200, class_weight=None, coef0=0.0,\n",
       "   decision_function_shape='ovr', degree=3, gamma='auto', kernel='rbf',\n",
       "   max_iter=-1, probability=False, random_state=None, shrinking=True,\n",
       "   tol=0.001, verbose=False),\n",
       "           fit_params=None, iid=True, n_iter=20, n_jobs=100,\n",
       "           param_distributions={'gamma': [-30, -28, -26, -24, -22, -20, -18, -16, -14, -12, -10, -8, -6, -4, -2, 0, 2, 4], 'C': [-10, -8, -6, -4, -2, 0, 2, 4, 6, 8, 10, 12, 14, 16, 18, 20, 22, 24, 26, 28]},\n",
       "           pre_dispatch='2*n_jobs', random_state=None, refit=True,\n",
       "           return_train_score=True, scoring=None, verbose=5)}"
      ]
     },
     "execution_count": 10,
     "metadata": {},
     "output_type": "execute_result"
    }
   ],
   "source": []
  },
  {
   "cell_type": "code",
   "execution_count": 13,
   "metadata": {},
   "outputs": [],
   "source": [
    "u = random_search['MLP']"
   ]
  },
  {
   "cell_type": "code",
   "execution_count": 14,
   "metadata": {},
   "outputs": [
    {
     "name": "stderr",
     "output_type": "stream",
     "text": [
      "/anaconda3/lib/python3.6/site-packages/sklearn/utils/deprecation.py:122: FutureWarning: You are accessing a training score ('mean_train_score'), which will not be available by default any more in 0.21. If you need training scores, please set return_train_score=True\n",
      "  warnings.warn(*warn_args, **warn_kwargs)\n",
      "/anaconda3/lib/python3.6/site-packages/sklearn/utils/deprecation.py:122: FutureWarning: You are accessing a training score ('split0_train_score'), which will not be available by default any more in 0.21. If you need training scores, please set return_train_score=True\n",
      "  warnings.warn(*warn_args, **warn_kwargs)\n",
      "/anaconda3/lib/python3.6/site-packages/sklearn/utils/deprecation.py:122: FutureWarning: You are accessing a training score ('split1_train_score'), which will not be available by default any more in 0.21. If you need training scores, please set return_train_score=True\n",
      "  warnings.warn(*warn_args, **warn_kwargs)\n",
      "/anaconda3/lib/python3.6/site-packages/sklearn/utils/deprecation.py:122: FutureWarning: You are accessing a training score ('split2_train_score'), which will not be available by default any more in 0.21. If you need training scores, please set return_train_score=True\n",
      "  warnings.warn(*warn_args, **warn_kwargs)\n",
      "/anaconda3/lib/python3.6/site-packages/sklearn/utils/deprecation.py:122: FutureWarning: You are accessing a training score ('split3_train_score'), which will not be available by default any more in 0.21. If you need training scores, please set return_train_score=True\n",
      "  warnings.warn(*warn_args, **warn_kwargs)\n",
      "/anaconda3/lib/python3.6/site-packages/sklearn/utils/deprecation.py:122: FutureWarning: You are accessing a training score ('split4_train_score'), which will not be available by default any more in 0.21. If you need training scores, please set return_train_score=True\n",
      "  warnings.warn(*warn_args, **warn_kwargs)\n",
      "/anaconda3/lib/python3.6/site-packages/sklearn/utils/deprecation.py:122: FutureWarning: You are accessing a training score ('std_train_score'), which will not be available by default any more in 0.21. If you need training scores, please set return_train_score=True\n",
      "  warnings.warn(*warn_args, **warn_kwargs)\n"
     ]
    },
    {
     "data": {
      "text/plain": [
       "{'mean_fit_time': array([815.47842536, 712.35253181, 735.59505739, 768.82377558,\n",
       "        704.33608208, 764.58576913, 125.41355691, 756.6995378 ,\n",
       "        679.49937758, 669.20606089]),\n",
       " 'mean_score_time': array([0.06226726, 0.07450514, 0.0326221 , 0.04779453, 0.03339429,\n",
       "        0.08390164, 0.03966637, 0.0768734 , 0.03386216, 0.03690991]),\n",
       " 'mean_test_score': array([0.88420041, 0.88186598, 0.88125785, 0.88037508, 0.88404347,\n",
       "        0.88657407, 0.87855069, 0.88398462, 0.8879865 , 0.88592671]),\n",
       " 'mean_train_score': array([0.92162981, 0.9202468 , 0.9199133 , 0.92048219, 0.92049202,\n",
       "        0.92141894, 0.91854011, 0.92133557, 0.91970243, 0.91922672]),\n",
       " 'param_hidden_layer_sizes': masked_array(data=[283, 179, 112, 129, 99, 257, 26, 266, 96, 44],\n",
       "              mask=[False, False, False, False, False, False, False, False,\n",
       "                    False, False],\n",
       "        fill_value='?',\n",
       "             dtype=object),\n",
       " 'params': [{'hidden_layer_sizes': 283},\n",
       "  {'hidden_layer_sizes': 179},\n",
       "  {'hidden_layer_sizes': 112},\n",
       "  {'hidden_layer_sizes': 129},\n",
       "  {'hidden_layer_sizes': 99},\n",
       "  {'hidden_layer_sizes': 257},\n",
       "  {'hidden_layer_sizes': 26},\n",
       "  {'hidden_layer_sizes': 266},\n",
       "  {'hidden_layer_sizes': 96},\n",
       "  {'hidden_layer_sizes': 44}],\n",
       " 'rank_test_score': array([ 4,  7,  8,  9,  5,  2, 10,  6,  1,  3], dtype=int32),\n",
       " 'split0_test_score': array([0.82426204, 0.80690399, 0.81347455, 0.80710013, 0.81994704,\n",
       "        0.82857703, 0.81769148, 0.82789056, 0.84348338, 0.81514171]),\n",
       " 'split0_train_score': array([0.9292528 , 0.92741362, 0.92709483, 0.92694769, 0.92876235,\n",
       "        0.92981682, 0.92559896, 0.93025822, 0.92802668, 0.92719292]),\n",
       " 'split1_test_score': array([0.94027069, 0.94134955, 0.93311102, 0.94085916, 0.93948607,\n",
       "        0.94066301, 0.93644566, 0.93879953, 0.92879561, 0.93242448]),\n",
       " 'split1_train_score': array([0.91311918, 0.91186856, 0.91034821, 0.91196665, 0.91142717,\n",
       "        0.91265326, 0.90980873, 0.91272683, 0.91051986, 0.90990682]),\n",
       " 'split2_test_score': array([0.89985287, 0.90416871, 0.91015204, 0.90632663, 0.90554193,\n",
       "        0.90573811, 0.88219716, 0.90456106, 0.90495341, 0.90544385]),\n",
       " 'split2_train_score': array([0.92010986, 0.91814816, 0.91912901, 0.91932518, 0.91895736,\n",
       "        0.92060028, 0.91675045, 0.92010986, 0.91827076, 0.91844241]),\n",
       " 'split3_test_score': array([0.85373749, 0.85373749, 0.84677261, 0.84549735, 0.85305081,\n",
       "        0.85481656, 0.8533451 , 0.84510496, 0.86030999, 0.87237591]),\n",
       " 'split3_train_score': array([0.92361826, 0.92224511, 0.92302977, 0.92312785, 0.92278456,\n",
       "        0.92280908, 0.92160757, 0.92325045, 0.92209798, 0.92126428]),\n",
       " 'split4_test_score': array([0.90288405, 0.90317834, 0.90278595, 0.90209927, 0.90219737,\n",
       "        0.90308024, 0.90308024, 0.90357073, 0.90239356, 0.90425741]),\n",
       " 'split4_train_score': array([0.92204894, 0.92155853, 0.91996469, 0.9210436 , 0.92052866,\n",
       "        0.92121524, 0.91893482, 0.9203325 , 0.91959688, 0.91932715]),\n",
       " 'std_fit_time': array([ 21.88865184, 100.26667397,  38.40152464,  88.09202579,\n",
       "         79.25415721,  63.03245602,  11.05403448,  77.73151877,\n",
       "         99.90025612, 129.57588796]),\n",
       " 'std_score_time': array([0.0161502 , 0.0601989 , 0.00383954, 0.02717794, 0.01262899,\n",
       "        0.0368878 , 0.00764778, 0.02748725, 0.01151445, 0.01434674]),\n",
       " 'std_test_score': array([0.04064303, 0.04669379, 0.04420793, 0.04772933, 0.04227371,\n",
       "        0.03984517, 0.04075969, 0.04115923, 0.03132954, 0.04018483]),\n",
       " 'std_train_score': array([0.00523413, 0.00513179, 0.00553887, 0.00495924, 0.00562463,\n",
       "        0.00547733, 0.00526939, 0.00565508, 0.00568176, 0.00556952])}"
      ]
     },
     "execution_count": 14,
     "metadata": {},
     "output_type": "execute_result"
    }
   ],
   "source": [
    "u.cv_results_"
   ]
  },
  {
   "cell_type": "markdown",
   "metadata": {},
   "source": [
    "# Compute the Naive-Bayes train time"
   ]
  },
  {
   "cell_type": "code",
   "execution_count": 15,
   "metadata": {},
   "outputs": [
    {
     "name": "stdout",
     "output_type": "stream",
     "text": [
      "Elapsed time: 0.009860038757324219\n"
     ]
    }
   ],
   "source": [
    "from sklearn.naive_bayes import GaussianNB\n",
    "\n",
    "start_time = time()\n",
    "bayes_clf = GaussianNB()\n",
    "bayes_clf.fit(data_std, data_label)\n",
    "end_time = time() - start_time\n",
    "\n",
    "print('Elapsed time: {}'.format(end_time))\n",
    "f = open('Results/train_time-Bayes.txt', 'w')\n",
    "f.write('{}'.format(end_time))\n",
    "f.close()"
   ]
  },
  {
   "cell_type": "markdown",
   "metadata": {},
   "source": [
    "# Save pipeline to .pkl file"
   ]
  },
  {
   "cell_type": "code",
   "execution_count": 9,
   "metadata": {},
   "outputs": [],
   "source": [
    "save_pipeline(std_scaler)"
   ]
  },
  {
   "cell_type": "markdown",
   "metadata": {},
   "source": []
  },
  {
   "cell_type": "code",
   "execution_count": null,
   "metadata": {},
   "outputs": [],
   "source": []
  }
 ],
 "metadata": {
  "kernelspec": {
   "display_name": "Python 3",
   "language": "python",
   "name": "python3"
  },
  "language_info": {
   "codemirror_mode": {
    "name": "ipython",
    "version": 3
   },
   "file_extension": ".py",
   "mimetype": "text/x-python",
   "name": "python",
   "nbconvert_exporter": "python",
   "pygments_lexer": "ipython3",
   "version": "3.6.4"
  }
 },
 "nbformat": 4,
 "nbformat_minor": 2
}
