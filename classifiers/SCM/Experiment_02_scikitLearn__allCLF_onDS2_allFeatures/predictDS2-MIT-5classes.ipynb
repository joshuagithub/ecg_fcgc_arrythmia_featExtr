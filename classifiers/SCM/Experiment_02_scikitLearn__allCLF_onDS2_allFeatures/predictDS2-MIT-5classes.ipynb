{
 "cells": [
  {
   "cell_type": "code",
   "execution_count": 1,
   "metadata": {},
   "outputs": [],
   "source": [
    "import pandas as pd\n",
    "import numpy as np\n",
    "import matplotlib.pyplot as plt\n",
    "from sklearn import preprocessing\n",
    "from sklearn import metrics\n",
    "import os, sys\n",
    "from time import time\n",
    "\n",
    "parentPath = os.path.abspath(\"..\")\n",
    "\n",
    "if parentPath not in sys.path:\n",
    "    sys.path.insert(0, parentPath)\n",
    "    \n",
    "from utils.experiment import *"
   ]
  },
  {
   "cell_type": "markdown",
   "metadata": {},
   "source": [
    "# Load data ** Chose your path before get stated **"
   ]
  },
  {
   "cell_type": "code",
   "execution_count": 2,
   "metadata": {},
   "outputs": [],
   "source": [
    "path = os.getcwd()\n",
    "rootDir, _ = path.split('ECG-Arritmia-Paper1')\n",
    "path = 'ECG-Arritmia-Paper1/Database_extracted/Dataset_with_features'\n",
    "filename = 'MIT-BIH__DS2_5classes__SCM.csv'\n",
    "dataset = pd.read_csv(os.path.join(rootDir, path, filename));"
   ]
  },
  {
   "cell_type": "code",
   "execution_count": 3,
   "metadata": {},
   "outputs": [],
   "source": [
    "dataset = dataset.iloc[:,[0, 1, 2, 3, 4, 8]]"
   ]
  },
  {
   "cell_type": "code",
   "execution_count": 4,
   "metadata": {},
   "outputs": [
    {
     "data": {
      "text/html": [
       "<div>\n",
       "<style scoped>\n",
       "    .dataframe tbody tr th:only-of-type {\n",
       "        vertical-align: middle;\n",
       "    }\n",
       "\n",
       "    .dataframe tbody tr th {\n",
       "        vertical-align: top;\n",
       "    }\n",
       "\n",
       "    .dataframe thead th {\n",
       "        text-align: right;\n",
       "    }\n",
       "</style>\n",
       "<table border=\"1\" class=\"dataframe\">\n",
       "  <thead>\n",
       "    <tr style=\"text-align: right;\">\n",
       "      <th></th>\n",
       "      <th>Var1</th>\n",
       "      <th>Var2</th>\n",
       "      <th>Var3</th>\n",
       "      <th>Var4</th>\n",
       "      <th>Var5</th>\n",
       "      <th>Var9</th>\n",
       "    </tr>\n",
       "  </thead>\n",
       "  <tbody>\n",
       "    <tr>\n",
       "      <th>0</th>\n",
       "      <td>0.796475</td>\n",
       "      <td>0.703297</td>\n",
       "      <td>2.109765</td>\n",
       "      <td>0.374450</td>\n",
       "      <td>0.882230</td>\n",
       "      <td>0</td>\n",
       "    </tr>\n",
       "    <tr>\n",
       "      <th>1</th>\n",
       "      <td>0.859659</td>\n",
       "      <td>0.680851</td>\n",
       "      <td>2.344254</td>\n",
       "      <td>0.451078</td>\n",
       "      <td>0.649940</td>\n",
       "      <td>0</td>\n",
       "    </tr>\n",
       "    <tr>\n",
       "      <th>2</th>\n",
       "      <td>0.755753</td>\n",
       "      <td>0.688172</td>\n",
       "      <td>2.286413</td>\n",
       "      <td>0.407302</td>\n",
       "      <td>0.819789</td>\n",
       "      <td>0</td>\n",
       "    </tr>\n",
       "    <tr>\n",
       "      <th>3</th>\n",
       "      <td>0.800796</td>\n",
       "      <td>0.703297</td>\n",
       "      <td>2.132419</td>\n",
       "      <td>0.373310</td>\n",
       "      <td>0.999879</td>\n",
       "      <td>0</td>\n",
       "    </tr>\n",
       "    <tr>\n",
       "      <th>4</th>\n",
       "      <td>0.790644</td>\n",
       "      <td>0.703297</td>\n",
       "      <td>2.213094</td>\n",
       "      <td>0.398221</td>\n",
       "      <td>0.738899</td>\n",
       "      <td>0</td>\n",
       "    </tr>\n",
       "  </tbody>\n",
       "</table>\n",
       "</div>"
      ],
      "text/plain": [
       "       Var1      Var2      Var3      Var4      Var5  Var9\n",
       "0  0.796475  0.703297  2.109765  0.374450  0.882230     0\n",
       "1  0.859659  0.680851  2.344254  0.451078  0.649940     0\n",
       "2  0.755753  0.688172  2.286413  0.407302  0.819789     0\n",
       "3  0.800796  0.703297  2.132419  0.373310  0.999879     0\n",
       "4  0.790644  0.703297  2.213094  0.398221  0.738899     0"
      ]
     },
     "execution_count": 4,
     "metadata": {},
     "output_type": "execute_result"
    }
   ],
   "source": [
    "dataset.head()"
   ]
  },
  {
   "cell_type": "code",
   "execution_count": 5,
   "metadata": {},
   "outputs": [
    {
     "data": {
      "text/plain": [
       "(49668, 6)"
      ]
     },
     "execution_count": 5,
     "metadata": {},
     "output_type": "execute_result"
    }
   ],
   "source": [
    "dataset.shape"
   ]
  },
  {
   "cell_type": "markdown",
   "metadata": {},
   "source": [
    "# Data preprocessing"
   ]
  },
  {
   "cell_type": "markdown",
   "metadata": {},
   "source": [
    "In this step we are going standardize our dataset. The pipeline.pkl will be loaded, and it contains the weights of normalization onf DS1 set."
   ]
  },
  {
   "cell_type": "code",
   "execution_count": 6,
   "metadata": {},
   "outputs": [],
   "source": [
    "from sklearn.externals import joblib\n",
    "\n",
    "pipeline_part = joblib.load('./models/pipeline.pkl')"
   ]
  },
  {
   "cell_type": "markdown",
   "metadata": {},
   "source": [
    "Separete features from labels."
   ]
  },
  {
   "cell_type": "code",
   "execution_count": 7,
   "metadata": {},
   "outputs": [],
   "source": [
    "data_std = pipeline_part.transform(dataset.values[:,:-1])\n",
    "data_label = dataset.values[:,-1]"
   ]
  },
  {
   "cell_type": "markdown",
   "metadata": {},
   "source": [
    "# Load classifiers"
   ]
  },
  {
   "cell_type": "code",
   "execution_count": 8,
   "metadata": {},
   "outputs": [],
   "source": [
    "from sklearn.externals import joblib\n",
    "\n",
    "random_search = joblib.load('./models/classifiers.pkl')"
   ]
  },
  {
   "cell_type": "code",
   "execution_count": 9,
   "metadata": {},
   "outputs": [
    {
     "data": {
      "text/plain": [
       "GaussianNB(priors=None)"
      ]
     },
     "execution_count": 9,
     "metadata": {},
     "output_type": "execute_result"
    }
   ],
   "source": [
    "from sklearn.naive_bayes import GaussianNB\n",
    "\n",
    "bayes_clf = GaussianNB()\n",
    "bayes_clf.fit(data_std, data_label)"
   ]
  },
  {
   "cell_type": "code",
   "execution_count": 71,
   "metadata": {},
   "outputs": [],
   "source": [
    "svm_clf = random_search['SVM-RBF'].best_estimator_\n",
    "mlp_clf = random_search['MLP'].best_estimator_\n",
    "\n",
    "classifiers = {'MLP-96': mlp_clf, 'SVM-RBF': svm_clf, 'Naive-Bayes': bayes_clf}"
   ]
  },
  {
   "cell_type": "code",
   "execution_count": null,
   "metadata": {},
   "outputs": [],
   "source": []
  },
  {
   "cell_type": "markdown",
   "metadata": {},
   "source": [
    "# **TEST** on DS2 set"
   ]
  },
  {
   "cell_type": "code",
   "execution_count": 72,
   "metadata": {},
   "outputs": [
    {
     "name": "stdout",
     "output_type": "stream",
     "text": [
      "MLP-96\n",
      "Elapsed time: 1.282779128019424e-06\n",
      "SVM-RBF\n",
      "Elapsed time: 0.0003055185619602171\n",
      "Naive-Bayes\n",
      "Elapsed time: 1.8957608408750117e-07\n"
     ]
    },
    {
     "name": "stderr",
     "output_type": "stream",
     "text": [
      "/anaconda3/lib/python3.6/site-packages/sklearn/metrics/classification.py:1135: UndefinedMetricWarning: Precision is ill-defined and being set to 0.0 in labels with no predicted samples.\n",
      "  'precision', 'predicted', average, warn_for)\n",
      "/anaconda3/lib/python3.6/site-packages/sklearn/metrics/classification.py:1135: UndefinedMetricWarning: F-score is ill-defined and being set to 0.0 in labels with no predicted samples.\n",
      "  'precision', 'predicted', average, warn_for)\n",
      "/Users/leandrobmarinho/Documents/ECG-Arritmia-Paper1/Results_Navar/SCM/utils/experiment.py:155: RuntimeWarning: invalid value encountered in double_scalars\n",
      "  metrics_class[i,3] = (2*metrics_class[i,2]*metrics_class[i,1])/(metrics_class[i,2] + metrics_class[i,1])\n",
      "/Users/leandrobmarinho/Documents/ECG-Arritmia-Paper1/Results_Navar/SCM/utils/experiment.py:153: RuntimeWarning: invalid value encountered in double_scalars\n",
      "  metrics_class[i,2] = TP / (TP + FP)\n"
     ]
    }
   ],
   "source": [
    "clf_outputs = {'true': dict((k, {}) for k in classifiers.keys()), \n",
    "               'pred': dict((k, {}) for k in classifiers.keys())}\n",
    "results = dict((k, {}) for k in classifiers.keys())\n",
    "\n",
    "for clf in classifiers.keys():\n",
    "    print(clf)\n",
    "    clf_outputs['true'][clf][0] = data_label\n",
    "    start_time = time()\n",
    "    clf_outputs['pred'][clf][0] = classifiers[clf].predict(data_std)\n",
    "    end_time = (time() - start_time)/data_std.shape[0]\n",
    "    \n",
    "    print('Elapsed time: {}'.format(end_time))\n",
    "    f = open('Results/test_time-{}.txt'.format(clf), 'w')\n",
    "    f.write('{}'.format(end_time))\n",
    "    f.close()\n",
    "    \n",
    "\n",
    "results = results_clf(5, clf_outputs['true'], clf_outputs['pred'])"
   ]
  },
  {
   "cell_type": "markdown",
   "metadata": {},
   "source": [
    "# Save results to CSVs and figures"
   ]
  },
  {
   "cell_type": "code",
   "execution_count": 73,
   "metadata": {},
   "outputs": [
    {
     "data": {
      "text/plain": [
       "{'MLP-96': {'acc': [0.9085729242167996],\n",
       "  'average': {'acc': 0.9085729242167996,\n",
       "   'confMat': array([[4.3865e+04, 2.7000e+01, 3.2600e+02, 0.0000e+00, 0.0000e+00],\n",
       "          [1.8330e+03, 0.0000e+00, 2.0000e+00, 0.0000e+00, 0.0000e+00],\n",
       "          [1.9580e+03, 0.0000e+00, 1.2620e+03, 0.0000e+00, 0.0000e+00],\n",
       "          [3.5100e+02, 0.0000e+00, 3.7000e+01, 0.0000e+00, 0.0000e+00],\n",
       "          [4.0000e+00, 0.0000e+00, 3.0000e+00, 0.0000e+00, 0.0000e+00]]),\n",
       "   'confMat_std': array([[0., 0., 0., 0., 0.],\n",
       "          [0., 0., 0., 0., 0.],\n",
       "          [0., 0., 0., 0., 0.],\n",
       "          [0., 0., 0., 0., 0.],\n",
       "          [0., 0., 0., 0., 0.]]),\n",
       "   'f1': 0.8805818742793907,\n",
       "   'precision': 0.8635857289880641,\n",
       "   'recall': 0.9085729242167996},\n",
       "  'class': {'acc': array([0.99201683, 0.        , 0.39192547, 0.        , 0.        ]),\n",
       "   'fsc': array([0.95121925, 0.        , 0.52041237, 0.        , 0.        ]),\n",
       "   'hm': array([0.3778355 , 0.        , 0.56181434, 0.        , 0.        ]),\n",
       "   'ppv': array([0.91364479, 0.        , 0.77423313, 0.        , 0.        ]),\n",
       "   'sen': array([0.99201683, 0.        , 0.39192547, 0.        , 0.        ]),\n",
       "   'spe': array([0.23335799, 0.99940205, 0.99168042, 1.        , 1.        ])},\n",
       "  'confMat': [array([[43865,    27,   326,     0,     0],\n",
       "          [ 1833,     0,     2,     0,     0],\n",
       "          [ 1958,     0,  1262,     0,     0],\n",
       "          [  351,     0,    37,     0,     0],\n",
       "          [    4,     0,     3,     0,     0]])],\n",
       "  'f1': [0.8805818742793907],\n",
       "  'precision': [0.8635857289880641],\n",
       "  'recall': [0.9085729242167996],\n",
       "  'roc': {'fpr': [{0: array([0.        , 0.76073394, 1.        ]),\n",
       "     1: array([0.00000000e+00, 5.64463864e-04, 1.00000000e+00]),\n",
       "     2: array([0.        , 0.00792284, 1.        ]),\n",
       "     3: array([0., 1.]),\n",
       "     4: array([0., 1.])}],\n",
       "   'tpr': [{0: array([0.        , 0.99201683, 1.        ]),\n",
       "     1: array([0., 0., 1.]),\n",
       "     2: array([0.        , 0.39192547, 1.        ]),\n",
       "     3: array([0., 1.]),\n",
       "     4: array([0., 1.])}]},\n",
       "  'roc_auc': [{0: 0.6156414403864755,\n",
       "    1: 0.49971776806807017,\n",
       "    2: 0.6920013136977596,\n",
       "    3: 0.5,\n",
       "    4: 0.5}]},\n",
       " 'Naive-Bayes': {'acc': [0.8502053636143996],\n",
       "  'average': {'acc': 0.8502053636143996,\n",
       "   'confMat': array([[3.9301e+04, 2.9400e+02, 4.5950e+03, 0.0000e+00, 2.8000e+01],\n",
       "          [1.6390e+03, 1.6300e+02, 3.2000e+01, 0.0000e+00, 1.0000e+00],\n",
       "          [4.5100e+02, 2.0000e+00, 2.7630e+03, 0.0000e+00, 4.0000e+00],\n",
       "          [2.1100e+02, 0.0000e+00, 1.7700e+02, 0.0000e+00, 0.0000e+00],\n",
       "          [3.0000e+00, 0.0000e+00, 3.0000e+00, 0.0000e+00, 1.0000e+00]]),\n",
       "   'confMat_std': array([[0., 0., 0., 0., 0.],\n",
       "          [0., 0., 0., 0., 0.],\n",
       "          [0., 0., 0., 0., 0.],\n",
       "          [0., 0., 0., 0., 0.],\n",
       "          [0., 0., 0., 0., 0.]]),\n",
       "   'f1': 0.8538249975395139,\n",
       "   'precision': 0.8777568431687164,\n",
       "   'recall': 0.8502053636143996},\n",
       "  'class': {'acc': array([0.88880094, 0.08882834, 0.85807453, 0.        , 0.14285714]),\n",
       "   'fsc': array([0.91586172, 0.14210985, 0.51214087, 0.        , 0.04878049]),\n",
       "   'hm': array([0.6867506 , 0.16306955, 0.87443007, 0.        , 0.24997558]),\n",
       "   'ppv': array([0.94462204, 0.35511983, 0.36499339, 0.        , 0.02941176]),\n",
       "   'sen': array([0.88880094, 0.08882834, 0.85807453, 0.        , 0.14285714]),\n",
       "   'spe': array([0.55954884, 0.99301244, 0.89142121, 1.        , 0.99921912])},\n",
       "  'confMat': [array([[39301,   294,  4595,     0,    28],\n",
       "          [ 1639,   163,    32,     0,     1],\n",
       "          [  451,     2,  2763,     0,     4],\n",
       "          [  211,     0,   177,     0,     0],\n",
       "          [    3,     0,     3,     0,     1]])],\n",
       "  'f1': [0.8538249975395139],\n",
       "  'precision': [0.8777568431687164],\n",
       "  'recall': [0.8502053636143996],\n",
       "  'roc': {'fpr': [{0: array([0.        , 0.42275229, 1.        ]),\n",
       "     1: array([0.       , 0.0061882, 1.       ]),\n",
       "     2: array([0.        , 0.10349208, 1.        ]),\n",
       "     3: array([0.00000000e+00, 6.89935065e-04, 1.00000000e+00]),\n",
       "     4: array([0., 1.])}],\n",
       "   'tpr': [{0: array([0.        , 0.88880094, 1.        ]),\n",
       "     1: array([0.        , 0.08882834, 1.        ]),\n",
       "     2: array([0.        , 0.85807453, 1.        ]),\n",
       "     3: array([0., 0., 1.]),\n",
       "     4: array([0., 1.])}]},\n",
       "  'roc_auc': [{0: 0.7330243236076801,\n",
       "    1: 0.5413200707206175,\n",
       "    2: 0.8772912284999668,\n",
       "    3: 0.49965503246753246,\n",
       "    4: 0.5}]},\n",
       " 'SVM-RBF': {'acc': [0.9093380043488766],\n",
       "  'average': {'acc': 0.9093380043488766,\n",
       "   'confMat': array([[4.417e+04, 0.000e+00, 4.800e+01, 0.000e+00, 0.000e+00],\n",
       "          [1.835e+03, 0.000e+00, 0.000e+00, 0.000e+00, 0.000e+00],\n",
       "          [2.225e+03, 0.000e+00, 9.950e+02, 0.000e+00, 0.000e+00],\n",
       "          [3.600e+02, 0.000e+00, 2.800e+01, 0.000e+00, 0.000e+00],\n",
       "          [5.000e+00, 0.000e+00, 2.000e+00, 0.000e+00, 0.000e+00]]),\n",
       "   'confMat_std': array([[0., 0., 0., 0., 0.],\n",
       "          [0., 0., 0., 0., 0.],\n",
       "          [0., 0., 0., 0., 0.],\n",
       "          [0., 0., 0., 0., 0.],\n",
       "          [0., 0., 0., 0., 0.]]),\n",
       "   'f1': 0.8774178093438754,\n",
       "   'precision': 0.8693221281168472,\n",
       "   'recall': 0.9093380043488766},\n",
       "  'class': {'acc': array([0.99891447, 0.        , 0.30900621, 0.        , 0.        ]),\n",
       "   'fsc': array([0.95180632, 0.        , 0.46354531, 0.        , 0.        ]),\n",
       "   'hm': array([0.31015817, 0.        , 0.47192664, 0.        , 0.        ]),\n",
       "   'ppv': array([0.90894125, 0.        , 0.92730662, 0.        , 0.        ]),\n",
       "   'sen': array([0.99891447, 0.        , 0.30900621, 0.        , 0.        ]),\n",
       "   'spe': array([0.18357934, 1.        , 0.99823721, 1.        , 1.        ])},\n",
       "  'confMat': [array([[44170,     0,    48,     0,     0],\n",
       "          [ 1835,     0,     0,     0,     0],\n",
       "          [ 2225,     0,   995,     0,     0],\n",
       "          [  360,     0,    28,     0,     0],\n",
       "          [    5,     0,     2,     0,     0]])],\n",
       "  'f1': [0.8774178093438754],\n",
       "  'precision': [0.8693221281168472],\n",
       "  'recall': [0.9093380043488766],\n",
       "  'roc': {'fpr': [{0: array([0.        , 0.81192661, 1.        ]),\n",
       "     1: array([0.        , 0.02243221, 1.        ]),\n",
       "     2: array([0., 1.]),\n",
       "     3: array([0., 1.]),\n",
       "     4: array([0., 1.])}],\n",
       "   'tpr': [{0: array([0.        , 0.99891447, 1.        ]),\n",
       "     1: array([0., 0., 1.]),\n",
       "     2: array([0., 1.]),\n",
       "     3: array([0., 1.]),\n",
       "     4: array([0., 1.])}]},\n",
       "  'roc_auc': [{0: 0.5934939318580461,\n",
       "    1: 0.48878389396441785,\n",
       "    2: 0.5,\n",
       "    3: 0.5,\n",
       "    4: 0.5}]}}"
      ]
     },
     "execution_count": 73,
     "metadata": {},
     "output_type": "execute_result"
    }
   ],
   "source": [
    "results"
   ]
  },
  {
   "cell_type": "code",
   "execution_count": 74,
   "metadata": {},
   "outputs": [
    {
     "name": "stdout",
     "output_type": "stream",
     "text": [
      "/Users/leandrobmarinho/Documents/ECG-Arritmia-Paper1/Results_Navar/SCM/Experiment_02_scikitLearn__allCLF_onDS2_allFeatures\n",
      "MLP-96\n",
      "SVM-RBF\n",
      "Naive-Bayes\n"
     ]
    },
    {
     "name": "stderr",
     "output_type": "stream",
     "text": [
      "/Users/leandrobmarinho/Documents/ECG-Arritmia-Paper1/Results_Navar/SCM/utils/experiment.py:293: RuntimeWarning: invalid value encountered in true_divide\n",
      "  return np.around((confMat / np.sum(confMat,axis=1)[:,None])*100,2)\n"
     ]
    }
   ],
   "source": [
    "export_results(results, 'validation')"
   ]
  },
  {
   "cell_type": "code",
   "execution_count": null,
   "metadata": {},
   "outputs": [],
   "source": []
  },
  {
   "cell_type": "markdown",
   "metadata": {},
   "source": [
    "# Computing train time"
   ]
  },
  {
   "cell_type": "code",
   "execution_count": null,
   "metadata": {},
   "outputs": [],
   "source": [
    "path = os.getcwd()\n",
    "rootDir, _ = path.split('ECG-Arritmia-Paper1')\n",
    "path = 'ECG-Arritmia-Paper1/Database_extracted/Dataset_with_features'\n",
    "filename = 'MIT-BIH__DS2_5classes__SCM.csv'\n",
    "dataset = pd.read_csv(os.path.join(rootDir, path, filename));"
   ]
  },
  {
   "cell_type": "code",
   "execution_count": 19,
   "metadata": {},
   "outputs": [
    {
     "name": "stdout",
     "output_type": "stream",
     "text": [
      "Elapsed time SVM-RBF: 88.95117211341858\n"
     ]
    }
   ],
   "source": [
    "from sklearn.externals import joblib\n",
    "from sklearn.naive_bayes import GaussianNB\n",
    "from time import time\n",
    "\n",
    "bayes_clf = GaussianNB()\n",
    "bayes_clf.fit(data_std, data_label)\n",
    "\n",
    "random_search = joblib.load('./models/classifiers.pkl')\n",
    "svm_clf = random_search['SVM-RBF'].best_estimator_\n",
    "mlp_clf = random_search['MLP'].best_estimator_\n",
    "\n",
    "classifiers = {'SVM-RBF': svm_clf} #'MLP': mlp_clf, \n",
    "\n",
    "for key,value  in classifiers.items():\n",
    "    start_time = time()\n",
    "    value.fit(data_std, data_label)\n",
    "    end_time = time() - start_time\n",
    "    print('Elapsed time {}: {}'.format(key, end_time))"
   ]
  },
  {
   "cell_type": "code",
   "execution_count": null,
   "metadata": {},
   "outputs": [],
   "source": [
    "random_search = joblib.load('./models/classifiers.pkl')\n",
    "print(random_search)"
   ]
  },
  {
   "cell_type": "code",
   "execution_count": null,
   "metadata": {},
   "outputs": [],
   "source": []
  }
 ],
 "metadata": {
  "kernelspec": {
   "display_name": "Python 3",
   "language": "python",
   "name": "python3"
  },
  "language_info": {
   "codemirror_mode": {
    "name": "ipython",
    "version": 3
   },
   "file_extension": ".py",
   "mimetype": "text/x-python",
   "name": "python",
   "nbconvert_exporter": "python",
   "pygments_lexer": "ipython3",
   "version": "3.6.4"
  }
 },
 "nbformat": 4,
 "nbformat_minor": 2
}
