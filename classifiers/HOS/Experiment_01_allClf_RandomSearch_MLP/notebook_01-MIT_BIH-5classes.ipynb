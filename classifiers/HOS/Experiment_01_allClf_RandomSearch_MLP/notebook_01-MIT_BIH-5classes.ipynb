{
 "cells": [
  {
   "cell_type": "code",
   "execution_count": 1,
   "metadata": {
    "collapsed": true
   },
   "outputs": [],
   "source": [
    "import pandas as pd\n",
    "import numpy as np\n",
    "import matplotlib.pyplot as plt\n",
    "from sklearn import preprocessing\n",
    "from sklearn import metrics\n",
    "import os\n",
    "\n",
    "from time import time\n",
    "from experiment import *"
   ]
  },
  {
   "cell_type": "markdown",
   "metadata": {},
   "source": [
    "# Load data ** Chose your path before get stated **"
   ]
  },
  {
   "cell_type": "code",
   "execution_count": 2,
   "metadata": {},
   "outputs": [],
   "source": [
    "path = os.getcwd()\n",
    "rootDir, _ = path.split('ECG-Arritmia-Paper1')\n",
    "path = 'ECG-Arritmia-Paper1/Database_extracted/Dataset_with_features'\n",
    "filename = 'MIT-BIH__DS1_5classes__HOS.csv'\n",
    "dataset = pd.read_csv(os.path.join(rootDir, path, filename));"
   ]
  },
  {
   "cell_type": "code",
   "execution_count": 3,
   "metadata": {},
   "outputs": [
    {
     "data": {
      "text/html": [
       "<div>\n",
       "<style>\n",
       "    .dataframe thead tr:only-child th {\n",
       "        text-align: right;\n",
       "    }\n",
       "\n",
       "    .dataframe thead th {\n",
       "        text-align: left;\n",
       "    }\n",
       "\n",
       "    .dataframe tbody tr th {\n",
       "        vertical-align: top;\n",
       "    }\n",
       "</style>\n",
       "<table border=\"1\" class=\"dataframe\">\n",
       "  <thead>\n",
       "    <tr style=\"text-align: right;\">\n",
       "      <th></th>\n",
       "      <th>Var1</th>\n",
       "      <th>Var2</th>\n",
       "      <th>Var3</th>\n",
       "      <th>Var4</th>\n",
       "      <th>Var5</th>\n",
       "    </tr>\n",
       "  </thead>\n",
       "  <tbody>\n",
       "    <tr>\n",
       "      <th>0</th>\n",
       "      <td>2.466699</td>\n",
       "      <td>8.076415</td>\n",
       "      <td>0.130942</td>\n",
       "      <td>0.365797</td>\n",
       "      <td>0</td>\n",
       "    </tr>\n",
       "    <tr>\n",
       "      <th>1</th>\n",
       "      <td>2.388250</td>\n",
       "      <td>7.647216</td>\n",
       "      <td>0.118878</td>\n",
       "      <td>0.351855</td>\n",
       "      <td>0</td>\n",
       "    </tr>\n",
       "    <tr>\n",
       "      <th>2</th>\n",
       "      <td>2.270058</td>\n",
       "      <td>7.048029</td>\n",
       "      <td>0.147898</td>\n",
       "      <td>0.403758</td>\n",
       "      <td>0</td>\n",
       "    </tr>\n",
       "    <tr>\n",
       "      <th>3</th>\n",
       "      <td>2.235512</td>\n",
       "      <td>6.838190</td>\n",
       "      <td>0.157496</td>\n",
       "      <td>0.395403</td>\n",
       "      <td>0</td>\n",
       "    </tr>\n",
       "    <tr>\n",
       "      <th>4</th>\n",
       "      <td>2.269395</td>\n",
       "      <td>6.948087</td>\n",
       "      <td>0.165563</td>\n",
       "      <td>0.403978</td>\n",
       "      <td>0</td>\n",
       "    </tr>\n",
       "  </tbody>\n",
       "</table>\n",
       "</div>"
      ],
      "text/plain": [
       "       Var1      Var2      Var3      Var4  Var5\n",
       "0  2.466699  8.076415  0.130942  0.365797     0\n",
       "1  2.388250  7.647216  0.118878  0.351855     0\n",
       "2  2.270058  7.048029  0.147898  0.403758     0\n",
       "3  2.235512  6.838190  0.157496  0.395403     0\n",
       "4  2.269395  6.948087  0.165563  0.403978     0"
      ]
     },
     "execution_count": 3,
     "metadata": {},
     "output_type": "execute_result"
    }
   ],
   "source": [
    "dataset.head()"
   ]
  },
  {
   "cell_type": "markdown",
   "metadata": {},
   "source": [
    "# Data preprocessing"
   ]
  },
  {
   "cell_type": "markdown",
   "metadata": {},
   "source": [
    "In this step we are going standardize our dataset."
   ]
  },
  {
   "cell_type": "code",
   "execution_count": 4,
   "metadata": {
    "collapsed": true
   },
   "outputs": [],
   "source": [
    "from sklearn.preprocessing import StandardScaler\n",
    "\n",
    "std_scaler = StandardScaler()"
   ]
  },
  {
   "cell_type": "markdown",
   "metadata": {},
   "source": [
    "Separete features from labels."
   ]
  },
  {
   "cell_type": "code",
   "execution_count": 5,
   "metadata": {},
   "outputs": [],
   "source": [
    "data_std = std_scaler.fit_transform(dataset.values[:,:-1])\n",
    "data_label = dataset.values[:,-1]"
   ]
  },
  {
   "cell_type": "markdown",
   "metadata": {},
   "source": [
    "# Classifiers specifications"
   ]
  },
  {
   "cell_type": "code",
   "execution_count": 6,
   "metadata": {},
   "outputs": [],
   "source": [
    "# Non-linear models:\n",
    "from sklearn.neural_network import MLPClassifier\n",
    "\n",
    "# Kernel-based models\n",
    "from sklearn.svm import SVC\n",
    "\n",
    "##### Model pre-loadings:\n",
    "\n",
    "# MLP:\n",
    "mlp_clf = MLPClassifier(solver='adam', learning_rate='adaptive', \n",
    "                        max_iter=1300, learning_rate_init=5e-04, tol=1e-4)\n",
    "\n",
    "# SVM\n",
    "svm_rbf_clf = SVC(kernel='rbf')"
   ]
  },
  {
   "cell_type": "markdown",
   "metadata": {},
   "source": [
    "## Hyperameter tunning by randomized search:"
   ]
  },
  {
   "cell_type": "markdown",
   "metadata": {},
   "source": [
    "Classifiers definitions:"
   ]
  },
  {
   "cell_type": "code",
   "execution_count": 7,
   "metadata": {},
   "outputs": [],
   "source": [
    "classifiers = {'MLP': mlp_clf}"
   ]
  },
  {
   "cell_type": "markdown",
   "metadata": {},
   "source": [
    "Define param range for searching:"
   ]
  },
  {
   "cell_type": "code",
   "execution_count": 8,
   "metadata": {},
   "outputs": [],
   "source": [
    "param_dist_dict = {\n",
    "                    'MLP': {\"hidden_layer_sizes\": list(np.arange(2,1001))},\n",
    "                  }"
   ]
  },
  {
   "cell_type": "code",
   "execution_count": null,
   "metadata": {},
   "outputs": [
    {
     "name": "stdout",
     "output_type": "stream",
     "text": [
      "Fitting 8 folds for each of 20 candidates, totalling 160 fits\n",
      "[CV] hidden_layer_sizes=238 ..........................................\n",
      "[CV] hidden_layer_sizes=238 ..........................................\n",
      "[CV] hidden_layer_sizes=238 ..........................................\n",
      "[CV] hidden_layer_sizes=238 ..........................................\n",
      "[CV] hidden_layer_sizes=238 ..........................................\n",
      "[CV] hidden_layer_sizes=238 ..........................................\n",
      "[CV] hidden_layer_sizes=238 ..........................................\n",
      "[CV] hidden_layer_sizes=238 ..........................................\n",
      "[CV] hidden_layer_sizes=838 ..........................................\n",
      "[CV] hidden_layer_sizes=838 ..........................................\n",
      "[CV] hidden_layer_sizes=838 ..........................................\n",
      "[CV] hidden_layer_sizes=838 ..........................................\n",
      "[CV] hidden_layer_sizes=838 ..........................................\n",
      "[CV] hidden_layer_sizes=838 ..........................................\n",
      "[CV] hidden_layer_sizes=838 ..........................................\n",
      "[CV] hidden_layer_sizes=838 ..........................................\n",
      "[CV] hidden_layer_sizes=415 ..........................................\n",
      "[CV] hidden_layer_sizes=415 ..........................................\n",
      "[CV] hidden_layer_sizes=415 ..........................................\n",
      "[CV] hidden_layer_sizes=415 ..........................................\n",
      "[CV] hidden_layer_sizes=415 ..........................................\n",
      "[CV] hidden_layer_sizes=415 ..........................................\n",
      "[CV] hidden_layer_sizes=415 ..........................................\n",
      "[CV] hidden_layer_sizes=415 ..........................................\n",
      "[CV] hidden_layer_sizes=746 ..........................................\n",
      "[CV] hidden_layer_sizes=746 ..........................................\n",
      "[CV] hidden_layer_sizes=746 ..........................................\n",
      "[CV] hidden_layer_sizes=746 ..........................................\n",
      "[CV] hidden_layer_sizes=746 ..........................................\n",
      "[CV] hidden_layer_sizes=746 ..........................................\n",
      "[CV] hidden_layer_sizes=746 ..........................................\n",
      "[CV] hidden_layer_sizes=746 ..........................................\n",
      "[CV] hidden_layer_sizes=375 ..........................................\n",
      "[CV] hidden_layer_sizes=375 ..........................................\n",
      "[CV] hidden_layer_sizes=375 ..........................................\n",
      "[CV] hidden_layer_sizes=375 ..........................................\n",
      "[CV] hidden_layer_sizes=375 ..........................................\n",
      "[CV] hidden_layer_sizes=375 ..........................................\n",
      "[CV] hidden_layer_sizes=375 ..........................................\n",
      "[CV] hidden_layer_sizes=375 ..........................................\n",
      "[CV] hidden_layer_sizes=606 ..........................................\n",
      "[CV] hidden_layer_sizes=606 ..........................................\n",
      "[CV] hidden_layer_sizes=606 ..........................................\n",
      "[CV] hidden_layer_sizes=606 ..........................................\n",
      "[CV] hidden_layer_sizes=606 ..........................................\n",
      "[CV] hidden_layer_sizes=606 ..........................................\n",
      "[CV] hidden_layer_sizes=606 ..........................................\n",
      "[CV] hidden_layer_sizes=606 ..........................................\n",
      "[CV] hidden_layer_sizes=987 ..........................................\n",
      "[CV] hidden_layer_sizes=987 ..........................................\n",
      "[CV] hidden_layer_sizes=987 ..........................................\n",
      "[CV] hidden_layer_sizes=987 ..........................................\n",
      "[CV] hidden_layer_sizes=987 ..........................................\n",
      "[CV] hidden_layer_sizes=987 ..........................................\n",
      "[CV] hidden_layer_sizes=987 ..........................................\n",
      "[CV] hidden_layer_sizes=987 ..........................................\n",
      "[CV] hidden_layer_sizes=647 ..........................................\n",
      "[CV] hidden_layer_sizes=647 ..........................................\n",
      "[CV] hidden_layer_sizes=647 ..........................................\n",
      "[CV] hidden_layer_sizes=647 ..........................................\n",
      "[CV] hidden_layer_sizes=647 ..........................................\n",
      "[CV] hidden_layer_sizes=647 ..........................................\n",
      "[CV] hidden_layer_sizes=647 ..........................................\n",
      "[CV] hidden_layer_sizes=647 ..........................................\n",
      "[CV] hidden_layer_sizes=137 ..........................................\n",
      "[CV] hidden_layer_sizes=137 ..........................................\n",
      "[CV] hidden_layer_sizes=137 ..........................................\n",
      "[CV] hidden_layer_sizes=137 ..........................................\n",
      "[CV] hidden_layer_sizes=137 ..........................................\n",
      "[CV] hidden_layer_sizes=137 ..........................................\n",
      "[CV] hidden_layer_sizes=137 ..........................................\n",
      "[CV] hidden_layer_sizes=137 ..........................................\n",
      "[CV] hidden_layer_sizes=690 ..........................................\n",
      "[CV] hidden_layer_sizes=690 ..........................................\n",
      "[CV] hidden_layer_sizes=690 ..........................................\n",
      "[CV] hidden_layer_sizes=690 ..........................................\n",
      "[CV] hidden_layer_sizes=690 ..........................................\n",
      "[CV] hidden_layer_sizes=690 ..........................................\n",
      "[CV] hidden_layer_sizes=690 ..........................................\n",
      "[CV] hidden_layer_sizes=690 ..........................................\n",
      "[CV] hidden_layer_sizes=774 ..........................................\n",
      "[CV] hidden_layer_sizes=774 ..........................................\n",
      "[CV] hidden_layer_sizes=774 ..........................................\n",
      "[CV] hidden_layer_sizes=774 ..........................................\n",
      "[CV] hidden_layer_sizes=774 ..........................................\n",
      "[CV] hidden_layer_sizes=774 ..........................................\n",
      "[CV] hidden_layer_sizes=774 ..........................................\n",
      "[CV] hidden_layer_sizes=774 ..........................................\n",
      "[CV] hidden_layer_sizes=563 ..........................................\n",
      "[CV] hidden_layer_sizes=563 ..........................................\n",
      "[CV] hidden_layer_sizes=563 ..........................................\n",
      "[CV] hidden_layer_sizes=563 ..........................................\n",
      "[CV] hidden_layer_sizes=563 ..........................................\n",
      "[CV] hidden_layer_sizes=563 ..........................................\n",
      "[CV] hidden_layer_sizes=563 ..........................................\n",
      "[CV] hidden_layer_sizes=563 ..........................................\n",
      "[CV] hidden_layer_sizes=598 ..........................................\n",
      "[CV] hidden_layer_sizes=598 ..........................................\n",
      "[CV] hidden_layer_sizes=598 ..........................................\n",
      "[CV] hidden_layer_sizes=598 ..........................................\n",
      "[CV] .. hidden_layer_sizes=137, score=0.788672732977722, total=55.5min\n",
      "[CV] hidden_layer_sizes=598 ..........................................\n",
      "[CV] . hidden_layer_sizes=137, score=0.7505886046146601, total=57.2min\n",
      "[CV] hidden_layer_sizes=598 ..........................................\n",
      "[CV] . hidden_layer_sizes=137, score=0.9184185754628177, total=72.0min\n",
      "[CV] hidden_layer_sizes=598 ..........................................\n",
      "[CV] . hidden_layer_sizes=238, score=0.7963602133668026, total=80.5min\n",
      "[CV] hidden_layer_sizes=598 ..........................................\n",
      "[CV] . hidden_layer_sizes=137, score=0.9419334588826114, total=82.6min\n",
      "[CV] hidden_layer_sizes=360 ..........................................\n",
      "[CV] . hidden_layer_sizes=746, score=0.9345677075160834, total=84.3min\n",
      "[CV] hidden_layer_sizes=360 ..........................................\n",
      "[CV] . hidden_layer_sizes=137, score=0.9420813059174384, total=86.6min\n",
      "[CV] hidden_layer_sizes=360 ..........................................\n",
      "[CV] . hidden_layer_sizes=137, score=0.8742937853107344, total=94.4min\n",
      "[CV] hidden_layer_sizes=360 ..........................................\n",
      "[CV] . hidden_layer_sizes=238, score=0.8956207816669283, total=99.5min\n",
      "[CV] hidden_layer_sizes=360 ..........................................\n",
      "[CV]  hidden_layer_sizes=238, score=0.9176341386884217, total=100.7min\n",
      "[CV] hidden_layer_sizes=360 ..........................................\n",
      "[CV]  hidden_layer_sizes=415, score=0.8015374960778161, total=101.6min\n",
      "[CV] hidden_layer_sizes=360 ..........................................\n",
      "[CV]  hidden_layer_sizes=137, score=0.9311156441236467, total=106.0min\n",
      "[CV] hidden_layer_sizes=360 ..........................................\n",
      "[CV]  hidden_layer_sizes=238, score=0.9311156441236467, total=108.6min\n",
      "[CV] hidden_layer_sizes=781 ..........................................\n",
      "[CV]  hidden_layer_sizes=415, score=0.9174772513335425, total=109.9min\n",
      "[CV] hidden_layer_sizes=781 ..........................................\n",
      "[CV]  hidden_layer_sizes=238, score=0.9450721908349027, total=113.2min\n",
      "[CV] hidden_layer_sizes=781 ..........................................\n",
      "[CV]  hidden_layer_sizes=238, score=0.7465076126196829, total=115.6min\n",
      "[CV] hidden_layer_sizes=781 ..........................................\n",
      "[CV]  hidden_layer_sizes=746, score=0.8890458254865035, total=115.6min\n",
      "[CV] hidden_layer_sizes=781 ..........................................\n",
      "[CV]  hidden_layer_sizes=137, score=0.8522762951334379, total=117.7min\n",
      "[CV] hidden_layer_sizes=781 ..........................................\n",
      "[CV]  hidden_layer_sizes=238, score=0.8449466415568111, total=118.3min\n",
      "[CV] hidden_layer_sizes=781 ..........................................\n",
      "[CV] . hidden_layer_sizes=598, score=0.806244116724192, total=117.6min\n",
      "[CV] hidden_layer_sizes=781 ..........................................\n",
      "[CV]  hidden_layer_sizes=375, score=0.9461707470182047, total=118.3min\n",
      "[CV] hidden_layer_sizes=993 ..........................................\n",
      "[CV]  hidden_layer_sizes=690, score=0.9184185754628177, total=117.9min\n",
      "[CV] hidden_layer_sizes=993 ..........................................\n",
      "[CV]  hidden_layer_sizes=598, score=0.9441305712492153, total=118.9min\n",
      "[CV] hidden_layer_sizes=993 ..........................................\n",
      "[CV]  hidden_layer_sizes=238, score=0.8601255886970173, total=123.1min\n",
      "[CV] hidden_layer_sizes=993 ..........................................\n",
      "[CV] . hidden_layer_sizes=647, score=0.746821535080835, total=122.5min\n",
      "[CV] hidden_layer_sizes=993 ..........................................\n",
      "[CV]  hidden_layer_sizes=375, score=0.9179479133981802, total=124.6min\n",
      "[CV] hidden_layer_sizes=993 ..........................................\n",
      "[CV]  hidden_layer_sizes=375, score=0.7979290869155946, total=136.4min\n"
     ]
    },
    {
     "name": "stderr",
     "output_type": "stream",
     "text": [
      "[Parallel(n_jobs=100)]: Done  27 out of 160 | elapsed: 136.9min remaining: 674.4min\n"
     ]
    },
    {
     "name": "stdout",
     "output_type": "stream",
     "text": [
      "[CV] hidden_layer_sizes=993 ..........................................\n",
      "[CV]  hidden_layer_sizes=647, score=0.8107938500156887, total=138.5min\n",
      "[CV] hidden_layer_sizes=993 ..........................................\n",
      "[CV]  hidden_layer_sizes=563, score=0.9182616881079385, total=140.1min\n",
      "[CV] hidden_layer_sizes=151 ..........................................\n",
      "[CV]  hidden_layer_sizes=375, score=0.8927954795165595, total=145.0min\n",
      "[CV] hidden_layer_sizes=151 ..........................................\n",
      "[CV]  hidden_layer_sizes=375, score=0.8640929064657878, total=145.8min\n",
      "[CV] hidden_layer_sizes=151 ..........................................\n",
      "[CV]  hidden_layer_sizes=647, score=0.9329775545440276, total=145.9min\n",
      "[CV] hidden_layer_sizes=151 ..........................................\n",
      "[CV]  hidden_layer_sizes=415, score=0.7469784963114111, total=147.2min\n",
      "[CV] hidden_layer_sizes=151 ..........................................\n",
      "[CV]  hidden_layer_sizes=563, score=0.9348815314608505, total=146.7min\n",
      "[CV] hidden_layer_sizes=151 ..........................................\n",
      "[CV] .. hidden_layer_sizes=598, score=0.84591244311941, total=147.3min\n",
      "[CV] hidden_layer_sizes=151 ..........................................\n",
      "[CV]  hidden_layer_sizes=774, score=0.9181048007530593, total=147.6min\n",
      "[CV] hidden_layer_sizes=151 ..........................................\n",
      "[CV]  hidden_layer_sizes=774, score=0.7880451835582052, total=147.9min\n",
      "[CV] hidden_layer_sizes=703 ..........................................\n",
      "[CV]  hidden_layer_sizes=375, score=0.8351648351648352, total=151.5min\n",
      "[CV] hidden_layer_sizes=703 ..........................................\n",
      "[CV]  hidden_layer_sizes=690, score=0.8891853712133103, total=151.0min\n",
      "[CV] hidden_layer_sizes=703 ..........................................\n",
      "[CV]  hidden_layer_sizes=746, score=0.9177910260433009, total=152.5min\n",
      "[CV] hidden_layer_sizes=703 ..........................................\n",
      "[CV]  hidden_layer_sizes=606, score=0.9453860640301318, total=154.5min\n",
      "[CV] hidden_layer_sizes=703 ..........................................\n",
      "[CV] . hidden_layer_sizes=415, score=0.934724619488467, total=155.2min\n",
      "[CV] hidden_layer_sizes=703 ..........................................\n",
      "[CV]  hidden_layer_sizes=606, score=0.8563579277864992, total=157.3min\n",
      "[CV] hidden_layer_sizes=703 ..........................................\n",
      "[CV]  hidden_layer_sizes=415, score=0.9466415568110483, total=157.7min\n",
      "[CV] hidden_layer_sizes=703 ..........................................\n",
      "[CV]  hidden_layer_sizes=690, score=0.7951051145277691, total=158.4min\n",
      "[CV] hidden_layer_sizes=909 ..........................................\n",
      "[CV]  hidden_layer_sizes=690, score=0.9409918392969241, total=159.2min\n",
      "[CV] hidden_layer_sizes=909 ..........................................\n",
      "[CV]  hidden_layer_sizes=690, score=0.9279774046759768, total=160.4min\n",
      "[CV] hidden_layer_sizes=909 ..........................................\n",
      "[CV] . hidden_layer_sizes=360, score=0.9182616881079385, total=75.8min\n",
      "[CV] hidden_layer_sizes=909 ..........................................\n",
      "[CV]  hidden_layer_sizes=415, score=0.8191522762951334, total=167.2min\n",
      "[CV] hidden_layer_sizes=909 ..........................................\n",
      "[CV]  hidden_layer_sizes=415, score=0.8179535467671061, total=167.4min\n",
      "[CV] hidden_layer_sizes=909 ..........................................\n",
      "[CV] . hidden_layer_sizes=690, score=0.869428750784683, total=167.8min\n",
      "[CV] hidden_layer_sizes=909 ..........................................\n",
      "[CV]  hidden_layer_sizes=647, score=0.9181048007530593, total=169.5min\n",
      "[CV] hidden_layer_sizes=909 ..........................................\n",
      "[CV]  hidden_layer_sizes=774, score=0.7469784963114111, total=170.2min\n",
      "[CV] hidden_layer_sizes=676 ..........................................\n",
      "[CV]  hidden_layer_sizes=563, score=0.7988704110448698, total=171.1min\n",
      "[CV] hidden_layer_sizes=676 ..........................................\n",
      "[CV]  hidden_layer_sizes=746, score=0.9444444444444444, total=171.5min\n",
      "[CV]  hidden_layer_sizes=838, score=0.9475831763967357, total=171.4min\n",
      "[CV] hidden_layer_sizes=676 ..........................................\n",
      "[CV] hidden_layer_sizes=676 ..........................................\n",
      "[CV]  hidden_layer_sizes=606, score=0.9184185754628177, total=172.0min\n",
      "[CV] hidden_layer_sizes=676 ..........................................\n",
      "[CV]  hidden_layer_sizes=375, score=0.7493329147700518, total=174.2min\n",
      "[CV] hidden_layer_sizes=676 ..........................................\n",
      "[CV]  hidden_layer_sizes=746, score=0.8164417947913398, total=174.9min\n",
      "[CV] hidden_layer_sizes=676 ..........................................\n",
      "[CV]  hidden_layer_sizes=415, score=0.8899701773661906, total=175.6min\n"
     ]
    },
    {
     "name": "stderr",
     "output_type": "stream",
     "text": [
      "[Parallel(n_jobs=100)]: Done  60 out of 160 | elapsed: 176.0min remaining: 293.4min\n"
     ]
    },
    {
     "name": "stdout",
     "output_type": "stream",
     "text": [
      "[CV] hidden_layer_sizes=676 ..........................................\n",
      "[CV] . hidden_layer_sizes=375, score=0.934096971598933, total=175.9min\n",
      "[CV]  hidden_layer_sizes=598, score=0.9185754628176969, total=175.8min\n",
      "[CV]  hidden_layer_sizes=647, score=0.8441130298273155, total=176.4min\n",
      "[CV]  hidden_layer_sizes=647, score=0.9328416758198651, total=178.7min\n",
      "[CV]  hidden_layer_sizes=987, score=0.9439736346516008, total=180.6min\n",
      "[CV]  hidden_layer_sizes=606, score=0.7443101553916183, total=181.3min\n",
      "[CV]  hidden_layer_sizes=987, score=0.9174772513335425, total=182.2min\n",
      "[CV]  hidden_layer_sizes=598, score=0.9301522523936587, total=110.4min\n",
      "[CV]  hidden_layer_sizes=774, score=0.8475667189952905, total=182.8min\n",
      "[CV]  hidden_layer_sizes=606, score=0.8174827369742624, total=183.9min\n",
      "[CV]  hidden_layer_sizes=690, score=0.7455658452362266, total=184.4min\n",
      "[CV]  hidden_layer_sizes=606, score=0.9317432920131806, total=185.4min\n",
      "[CV]  hidden_layer_sizes=647, score=0.8455743879472694, total=187.1min\n",
      "[CV]  hidden_layer_sizes=838, score=0.9168497019140257, total=188.7min\n",
      "[CV]  hidden_layer_sizes=598, score=0.8700564971751412, total=136.1min\n",
      "[CV]  hidden_layer_sizes=563, score=0.9469554300062775, total=191.8min\n",
      "[CV]  hidden_layer_sizes=987, score=0.9320571159579476, total=192.9min\n",
      "[CV]  hidden_layer_sizes=838, score=0.8458398744113029, total=194.4min\n",
      "[CV]  hidden_layer_sizes=746, score=0.9183801601004552, total=194.7min\n",
      "[CV]  hidden_layer_sizes=746, score=0.7471354575419872, total=194.9min\n",
      "[CV]  hidden_layer_sizes=563, score=0.7490189923088997, total=198.1min\n",
      "[CV]  hidden_layer_sizes=647, score=0.9464846202134338, total=198.7min\n",
      "[CV]  hidden_layer_sizes=563, score=0.8367346938775511, total=198.8min\n",
      "[CV]  hidden_layer_sizes=774, score=0.8664469554300063, total=199.5min\n",
      "[CV]  hidden_layer_sizes=774, score=0.9431889516635279, total=200.3min\n",
      "[CV]  hidden_layer_sizes=563, score=0.8938942081305917, total=200.7min\n",
      "[CV] .. hidden_layer_sizes=151, score=0.746821535080835, total=56.0min\n",
      "[CV]  hidden_layer_sizes=360, score=0.9306449082064961, total=116.8min\n",
      "[CV] . hidden_layer_sizes=563, score=0.835216572504708, total=203.6min\n",
      "[CV] . hidden_layer_sizes=151, score=0.9336262356817825, total=58.4min\n",
      "[CV]  hidden_layer_sizes=987, score=0.7460367289279548, total=205.0min\n",
      "[CV]  hidden_layer_sizes=360, score=0.8790018832391714, total=107.8min\n",
      "[CV] . hidden_layer_sizes=151, score=0.9427181418706843, total=61.0min\n"
     ]
    },
    {
     "name": "stderr",
     "output_type": "stream",
     "text": [
      "[Parallel(n_jobs=100)]: Done  93 out of 160 | elapsed: 207.9min remaining: 149.8min\n"
     ]
    },
    {
     "name": "stdout",
     "output_type": "stream",
     "text": [
      "[CV]  hidden_layer_sizes=606, score=0.7896140571069972, total=207.6min\n",
      "[CV] . hidden_layer_sizes=151, score=0.9177910260433009, total=62.6min\n",
      "[CV]  hidden_layer_sizes=987, score=0.9273269502432899, total=210.2min\n",
      "[CV]  hidden_layer_sizes=360, score=0.7842798870411045, total=129.2min\n",
      "[CV] . hidden_layer_sizes=151, score=0.8145591465327895, total=73.2min\n",
      "[CV]  hidden_layer_sizes=606, score=0.8942081305917439, total=214.9min\n",
      "[CV]  hidden_layer_sizes=838, score=0.8220338983050848, total=216.4min\n",
      "[CV] . hidden_layer_sizes=838, score=0.746664573850259, total=217.3min\n",
      "[CV]  hidden_layer_sizes=360, score=0.9332914770051797, total=116.1min\n",
      "[CV] . hidden_layer_sizes=781, score=0.922642397614938, total=105.3min\n",
      "[CV]  hidden_layer_sizes=598, score=0.7449380003139224, total=162.0min\n",
      "[CV] .. hidden_layer_sizes=151, score=0.864406779661017, total=72.5min\n",
      "[CV]  hidden_layer_sizes=360, score=0.7494898760006279, total=119.6min\n",
      "[CV]  hidden_layer_sizes=360, score=0.9461707470182047, total=126.8min\n",
      "[CV] . hidden_layer_sizes=151, score=0.8998587348924816, total=74.3min\n",
      "[CV]  hidden_layer_sizes=774, score=0.9315863800407971, total=222.8min\n",
      "[CV] .. hidden_layer_sizes=151, score=0.865149136577708, total=74.8min\n",
      "[CV]  hidden_layer_sizes=987, score=0.8343799058084772, total=223.0min\n",
      "[CV]  hidden_layer_sizes=987, score=0.8504394224733208, total=223.5min\n",
      "[CV]  hidden_layer_sizes=690, score=0.8343799058084772, total=223.6min\n",
      "[CV]  hidden_layer_sizes=360, score=0.8480376766091052, total=118.8min\n",
      "[CV]  hidden_layer_sizes=987, score=0.8206777533730781, total=226.0min\n",
      "[CV]  hidden_layer_sizes=838, score=0.8894992936744625, total=227.1min\n",
      "[CV]  hidden_layer_sizes=746, score=0.8237048665620095, total=227.3min\n",
      "[CV] . hidden_layer_sizes=598, score=0.849607535321821, total=147.3min\n",
      "[CV]  hidden_layer_sizes=781, score=0.8772370486656201, total=111.2min\n",
      "[CV]  hidden_layer_sizes=774, score=0.8742740543085857, total=230.4min\n",
      "[CV] . hidden_layer_sizes=676, score=0.7740822089739567, total=60.0min\n",
      "[CV] . hidden_layer_sizes=781, score=0.871939736346516, total=115.7min\n",
      "[CV]  hidden_layer_sizes=838, score=0.8046752431754001, total=232.7min\n",
      "[CV]  hidden_layer_sizes=838, score=0.9273497567864428, total=233.8min\n",
      "[CV]  hidden_layer_sizes=781, score=0.7921242547850643, total=127.4min\n",
      "[CV] . hidden_layer_sizes=703, score=0.8117351741449639, total=90.6min\n"
     ]
    },
    {
     "name": "stderr",
     "output_type": "stream",
     "text": [
      "[Parallel(n_jobs=100)]: Done 126 out of 160 | elapsed: 239.9min remaining: 64.7min\n"
     ]
    },
    {
     "name": "stdout",
     "output_type": "stream",
     "text": [
      "[CV]  hidden_layer_sizes=993, score=0.9174772513335425, total=121.7min\n",
      "[CV]  hidden_layer_sizes=993, score=0.8581293157564344, total=117.5min\n",
      "[CV]  hidden_layer_sizes=781, score=0.7465076126196829, total=124.0min\n",
      "[CV]  hidden_layer_sizes=781, score=0.9438166980539862, total=129.4min\n",
      "[CV]  hidden_layer_sizes=781, score=0.9348610893109403, total=127.2min\n",
      "[CV] . hidden_layer_sizes=703, score=0.9303310842617292, total=94.2min\n",
      "[CV]  hidden_layer_sizes=781, score=0.9177910260433009, total=136.7min\n",
      "[CV] . hidden_layer_sizes=676, score=0.9450721908349027, total=76.2min\n",
      "[CV] . hidden_layer_sizes=993, score=0.944601381042059, total=126.3min\n",
      "[CV]  hidden_layer_sizes=993, score=0.7947913398180106, total=131.0min\n",
      "[CV]  hidden_layer_sizes=993, score=0.8532182103610675, total=110.5min\n",
      "[CV] . hidden_layer_sizes=909, score=0.8981641299231131, total=89.4min\n",
      "[CV] . hidden_layer_sizes=703, score=0.7479202636948674, total=95.8min\n",
      "[CV] . hidden_layer_sizes=909, score=0.9176341386884217, total=91.3min\n",
      "[CV]  hidden_layer_sizes=703, score=0.9185754628176969, total=100.4min\n",
      "[CV] . hidden_layer_sizes=909, score=0.7441531941610422, total=85.6min\n",
      "[CV] .. hidden_layer_sizes=676, score=0.864406779661017, total=80.9min\n",
      "[CV] . hidden_layer_sizes=676, score=0.8970334327421127, total=77.9min\n",
      "[CV] . hidden_layer_sizes=676, score=0.7450949615444985, total=79.1min\n",
      "[CV] . hidden_layer_sizes=676, score=0.9177910260433009, total=81.7min\n",
      "[CV] . hidden_layer_sizes=909, score=0.9463276836158192, total=93.3min\n",
      "[CV]  hidden_layer_sizes=993, score=0.9262513729797583, total=135.4min\n",
      "[CV] . hidden_layer_sizes=703, score=0.946798493408663, total=102.3min\n",
      "[CV] . hidden_layer_sizes=909, score=0.8554160125588697, total=85.4min\n",
      "[CV]  hidden_layer_sizes=703, score=0.7934714375392341, total=100.5min\n",
      "[CV] .. hidden_layer_sizes=909, score=0.793379353624098, total=96.4min\n",
      "[CV] .. hidden_layer_sizes=703, score=0.832182103610675, total=98.6min\n",
      "[CV] . hidden_layer_sizes=703, score=0.9321927483911474, total=98.9min\n",
      "[CV]  hidden_layer_sizes=993, score=0.8687804112384241, total=120.3min\n",
      "[CV] . hidden_layer_sizes=909, score=0.9227750745565845, total=88.5min\n",
      "[CV] . hidden_layer_sizes=909, score=0.8268989328311362, total=89.6min\n",
      "[CV]  hidden_layer_sizes=993, score=0.7436823104693141, total=132.3min\n",
      "[CV] . hidden_layer_sizes=676, score=0.8387755102040816, total=81.7min\n",
      "[CV] . hidden_layer_sizes=676, score=0.9276635807312098, total=85.5min\n"
     ]
    },
    {
     "name": "stderr",
     "output_type": "stream",
     "text": [
      "[Parallel(n_jobs=100)]: Done 160 out of 160 | elapsed: 257.8min finished\n"
     ]
    }
   ],
   "source": [
    "from sklearn.model_selection import RandomizedSearchCV\n",
    "\n",
    "random_search = dict((k,[]) for k in classifiers.keys())\n",
    "\n",
    "for clf in param_dist_dict.keys():\n",
    "    start = time()\n",
    "    random_search[clf] = RandomizedSearchCV(classifiers[clf], param_dist_dict[clf], cv=8, n_iter=20, verbose=5, n_jobs=100, scoring='accuracy')\n",
    "    random_search[clf].fit(data_std, data_label)\n",
    "    print('Elapsed time:')\n",
    "    print(time() - start)"
   ]
  },
  {
   "cell_type": "markdown",
   "metadata": {},
   "source": [
    "# Save all models"
   ]
  },
  {
   "cell_type": "code",
   "execution_count": null,
   "metadata": {},
   "outputs": [],
   "source": [
    "save_models(random_search)"
   ]
  },
  {
   "cell_type": "code",
   "execution_count": null,
   "metadata": {},
   "outputs": [],
   "source": [
    "os.system('shutdown')"
   ]
  },
  {
   "cell_type": "code",
   "execution_count": null,
   "metadata": {},
   "outputs": [],
   "source": [
    "u = random_search['MLP']"
   ]
  },
  {
   "cell_type": "code",
   "execution_count": null,
   "metadata": {},
   "outputs": [],
   "source": [
    "u.cv_results_"
   ]
  },
  {
   "cell_type": "code",
   "execution_count": null,
   "metadata": {},
   "outputs": [],
   "source": []
  }
 ],
 "metadata": {
  "kernelspec": {
   "display_name": "Python 3",
   "language": "python",
   "name": "python3"
  },
  "language_info": {
   "codemirror_mode": {
    "name": "ipython",
    "version": 3
   },
   "file_extension": ".py",
   "mimetype": "text/x-python",
   "name": "python",
   "nbconvert_exporter": "python",
   "pygments_lexer": "ipython3",
   "version": "3.6.4"
  }
 },
 "nbformat": 4,
 "nbformat_minor": 2
}
