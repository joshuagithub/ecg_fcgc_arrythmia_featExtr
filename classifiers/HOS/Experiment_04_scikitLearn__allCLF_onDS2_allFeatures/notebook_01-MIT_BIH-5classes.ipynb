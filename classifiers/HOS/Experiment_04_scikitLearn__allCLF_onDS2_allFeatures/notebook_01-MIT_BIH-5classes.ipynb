{
 "cells": [
  {
   "cell_type": "code",
   "execution_count": 1,
   "metadata": {
    "collapsed": true
   },
   "outputs": [],
   "source": [
    "import pandas as pd\n",
    "import numpy as np\n",
    "import matplotlib.pyplot as plt\n",
    "from sklearn import preprocessing\n",
    "from sklearn import metrics\n",
    "import os\n",
    "\n",
    "from experiment import *"
   ]
  },
  {
   "cell_type": "markdown",
   "metadata": {},
   "source": [
    "# Load data ** Chose your path before get stated **"
   ]
  },
  {
   "cell_type": "code",
   "execution_count": 2,
   "metadata": {},
   "outputs": [],
   "source": [
    "path = os.getcwd()\n",
    "rootDir, _ = path.split('ECG-Arritmia-Paper1')\n",
    "path = 'ECG-Arritmia-Paper1/Database_extracted/Dataset_with_features'\n",
    "filename = 'MIT-BIH__DS2_5classes__HOS.csv'\n",
    "dataset = pd.read_csv(os.path.join(rootDir, path, filename));"
   ]
  },
  {
   "cell_type": "code",
   "execution_count": 3,
   "metadata": {},
   "outputs": [
    {
     "data": {
      "text/html": [
       "<div>\n",
       "<style>\n",
       "    .dataframe thead tr:only-child th {\n",
       "        text-align: right;\n",
       "    }\n",
       "\n",
       "    .dataframe thead th {\n",
       "        text-align: left;\n",
       "    }\n",
       "\n",
       "    .dataframe tbody tr th {\n",
       "        vertical-align: top;\n",
       "    }\n",
       "</style>\n",
       "<table border=\"1\" class=\"dataframe\">\n",
       "  <thead>\n",
       "    <tr style=\"text-align: right;\">\n",
       "      <th></th>\n",
       "      <th>Var1</th>\n",
       "      <th>Var2</th>\n",
       "      <th>Var3</th>\n",
       "      <th>Var4</th>\n",
       "      <th>Var5</th>\n",
       "    </tr>\n",
       "  </thead>\n",
       "  <tbody>\n",
       "    <tr>\n",
       "      <th>0</th>\n",
       "      <td>2.446053</td>\n",
       "      <td>7.846482</td>\n",
       "      <td>0.093240</td>\n",
       "      <td>0.314395</td>\n",
       "      <td>0</td>\n",
       "    </tr>\n",
       "    <tr>\n",
       "      <th>1</th>\n",
       "      <td>2.176216</td>\n",
       "      <td>6.415745</td>\n",
       "      <td>0.137092</td>\n",
       "      <td>0.374975</td>\n",
       "      <td>0</td>\n",
       "    </tr>\n",
       "    <tr>\n",
       "      <th>2</th>\n",
       "      <td>2.538046</td>\n",
       "      <td>8.297654</td>\n",
       "      <td>0.120240</td>\n",
       "      <td>0.345023</td>\n",
       "      <td>0</td>\n",
       "    </tr>\n",
       "    <tr>\n",
       "      <th>3</th>\n",
       "      <td>2.404289</td>\n",
       "      <td>7.785422</td>\n",
       "      <td>0.113537</td>\n",
       "      <td>0.334310</td>\n",
       "      <td>0</td>\n",
       "    </tr>\n",
       "    <tr>\n",
       "      <th>4</th>\n",
       "      <td>2.586671</td>\n",
       "      <td>8.616374</td>\n",
       "      <td>0.094578</td>\n",
       "      <td>0.305428</td>\n",
       "      <td>0</td>\n",
       "    </tr>\n",
       "  </tbody>\n",
       "</table>\n",
       "</div>"
      ],
      "text/plain": [
       "       Var1      Var2      Var3      Var4  Var5\n",
       "0  2.446053  7.846482  0.093240  0.314395     0\n",
       "1  2.176216  6.415745  0.137092  0.374975     0\n",
       "2  2.538046  8.297654  0.120240  0.345023     0\n",
       "3  2.404289  7.785422  0.113537  0.334310     0\n",
       "4  2.586671  8.616374  0.094578  0.305428     0"
      ]
     },
     "execution_count": 3,
     "metadata": {},
     "output_type": "execute_result"
    }
   ],
   "source": [
    "dataset.head()"
   ]
  },
  {
   "cell_type": "code",
   "execution_count": 4,
   "metadata": {},
   "outputs": [
    {
     "data": {
      "text/plain": [
       "(49668, 5)"
      ]
     },
     "execution_count": 4,
     "metadata": {},
     "output_type": "execute_result"
    }
   ],
   "source": [
    "dataset.shape"
   ]
  },
  {
   "cell_type": "markdown",
   "metadata": {},
   "source": [
    "# Data preprocessing"
   ]
  },
  {
   "cell_type": "markdown",
   "metadata": {},
   "source": [
    "In this step we are going standardize our dataset. The pipeline.pkl will be loaded, and it contains the weights of normalization onf DS1 set."
   ]
  },
  {
   "cell_type": "code",
   "execution_count": 8,
   "metadata": {},
   "outputs": [],
   "source": [
    "from sklearn.preprocessing import StandardScaler\n",
    "\n",
    "std_scaler = StandardScaler()\n",
    "\n",
    "data_std = std_scaler.fit_transform(dataset.values[:,:-1])\n",
    "data_label = dataset.values[:,-1]"
   ]
  },
  {
   "cell_type": "markdown",
   "metadata": {},
   "source": [
    "# Load classifiers"
   ]
  },
  {
   "cell_type": "code",
   "execution_count": 13,
   "metadata": {},
   "outputs": [],
   "source": [
    "from sklearn.externals import joblib\n",
    "\n",
    "random_search_SVM = joblib.load('./Models/classifiers_SVM.pkl')\n",
    "random_search_MLP = joblib.load('./Models/classifiers_MLP.pkl')"
   ]
  },
  {
   "cell_type": "code",
   "execution_count": 14,
   "metadata": {},
   "outputs": [],
   "source": [
    "svm_clf = random_search_SVM['SVM-RBF'].best_estimator_\n",
    "mlp_clf = random_search_MLP['MLP'].best_estimator_"
   ]
  },
  {
   "cell_type": "code",
   "execution_count": 15,
   "metadata": {},
   "outputs": [
    {
     "data": {
      "text/plain": [
       "GaussianNB(priors=None)"
      ]
     },
     "execution_count": 15,
     "metadata": {},
     "output_type": "execute_result"
    }
   ],
   "source": [
    "from sklearn.naive_bayes import GaussianNB\n",
    "\n",
    "bayes_clf = GaussianNB()\n",
    "bayes_clf.fit(data_std, data_label)"
   ]
  },
  {
   "cell_type": "code",
   "execution_count": 16,
   "metadata": {},
   "outputs": [],
   "source": [
    "classifiers = {'MLP-781': mlp_clf, 'SVM-RBF': svm_clf, 'Naive-Bayes': bayes_clf}"
   ]
  },
  {
   "cell_type": "markdown",
   "metadata": {},
   "source": [
    "# **TEST** on DS2 set"
   ]
  },
  {
   "cell_type": "code",
   "execution_count": null,
   "metadata": {},
   "outputs": [
    {
     "name": "stdout",
     "output_type": "stream",
     "text": [
      "MLP-781\n",
      "SVM-RBF\n"
     ]
    }
   ],
   "source": [
    "clf_outputs = {'true': dict((k, {}) for k in classifiers.keys()), \n",
    "               'pred': dict((k, {}) for k in classifiers.keys())}\n",
    "results = dict((k, {}) for k in classifiers.keys())\n",
    "\n",
    "for clf in classifiers.keys():\n",
    "    clf_outputs['true'][clf][0] = data_label\n",
    "    clf_outputs['pred'][clf][0] = classifiers[clf].predict(data_std)\n",
    "    print(clf)    \n",
    "\n",
    "results = results_clf(5, clf_outputs['true'], clf_outputs['pred'])"
   ]
  },
  {
   "cell_type": "markdown",
   "metadata": {},
   "source": [
    "# Save results to CSVs and figures"
   ]
  },
  {
   "cell_type": "code",
   "execution_count": 26,
   "metadata": {},
   "outputs": [
    {
     "name": "stdout",
     "output_type": "stream",
     "text": [
      "MLP-238\n",
      "SVM-RBF\n",
      "Naive-Bayes\n"
     ]
    },
    {
     "name": "stderr",
     "output_type": "stream",
     "text": [
      "/media/navar/LargeData/Navar/Dados_diversos/ECG-01-paper_01/ECG-Arritmia-Paper1/Results_Navar/Goertzel/Experiment_06_scikitLearn__allCLF_onDS2_allFeatures/experiment.py:286: RuntimeWarning: invalid value encountered in true_divide\n",
      "  return np.around((confMat / np.sum(confMat,axis=1)[:,None])*100,2)\n"
     ]
    }
   ],
   "source": [
    "export_results(results, 'validation')"
   ]
  },
  {
   "cell_type": "code",
   "execution_count": null,
   "metadata": {},
   "outputs": [],
   "source": []
  }
 ],
 "metadata": {
  "kernelspec": {
   "display_name": "Python 3",
   "language": "python",
   "name": "python3"
  },
  "language_info": {
   "codemirror_mode": {
    "name": "ipython",
    "version": 3
   },
   "file_extension": ".py",
   "mimetype": "text/x-python",
   "name": "python",
   "nbconvert_exporter": "python",
   "pygments_lexer": "ipython3",
   "version": "3.6.2"
  }
 },
 "nbformat": 4,
 "nbformat_minor": 2
}
