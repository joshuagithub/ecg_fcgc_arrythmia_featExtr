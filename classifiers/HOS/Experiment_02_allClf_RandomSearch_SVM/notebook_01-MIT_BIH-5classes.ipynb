{
 "cells": [
  {
   "cell_type": "code",
   "execution_count": 1,
   "metadata": {},
   "outputs": [],
   "source": [
    "import pandas as pd\n",
    "import numpy as np\n",
    "import matplotlib.pyplot as plt\n",
    "from sklearn import preprocessing\n",
    "from sklearn import metrics\n",
    "import os\n",
    "\n",
    "from time import time\n",
    "from experiment import *"
   ]
  },
  {
   "cell_type": "markdown",
   "metadata": {},
   "source": [
    "# Load data ** Chose your path before get stated **"
   ]
  },
  {
   "cell_type": "code",
   "execution_count": 2,
   "metadata": {},
   "outputs": [],
   "source": [
    "path = os.getcwd()\n",
    "rootDir, _ = path.split('ECG-Arritmia-Paper1')\n",
    "path = 'ECG-Arritmia-Paper1/Database_extracted/Dataset_with_features'\n",
    "filename = 'MIT-BIH__DS1_5classes__HOS.csv'\n",
    "dataset = pd.read_csv(os.path.join(rootDir, path, filename));"
   ]
  },
  {
   "cell_type": "code",
   "execution_count": 3,
   "metadata": {},
   "outputs": [
    {
     "data": {
      "text/html": [
       "<div>\n",
       "<style>\n",
       "    .dataframe thead tr:only-child th {\n",
       "        text-align: right;\n",
       "    }\n",
       "\n",
       "    .dataframe thead th {\n",
       "        text-align: left;\n",
       "    }\n",
       "\n",
       "    .dataframe tbody tr th {\n",
       "        vertical-align: top;\n",
       "    }\n",
       "</style>\n",
       "<table border=\"1\" class=\"dataframe\">\n",
       "  <thead>\n",
       "    <tr style=\"text-align: right;\">\n",
       "      <th></th>\n",
       "      <th>Var1</th>\n",
       "      <th>Var2</th>\n",
       "      <th>Var3</th>\n",
       "      <th>Var4</th>\n",
       "      <th>Var5</th>\n",
       "    </tr>\n",
       "  </thead>\n",
       "  <tbody>\n",
       "    <tr>\n",
       "      <th>0</th>\n",
       "      <td>2.466699</td>\n",
       "      <td>8.076415</td>\n",
       "      <td>0.130942</td>\n",
       "      <td>0.365797</td>\n",
       "      <td>0</td>\n",
       "    </tr>\n",
       "    <tr>\n",
       "      <th>1</th>\n",
       "      <td>2.388250</td>\n",
       "      <td>7.647216</td>\n",
       "      <td>0.118878</td>\n",
       "      <td>0.351855</td>\n",
       "      <td>0</td>\n",
       "    </tr>\n",
       "    <tr>\n",
       "      <th>2</th>\n",
       "      <td>2.270058</td>\n",
       "      <td>7.048029</td>\n",
       "      <td>0.147898</td>\n",
       "      <td>0.403758</td>\n",
       "      <td>0</td>\n",
       "    </tr>\n",
       "    <tr>\n",
       "      <th>3</th>\n",
       "      <td>2.235512</td>\n",
       "      <td>6.838190</td>\n",
       "      <td>0.157496</td>\n",
       "      <td>0.395403</td>\n",
       "      <td>0</td>\n",
       "    </tr>\n",
       "    <tr>\n",
       "      <th>4</th>\n",
       "      <td>2.269395</td>\n",
       "      <td>6.948087</td>\n",
       "      <td>0.165563</td>\n",
       "      <td>0.403978</td>\n",
       "      <td>0</td>\n",
       "    </tr>\n",
       "  </tbody>\n",
       "</table>\n",
       "</div>"
      ],
      "text/plain": [
       "       Var1      Var2      Var3      Var4  Var5\n",
       "0  2.466699  8.076415  0.130942  0.365797     0\n",
       "1  2.388250  7.647216  0.118878  0.351855     0\n",
       "2  2.270058  7.048029  0.147898  0.403758     0\n",
       "3  2.235512  6.838190  0.157496  0.395403     0\n",
       "4  2.269395  6.948087  0.165563  0.403978     0"
      ]
     },
     "execution_count": 3,
     "metadata": {},
     "output_type": "execute_result"
    }
   ],
   "source": [
    "dataset.head()"
   ]
  },
  {
   "cell_type": "markdown",
   "metadata": {},
   "source": [
    "# Data preprocessing"
   ]
  },
  {
   "cell_type": "markdown",
   "metadata": {},
   "source": [
    "In this step we are going standardize our dataset."
   ]
  },
  {
   "cell_type": "code",
   "execution_count": 4,
   "metadata": {},
   "outputs": [],
   "source": [
    "from sklearn.preprocessing import StandardScaler\n",
    "\n",
    "std_scaler = StandardScaler()"
   ]
  },
  {
   "cell_type": "markdown",
   "metadata": {},
   "source": [
    "Separete features from labels."
   ]
  },
  {
   "cell_type": "code",
   "execution_count": 5,
   "metadata": {},
   "outputs": [],
   "source": [
    "data_std = std_scaler.fit_transform(dataset.values[:,:-1])\n",
    "data_label = dataset.values[:,-1]"
   ]
  },
  {
   "cell_type": "markdown",
   "metadata": {},
   "source": [
    "# Classifiers specifications"
   ]
  },
  {
   "cell_type": "code",
   "execution_count": 6,
   "metadata": {},
   "outputs": [],
   "source": [
    "# Kernel-based models\n",
    "from sklearn.svm import SVC\n",
    "\n",
    "##### Model pre-loadings:\n",
    "\n",
    "# SVM\n",
    "svm_rbf_clf = SVC(kernel='rbf')"
   ]
  },
  {
   "cell_type": "markdown",
   "metadata": {},
   "source": [
    "## Hyperameter tunning by randomized search:"
   ]
  },
  {
   "cell_type": "markdown",
   "metadata": {},
   "source": [
    "Classifiers definitions:"
   ]
  },
  {
   "cell_type": "code",
   "execution_count": 7,
   "metadata": {},
   "outputs": [],
   "source": [
    "classifiers = {'SVM-RBF': svm_rbf_clf}"
   ]
  },
  {
   "cell_type": "markdown",
   "metadata": {},
   "source": [
    "Define param range for searching:"
   ]
  },
  {
   "cell_type": "code",
   "execution_count": 8,
   "metadata": {},
   "outputs": [],
   "source": [
    "param_dist_dict = {\n",
    "                   'SVM-RBF': {'gamma': np.logspace(-9, 3, 100), 'C': np.logspace(-2, 3, 100)},\n",
    "                  }"
   ]
  },
  {
   "cell_type": "code",
   "execution_count": null,
   "metadata": {},
   "outputs": [
    {
     "name": "stdout",
     "output_type": "stream",
     "text": [
      "Fitting 4 folds for each of 10 candidates, totalling 40 fits\n",
      "[CV] gamma=61.359072734131885, C=312.5715849688235 ...................\n",
      "[CV] gamma=61.359072734131885, C=312.5715849688235 ...................\n",
      "[CV] gamma=61.359072734131885, C=312.5715849688235 ...................\n",
      "[CV] gamma=61.359072734131885, C=312.5715849688235 ...................\n",
      "[CV] gamma=1.3219411484660286e-05, C=19.179102616724887 ..............\n",
      "[CV] gamma=1.3219411484660286e-05, C=19.179102616724887 ..............\n",
      "[CV] gamma=1.3219411484660286e-05, C=19.179102616724887 ..............\n",
      "[CV] gamma=1.3219411484660286e-05, C=19.179102616724887 ..............\n",
      "[CV] gamma=8.697490026177834e-08, C=0.6579332246575679 ...............\n",
      "[CV] gamma=8.697490026177834e-08, C=0.6579332246575679 ...............\n",
      "[CV]  gamma=8.697490026177834e-08, C=0.6579332246575679, score=0.8989407610827775, total= 2.7min\n",
      "[CV] gamma=8.697490026177834e-08, C=0.6579332246575679 ...............\n",
      "[CV]  gamma=8.697490026177834e-08, C=0.6579332246575679, score=0.8988702337988389, total= 2.8min\n",
      "[CV] gamma=8.697490026177834e-08, C=0.6579332246575679 ...............\n",
      "[CV]  gamma=1.3219411484660286e-05, C=19.179102616724887, score=0.8984699882306787, total= 3.0min\n",
      "[CV] gamma=1.519911082952933e-07, C=1.873817422860383 ................\n",
      "[CV]  gamma=1.3219411484660286e-05, C=19.179102616724887, score=0.8988702337988389, total= 3.1min\n",
      "[CV] gamma=1.519911082952933e-07, C=1.873817422860383 ................\n",
      "[CV]  gamma=1.3219411484660286e-05, C=19.179102616724887, score=0.8985404896421846, total= 3.2min\n",
      "[CV] gamma=1.519911082952933e-07, C=1.873817422860383 ................\n",
      "[CV]  gamma=1.3219411484660286e-05, C=19.179102616724887, score=0.8991524093548894, total= 3.3min\n",
      "[CV] gamma=1.519911082952933e-07, C=1.873817422860383 ................\n",
      "[CV]  gamma=8.697490026177834e-08, C=0.6579332246575679, score=0.898932831136221, total= 1.4min\n",
      "[CV] gamma=0.002009233002565046, C=21.544346900318846 ................\n",
      "[CV]  gamma=1.519911082952933e-07, C=1.873817422860383, score=0.8988702337988389, total= 1.5min\n",
      "[CV] gamma=0.002009233002565046, C=21.544346900318846 ................\n",
      "[CV]  gamma=8.697490026177834e-08, C=0.6579332246575679, score=0.8990739287396013, total= 1.6min\n",
      "[CV] gamma=0.002009233002565046, C=21.544346900318846 ................\n",
      "[CV]  gamma=1.519911082952933e-07, C=1.873817422860383, score=0.8989407610827775, total= 1.5min\n",
      "[CV] gamma=0.002009233002565046, C=21.544346900318846 ................\n",
      "[CV]  gamma=1.519911082952933e-07, C=1.873817422860383, score=0.898932831136221, total= 1.9min\n",
      "[CV] gamma=0.5336699231206302, C=97.70099572992247 ...................\n",
      "[CV]  gamma=1.519911082952933e-07, C=1.873817422860383, score=0.8990739287396013, total= 1.8min\n",
      "[CV] gamma=0.5336699231206302, C=97.70099572992247 ...................\n",
      "[CV]  gamma=0.002009233002565046, C=21.544346900318846, score=0.846853914953711, total= 1.7min\n",
      "[CV] gamma=0.5336699231206302, C=97.70099572992247 ...................\n",
      "[CV]  gamma=0.002009233002565046, C=21.544346900318846, score=0.9252079736305132, total= 1.7min\n",
      "[CV] gamma=0.5336699231206302, C=97.70099572992247 ...................\n",
      "[CV]  gamma=0.002009233002565046, C=21.544346900318846, score=0.9345625735582581, total= 2.1min\n",
      "[CV] gamma=2.310129700083158e-09, C=0.2915053062825176 ...............\n",
      "[CV]  gamma=0.5336699231206302, C=97.70099572992247, score=0.8594853287305821, total= 1.9min\n",
      "[CV] gamma=2.310129700083158e-09, C=0.2915053062825176 ...............\n",
      "[CV]  gamma=0.002009233002565046, C=21.544346900318846, score=0.8531073446327684, total= 2.1min\n",
      "[CV] gamma=2.310129700083158e-09, C=0.2915053062825176 ...............\n",
      "[CV]  gamma=0.5336699231206302, C=97.70099572992247, score=0.6998823067869753, total= 3.1min\n",
      "[CV] gamma=2.310129700083158e-09, C=0.2915053062825176 ...............\n",
      "[CV]  gamma=0.5336699231206302, C=97.70099572992247, score=0.8860461466017894, total= 2.4min\n",
      "[CV] gamma=2.1544346900318866e-08, C=24.20128264794381 ...............\n",
      "[CV]  gamma=2.310129700083158e-09, C=0.2915053062825176, score=0.8989407610827775, total= 1.7min\n",
      "[CV] gamma=2.1544346900318866e-08, C=24.20128264794381 ...............\n",
      "[CV]  gamma=2.310129700083158e-09, C=0.2915053062825176, score=0.8988702337988389, total= 1.8min\n",
      "[CV] gamma=2.1544346900318866e-08, C=24.20128264794381 ...............\n",
      "[CV]  gamma=2.310129700083158e-09, C=0.2915053062825176, score=0.898932831136221, total= 1.7min\n",
      "[CV] gamma=2.1544346900318866e-08, C=24.20128264794381 ...............\n",
      "[CV]  gamma=0.5336699231206302, C=97.70099572992247, score=0.75808223477715, total= 3.1min\n",
      "[CV] gamma=3.5111917342151277e-07, C=247.70763559917089 ..............\n",
      "[CV]  gamma=61.359072734131885, C=312.5715849688235, score=0.8777272013812588, total=12.1min\n",
      "[CV] gamma=3.5111917342151277e-07, C=247.70763559917089 ..............\n",
      "[CV]  gamma=2.310129700083158e-09, C=0.2915053062825176, score=0.8990739287396013, total= 1.6min\n",
      "[CV] gamma=3.5111917342151277e-07, C=247.70763559917089 ..............\n",
      "[CV]  gamma=61.359072734131885, C=312.5715849688235, score=0.8327971753628874, total=12.5min\n",
      "[CV] gamma=3.5111917342151277e-07, C=247.70763559917089 ..............\n",
      "[CV]  gamma=2.1544346900318866e-08, C=24.20128264794381, score=0.8988702337988389, total= 1.7min\n",
      "[CV] gamma=0.13219411484660287, C=0.18307382802953678 ................\n",
      "[CV]  gamma=2.1544346900318866e-08, C=24.20128264794381, score=0.8989407610827775, total= 1.6min\n",
      "[CV] gamma=0.13219411484660287, C=0.18307382802953678 ................\n",
      "[CV]  gamma=2.1544346900318866e-08, C=24.20128264794381, score=0.898932831136221, total= 2.0min\n",
      "[CV] gamma=0.13219411484660287, C=0.18307382802953678 ................\n",
      "[CV]  gamma=3.5111917342151277e-07, C=247.70763559917089, score=0.8988702337988389, total= 2.1min\n",
      "[CV] gamma=0.13219411484660287, C=0.18307382802953678 ................\n"
     ]
    },
    {
     "name": "stderr",
     "output_type": "stream",
     "text": [
      "[Parallel(n_jobs=10)]: Done  30 out of  40 | elapsed: 16.1min remaining:  5.4min\n"
     ]
    },
    {
     "name": "stdout",
     "output_type": "stream",
     "text": [
      "[CV]  gamma=2.1544346900318866e-08, C=24.20128264794381, score=0.8990739287396013, total= 2.2min\n",
      "[CV]  gamma=61.359072734131885, C=312.5715849688235, score=0.7435655994978029, total=14.3min\n",
      "[CV]  gamma=3.5111917342151277e-07, C=247.70763559917089, score=0.8989407610827775, total= 2.2min\n"
     ]
    }
   ],
   "source": [
    "from sklearn.model_selection import RandomizedSearchCV\n",
    "\n",
    "random_search = dict((k,[]) for k in classifiers.keys())\n",
    "\n",
    "for clf in param_dist_dict.keys():\n",
    "    start = time()\n",
    "    random_search[clf] = RandomizedSearchCV(classifiers[clf], param_dist_dict[clf], cv=4, n_iter=10, verbose=5, n_jobs=10, scoring='accuracy')\n",
    "    random_search[clf].fit(data_std, data_label)\n",
    "    print('Elapsed time:')\n",
    "    print(time() - start)"
   ]
  },
  {
   "cell_type": "markdown",
   "metadata": {},
   "source": [
    "# Save all models"
   ]
  },
  {
   "cell_type": "code",
   "execution_count": null,
   "metadata": {},
   "outputs": [],
   "source": [
    "save_models(random_search)"
   ]
  }
 ],
 "metadata": {
  "kernelspec": {
   "display_name": "Python 3",
   "language": "python",
   "name": "python3"
  },
  "language_info": {
   "codemirror_mode": {
    "name": "ipython",
    "version": 3
   },
   "file_extension": ".py",
   "mimetype": "text/x-python",
   "name": "python",
   "nbconvert_exporter": "python",
   "pygments_lexer": "ipython3",
   "version": "3.6.2"
  }
 },
 "nbformat": 4,
 "nbformat_minor": 2
}
